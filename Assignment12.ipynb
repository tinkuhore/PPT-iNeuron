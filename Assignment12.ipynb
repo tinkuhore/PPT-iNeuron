{
 "cells": [
  {
   "attachments": {},
   "cell_type": "markdown",
   "metadata": {},
   "source": [
    "# 💡 **Question 1**\n",
    "\n",
    "Given a singly linked list, delete **middle** of the linked list. For example, if given linked list is 1->2->**3**->4->5 then linked list should be modified to 1->2->4->5.If there are **even** nodes, then there would be **two middle** nodes, we need to delete the second middle element. For example, if given linked list is 1->2->3->4->5->6 then it should be modified to 1->2->3->5->6.If the input linked list is NULL or has 1 node, then it should return NULL\n",
    "\n",
    "**Example 1:**\n",
    "\n",
    "```\n",
    "Input:\n",
    "LinkedList: 1->2->3->4->5\n",
    "Output:1 2 4 5\n",
    "\n",
    "```\n",
    "\n",
    "**Example 2:**\n",
    "\n",
    "```\n",
    "Input:\n",
    "LinkedList: 2->4->6->7->5->1\n",
    "Output:2 4 6 5 1\n",
    "```"
   ]
  },
  {
   "cell_type": "code",
   "execution_count": 1,
   "metadata": {},
   "outputs": [],
   "source": [
    "# Definition for singly-linked list.\n",
    "from typing import Optional\n",
    "\n",
    "\n",
    "class ListNode:\n",
    "    def __init__(self, val=0, next=None):\n",
    "        self.val = val\n",
    "        self.next = next\n",
    "class Solution1:\n",
    "    def deleteMiddle(self, head: Optional[ListNode]) -> Optional[ListNode]:\n",
    "        #if only one node, return None\n",
    "        if head.next == None: return None\n",
    "\n",
    "        # count total number of nodes\n",
    "        count = 0\n",
    "        p1 = p2 = head\n",
    "\n",
    "        while p1:\n",
    "            count += 1\n",
    "            p1 = p1.next\n",
    "\n",
    "        # middle index\n",
    "        mid = count//2\n",
    "\n",
    "        # move p2 just before the middle node\n",
    "        for _ in range(mid-1):\n",
    "            p2 = p2.next\n",
    "\n",
    "        # delete the middle node\n",
    "        p2.next = p2.next.next\n",
    "\n",
    "        return head"
   ]
  },
  {
   "cell_type": "code",
   "execution_count": 2,
   "metadata": {},
   "outputs": [
    {
     "name": "stdout",
     "output_type": "stream",
     "text": [
      "1\n",
      "2\n",
      "4\n"
     ]
    }
   ],
   "source": [
    "# create a linked list with four nodes: 1 -> 2 -> 3 -> 4\n",
    "node1 = ListNode(1)\n",
    "node2 = ListNode(2)\n",
    "node3 = ListNode(3)\n",
    "node4 = ListNode(4)\n",
    "\n",
    "node1.next = node2\n",
    "node2.next = node3\n",
    "node3.next = node4\n",
    "\n",
    "# Create an instance of Solution1 class\n",
    "solution = Solution1()\n",
    "\n",
    "# Call the deleteMiddle method on the linked list\n",
    "result = solution.deleteMiddle(node1)\n",
    "\n",
    "# Print the modified linked list\n",
    "current = result\n",
    "while current:\n",
    "    print(current.val)\n",
    "    current = current.next\n"
   ]
  },
  {
   "attachments": {},
   "cell_type": "markdown",
   "metadata": {},
   "source": [
    "# 💡 **Question 2**\n",
    "\n",
    "Given a linked list of **N** nodes. The task is to check if the linked list has a loop. Linked list can contain self loop.\n",
    "\n",
    "**Example 1:**\n",
    "\n",
    "```\n",
    "Input:\n",
    "N = 3\n",
    "value[] = {1,3,4}\n",
    "x(position at which tail is connected) = 2\n",
    "Output:True\n",
    "Explanation:In above test case N = 3.\n",
    "The linked list with nodes N = 3 is\n",
    "given. Then value of x=2 is given which\n",
    "means last node is connected with xth\n",
    "node of linked list. Therefore, there\n",
    "exists a loop.\n",
    "```\n",
    "\n",
    "**Example 2:**\n",
    "\n",
    "```\n",
    "Input:\n",
    "N = 4\n",
    "value[] = {1,8,3,4}\n",
    "x = 0\n",
    "Output:False\n",
    "Explanation:For N = 4 ,x = 0 means\n",
    "then lastNode->next = NULL, then\n",
    "the Linked list does not contains\n",
    "any loop.\n",
    "```"
   ]
  },
  {
   "cell_type": "code",
   "execution_count": 3,
   "metadata": {},
   "outputs": [],
   "source": [
    "class Solution2:\n",
    "    def hasCycle(self, head: Optional[ListNode]) -> bool:\n",
    "        # Initialize two pointers\n",
    "        slow = head\n",
    "        fast = head\n",
    "\n",
    "        # Move the pointers at different speeds\n",
    "        while fast and fast.next:\n",
    "            slow = slow.next\n",
    "            fast = fast.next.next\n",
    "\n",
    "            # If the two pointers meet, there is a loop\n",
    "            if slow == fast:\n",
    "                return True\n",
    "\n",
    "        # If the fast pointer reaches the end, there is no loop\n",
    "        return False"
   ]
  },
  {
   "cell_type": "code",
   "execution_count": 4,
   "metadata": {},
   "outputs": [
    {
     "name": "stdout",
     "output_type": "stream",
     "text": [
      "True\n"
     ]
    }
   ],
   "source": [
    "# Create the linked list\n",
    "node1 = ListNode(1)\n",
    "node2 = ListNode(2)\n",
    "node3 = ListNode(3)\n",
    "node4 = ListNode(4)\n",
    "node5 = ListNode(5)\n",
    "\n",
    "node1.next = node2\n",
    "node2.next = node3\n",
    "node3.next = node4\n",
    "node4.next = node5\n",
    "node5.next = node2  # Connect the last node to the second node\n",
    "\n",
    "# Create an instance of the Solution class\n",
    "solution = Solution2()\n",
    "\n",
    "# Call the hasLoop method to check if the linked list has a loop\n",
    "has_loop = solution.hasCycle(node1)\n",
    "\n",
    "# Print the result\n",
    "print(has_loop)\n"
   ]
  },
  {
   "attachments": {},
   "cell_type": "markdown",
   "metadata": {},
   "source": [
    "#  💡 **Question 3**\n",
    "\n",
    "Given a linked list consisting of **L** nodes and given a number **N**. The task is to find the **N**th node from the end of the linked list.\n",
    "\n",
    "**Example 1:**\n",
    "\n",
    "```\n",
    "Input:\n",
    "N = 2\n",
    "LinkedList: 1->2->3->4->5->6->7->8->9\n",
    "Output:8\n",
    "Explanation:In the first example, there\n",
    "are 9 nodes in linked list and we need\n",
    "to find 2nd node from end. 2nd node\n",
    "from end is 8.\n",
    "\n",
    "```\n",
    "\n",
    "**Example 2:**\n",
    "\n",
    "```\n",
    "Input:\n",
    "N = 5\n",
    "LinkedList: 10->5->100->5\n",
    "Output:-1\n",
    "Explanation:In the second example, there\n",
    "are 4 nodes in the linked list and we\n",
    "need to find 5th from the end. Since 'n'\n",
    "is more than the number of nodes in the\n",
    "linked list, the output is -1.\n",
    "```"
   ]
  },
  {
   "cell_type": "code",
   "execution_count": 5,
   "metadata": {},
   "outputs": [],
   "source": [
    "# Definition for singly-linked list.\n",
    "# class ListNode:\n",
    "#     def __init__(self, val=0, next=None):\n",
    "#         self.val = val\n",
    "#         self.next = next\n",
    "class Solution3:\n",
    "    def removeNthFromEnd(self, head: Optional[ListNode], n: int) -> Optional[ListNode]:\n",
    "        if head is None:\n",
    "            return None\n",
    "\n",
    "        # find total no of nodes\n",
    "        count = 0\n",
    "        p1 = head\n",
    "        p2 = head\n",
    "\n",
    "        while p1:\n",
    "            count += 1\n",
    "            p1 = p1.next\n",
    "\n",
    "        if count < n:\n",
    "            return -1\n",
    "        \n",
    "        elif count == n:\n",
    "            return head\n",
    "        \n",
    "        else:\n",
    "            for _ in range(1,count-n+1):\n",
    "                p2 = p2.next\n",
    "\n",
    "            return p2"
   ]
  },
  {
   "cell_type": "code",
   "execution_count": 8,
   "metadata": {},
   "outputs": [
    {
     "data": {
      "text/plain": [
       "8"
      ]
     },
     "execution_count": 8,
     "metadata": {},
     "output_type": "execute_result"
    }
   ],
   "source": [
    "nodes = [ListNode(i) for i in range(1,10)]\n",
    "\n",
    "for i in range(0,8):\n",
    "    if nodes[i+1]:\n",
    "        nodes[i].next = nodes[i+1]\n",
    "    else:\n",
    "        nodes[i].next = None\n",
    "\n",
    "\n",
    "Solution3().removeNthFromEnd(nodes[0], n=2).val"
   ]
  },
  {
   "attachments": {},
   "cell_type": "markdown",
   "metadata": {},
   "source": [
    "#  💡 **Question 4**\n",
    "\n",
    "Given a singly linked list of characters, write a function that returns true if the given list is a palindrome, else false.\n",
    "\n",
    "\n",
    "\n",
    "**Examples:**\n",
    "\n",
    "> Input: R->A->D->A->R->NULL\n",
    "> \n",
    "> \n",
    "> **Output:** Yes\n",
    "> \n",
    "> **Input:** C->O->D->E->NULL\n",
    "> \n",
    "> **Output:** No\n",
    "> \n",
    "</aside>"
   ]
  },
  {
   "attachments": {},
   "cell_type": "markdown",
   "metadata": {},
   "source": [
    "![image](https://media.geeksforgeeks.org/wp-content/uploads/20220816144425/LLdrawio.png)"
   ]
  },
  {
   "cell_type": "code",
   "execution_count": 5,
   "metadata": {},
   "outputs": [],
   "source": [
    "from typing import Optional"
   ]
  },
  {
   "cell_type": "code",
   "execution_count": 6,
   "metadata": {},
   "outputs": [],
   "source": [
    "# Definition for singly-linked list.\n",
    "class ListNode:\n",
    "    def __init__(self, val=0, next=None):\n",
    "        self.val = val\n",
    "        self.next = next\n",
    "class Solution4:\n",
    "    def isPalindrome(self, head: Optional[ListNode]) -> bool:\n",
    "        p1 = head\n",
    "        s = \"\"\n",
    "\n",
    "        while p1:\n",
    "            s += str(p1.val)\n",
    "            p1 = p1.next\n",
    "\n",
    "        return s == s[::-1]"
   ]
  },
  {
   "cell_type": "code",
   "execution_count": 7,
   "metadata": {},
   "outputs": [
    {
     "data": {
      "text/plain": [
       "True"
      ]
     },
     "execution_count": 7,
     "metadata": {},
     "output_type": "execute_result"
    }
   ],
   "source": [
    "nodes = [ListNode(i) for i in \"RADAR\"]\n",
    "\n",
    "nodes[4].next = None\n",
    "\n",
    "Solution4().isPalindrome(head=nodes[0])"
   ]
  },
  {
   "attachments": {},
   "cell_type": "markdown",
   "metadata": {},
   "source": [
    "# 💡 **Question 5**\n",
    "\n",
    "Given a linked list of **N** nodes such that it may contain a loop.\n",
    "\n",
    "A loop here means that the last node of the link list is connected to the node at position X(1-based index). If the link list does not have any loop, X=0.\n",
    "\n",
    "Remove the loop from the linked list, if it is present, i.e. unlink the last node which is forming the loop.\n",
    "\n",
    "**Example 1:**\n",
    "\n",
    "```\n",
    "Input:\n",
    "N = 3\n",
    "value[] = {1,3,4}\n",
    "X = 2\n",
    "Output:1\n",
    "Explanation:The link list looks like\n",
    "1 -> 3 -> 4\n",
    "     ^    |\n",
    "     |____|\n",
    "A loop is present. If you remove it\n",
    "successfully, the answer will be 1.\n",
    "\n",
    "```\n",
    "\n",
    "**Example 2:**\n",
    "\n",
    "```\n",
    "Input:\n",
    "N = 4\n",
    "value[] = {1,8,3,4}\n",
    "X = 0\n",
    "Output:1\n",
    "Explanation:The Linked list does not\n",
    "contains any loop.\n",
    "```\n",
    "\n",
    "**Example 3:**\n",
    "\n",
    "```\n",
    "Input:\n",
    "N = 4\n",
    "value[] = {1,2,3,4}\n",
    "X = 1\n",
    "Output:1\n",
    "Explanation:The link list looks like\n",
    "1 -> 2 -> 3 -> 4\n",
    "^              |\n",
    "|______________|\n",
    "A loop is present.\n",
    "If you remove it successfully,\n",
    "the answer will be 1.\n",
    "```"
   ]
  },
  {
   "cell_type": "code",
   "execution_count": 15,
   "metadata": {},
   "outputs": [],
   "source": [
    "# Definition for singly-linked list\n",
    "class ListNode:\n",
    "    def __init__(self, val=0, next=None):\n",
    "        self.val = val\n",
    "        self.next = next\n",
    "\n",
    "# Solution class to remove the loop\n",
    "class Solution5:\n",
    "    def removeLoop(self, head: ListNode) -> ListNode:\n",
    "        # Check if linked list is empty or contains only one node\n",
    "        if not head or not head.next:\n",
    "            return head\n",
    "        \n",
    "        # Detect the loop using Floyd's Cycle Detection algorithm\n",
    "        slow = fast = head\n",
    "        while fast and fast.next:\n",
    "            slow = slow.next\n",
    "            fast = fast.next.next\n",
    "            if slow == fast:\n",
    "                break\n",
    "        \n",
    "        # No loop present in the linked list\n",
    "        if slow != fast:\n",
    "            return head\n",
    "        \n",
    "        \n",
    "        # Move fast pointer to the head and find the start of the loop\n",
    "        fast = head\n",
    "        while slow.next != fast.next:\n",
    "            slow = slow.next\n",
    "            fast = fast.next\n",
    "        \n",
    "        # Remove the loop by breaking the connection\n",
    "        slow.next = None\n",
    "        \n",
    "        return head\n",
    "    \n",
    "    \n"
   ]
  },
  {
   "cell_type": "code",
   "execution_count": 16,
   "metadata": {},
   "outputs": [
    {
     "name": "stdout",
     "output_type": "stream",
     "text": [
      "1 -> 2 -> 3 -> 4 -> 5 -> "
     ]
    }
   ],
   "source": [
    "# Create a sample linked list with a loop\n",
    "node1 = ListNode(1)\n",
    "node2 = ListNode(2)\n",
    "node3 = ListNode(3)\n",
    "node4 = ListNode(4)\n",
    "node5 = ListNode(5)\n",
    "node1.next = node2\n",
    "node2.next = node3\n",
    "node3.next = node4\n",
    "node4.next = node5\n",
    "node5.next = node2  # Creating a loop by connecting the last node to node2\n",
    "\n",
    "# Create an instance of the Solution class\n",
    "solution = Solution5()\n",
    "\n",
    "# Remove the loop from the linked list\n",
    "new_head = solution.removeLoop(node1)\n",
    "\n",
    "# Print the linked list after removing the loop\n",
    "current = new_head\n",
    "while current:\n",
    "    print(current.val, end=\" -> \")\n",
    "    current = current.next"
   ]
  },
  {
   "attachments": {},
   "cell_type": "markdown",
   "metadata": {},
   "source": [
    "# 💡 **Question 6**\n",
    "\n",
    "Given a linked list and two integers M and N. Traverse the linked list such that you retain M nodes then delete next N nodes, continue the same till end of the linked list.\n",
    "\n",
    "Difficulty Level: Rookie\n",
    "\n",
    "**Examples**:\n",
    "\n",
    "Input:\n",
    "M = 2, N = 2\n",
    "Linked List: 1->2->3->4->5->6->7->8\n",
    "Output:\n",
    "Linked List: 1->2->5->6\n",
    "\n",
    "Input:\n",
    "M = 3, N = 2\n",
    "Linked List: 1->2->3->4->5->6->7->8->9->10\n",
    "Output:\n",
    "Linked List: 1->2->3->6->7->8\n",
    "\n",
    "Input:\n",
    "M = 1, N = 1\n",
    "Linked List: 1->2->3->4->5->6->7->8->9->10\n",
    "Output:\n",
    "Linked List: 1->3->5->7->9"
   ]
  },
  {
   "cell_type": "code",
   "execution_count": 37,
   "metadata": {},
   "outputs": [],
   "source": [
    "# Definition for singly-linked list\n",
    "class ListNode:\n",
    "    def __init__(self, val=0, next=None):\n",
    "        self.val = val\n",
    "        self.next = next\n",
    "\n",
    "# Solution class to remove the loop\n",
    "class Solution6:\n",
    "    def M_N_Pattern(self, head: ListNode, M: int, N: int) -> ListNode:\n",
    "        p1 = head\n",
    "\n",
    "        while p1:\n",
    "            for _ in range(M-1):\n",
    "                try:\n",
    "                    p1 = p1.next\n",
    "                except:\n",
    "                    break\n",
    "            p2 = p1\n",
    "            for _ in range(N+1):\n",
    "                try:\n",
    "                    p2 = p2.next\n",
    "                except:\n",
    "                    break\n",
    "            p1.next = p2\n",
    "            p1 = p2\n",
    "        \n",
    "        return head"
   ]
  },
  {
   "cell_type": "code",
   "execution_count": 38,
   "metadata": {},
   "outputs": [
    {
     "name": "stdout",
     "output_type": "stream",
     "text": [
      "0 -> 1 -> 2 -> 3 -> 4 -> 5 -> 6 -> 7 -> 8 -> 9 -> \n",
      "0 -> 1 -> 2 -> 5 -> 6 -> 7 -> "
     ]
    }
   ],
   "source": [
    "nodes = [ListNode(i) for i in range(10)]\n",
    "\n",
    "for i in range(10):\n",
    "    nodes[i].next = nodes[i+1] if i < 9 else None\n",
    "\n",
    "current = nodes[0]\n",
    "while current:\n",
    "    print(current.val, end=\" -> \")\n",
    "    current = current.next\n",
    "print()\n",
    "new_head = Solution6().M_N_Pattern(nodes[0], 3,2)\n",
    "\n",
    "# Print the linked list after removing the loop\n",
    "current = new_head\n",
    "while current:\n",
    "    print(current.val, end=\" -> \")\n",
    "    current = current.next"
   ]
  },
  {
   "attachments": {},
   "cell_type": "markdown",
   "metadata": {},
   "source": [
    "# 💡 **Question 7**\n",
    "\n",
    "Given two linked lists, insert nodes of second list into first list at alternate positions of first list.\n",
    "For example, if \n",
    "first list is 5->7->17->13->11 and \n",
    "second is 12->10->2->4->6, \n",
    "the first list should become 5->12->7->10->17->2->13->4->11->6 and second list should become empty. \n",
    "\n",
    "The nodes of second list should only be inserted when there are positions available. \n",
    "\n",
    "For example, if the first list is 1->2->3 and second list is 4->5->6->7->8, then first list should become 1->4->2->5->3->6 and second list to 7->8.\n",
    "\n",
    "Use of extra space is not allowed (Not allowed to create additional nodes), i.e., insertion must be done in-place. Expected time complexity is O(n) where n is number of nodes in first list.\n",
    "\n"
   ]
  },
  {
   "cell_type": "code",
   "execution_count": null,
   "metadata": {},
   "outputs": [],
   "source": [
    "# Definition for singly-linked list\n",
    "class ListNode:\n",
    "    def __init__(self, val=0, next=None):\n",
    "        self.val = val\n",
    "        self.next = next\n",
    "\n",
    "# Solution class to remove the loop\n",
    "class Solution7:\n",
    "    def update(self, head1: ListNode, head2: ListNode) -> ListNode:\n",
    "        p1 = head1\n",
    "        p2 = head2\n",
    "\n",
    "        while p1 and p2:\n",
    "            temp1 = p1.next\n",
    "            temp2 = p2.next\n",
    "\n",
    "            p1.next = p2\n",
    "            p2.next = temp1\n",
    "\n",
    "            p1 = temp1\n",
    "            p2 = temp2\n",
    "\n",
    "        # Disconnect the remaining nodes in the second linked list\n",
    "        p2 = head2\n",
    "        while p2.next and p2.next.next:\n",
    "            p2 = p2.next\n",
    "        \n",
    "        remaining_head2 = None\n",
    "        if p2.next:\n",
    "            remaining_head2 = p2.next\n",
    "            p2.next = None\n",
    "\n",
    "        return head1, remaining_head2\n"
   ]
  },
  {
   "cell_type": "code",
   "execution_count": null,
   "metadata": {},
   "outputs": [
    {
     "name": "stdout",
     "output_type": "stream",
     "text": [
      "0 -> 1 -> 2 -> 3 -> 4 -> \n",
      "6 -> 7 -> 8 -> 9 -> 10 -> 11 -> 12 -> 13 -> 14 -> \n"
     ]
    }
   ],
   "source": [
    "nodes1 = [ListNode(i) for i in range(5)]\n",
    "\n",
    "for i in range(5):\n",
    "    nodes1[i].next = nodes1[i+1] if i < 4 else None\n",
    "\n",
    "current = nodes1[0]\n",
    "while current:\n",
    "    print(current.val, end=\" -> \")\n",
    "    current = current.next\n",
    "print()\n",
    "\n",
    "nodes2 = [ListNode(i) for i in range(6, 15)]\n",
    "\n",
    "for i in range(6,15):\n",
    "    i -= 6\n",
    "    nodes2[i].next = nodes2[i+1] if i+6 < 14 else None\n",
    "\n",
    "current = nodes2[0]\n",
    "while current:\n",
    "    print(current.val, end=\" -> \")\n",
    "    current = current.next\n",
    "print()\n",
    "\n",
    "h1, h2 = Solution7().update(nodes1[0], nodes2[0])\n",
    "\n",
    "current = h1\n",
    "while current:\n",
    "    print(current.val, end=\" -> \")\n",
    "    current = current.next\n",
    "print()\n",
    "\n",
    "current=h2\n",
    "while current:\n",
    "    print(current.val, end=\" -> \")\n",
    "    current = current.next\n",
    "print()"
   ]
  },
  {
   "attachments": {},
   "cell_type": "markdown",
   "metadata": {},
   "source": [
    "#  💡 **Question 8**\n",
    "\n",
    "Given a singly linked list, find if the linked list is [circular](https://www.geeksforgeeks.org/circular-linked-list/amp/) or not.\n",
    "\n",
    "A linked list is called circular if it is not NULL-terminated and all nodes are connected in the form of a cycle. Below is an example of a circular linked list.\n",
    "\n",
    "![Circular linked list](https://pwskills.notion.site/image/https%3A%2F%2Fs3-us-west-2.amazonaws.com%2Fsecure.notion-static.com%2Fd30bbf79-b1eb-4ba4-b23e-6d3f27ccdfe5%2FUntitled.png?id=5ccbc796-7fb9-4c82-b385-f45ba589a896&table=block&spaceId=6fae2e0f-dedc-48e9-bc59-af2654c78209&width=1300&userId=&cache=v2)"
   ]
  },
  {
   "cell_type": "code",
   "execution_count": 6,
   "metadata": {},
   "outputs": [],
   "source": [
    "# Definition for singly-linked list\n",
    "class ListNode:\n",
    "    def __init__(self, val=0, next=None):\n",
    "        self.val = val\n",
    "        self.next = next\n",
    "\n",
    "class Solution8:\n",
    "    def isCircular(self, head: ListNode) -> bool:\n",
    "        if head is None:\n",
    "            return False\n",
    "\n",
    "        slow = head\n",
    "        fast = head.next\n",
    "\n",
    "        while fast and fast.next:\n",
    "            if slow == fast:\n",
    "                return True\n",
    "            slow = slow.next\n",
    "            fast = fast.next.next\n",
    "\n",
    "        return False"
   ]
  },
  {
   "cell_type": "code",
   "execution_count": 8,
   "metadata": {},
   "outputs": [
    {
     "name": "stdout",
     "output_type": "stream",
     "text": [
      "0 -> 1 -> 2 -> 3 -> 4 -> 0 -> \n"
     ]
    },
    {
     "data": {
      "text/plain": [
       "True"
      ]
     },
     "execution_count": 8,
     "metadata": {},
     "output_type": "execute_result"
    }
   ],
   "source": [
    "nodes1 = [ListNode(i) for i in range(5)]\n",
    "\n",
    "for i in range(5):\n",
    "    nodes1[i].next = nodes1[i+1] if i < 4 else nodes1[0]\n",
    "\n",
    "current = nodes1[0]\n",
    "i=6\n",
    "while i:\n",
    "    print(current.val, end=\" -> \")\n",
    "    current = current.next\n",
    "    i-=1\n",
    "print()\n",
    "\n",
    "Solution8().isCircular(nodes1[0])"
   ]
  },
  {
   "cell_type": "code",
   "execution_count": null,
   "metadata": {},
   "outputs": [],
   "source": []
  }
 ],
 "metadata": {
  "kernelspec": {
   "display_name": "PPT",
   "language": "python",
   "name": "python3"
  },
  "language_info": {
   "codemirror_mode": {
    "name": "ipython",
    "version": 3
   },
   "file_extension": ".py",
   "mimetype": "text/x-python",
   "name": "python",
   "nbconvert_exporter": "python",
   "pygments_lexer": "ipython3",
   "version": "3.10.11"
  },
  "orig_nbformat": 4
 },
 "nbformat": 4,
 "nbformat_minor": 2
}
