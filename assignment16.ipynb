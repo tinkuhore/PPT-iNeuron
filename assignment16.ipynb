{
 "cells": [
  {
   "cell_type": "code",
   "execution_count": 49,
   "metadata": {},
   "outputs": [],
   "source": [
    "from typing import List, Optional, Union\n",
    "from collections import Counter\n",
    "from queue import Queue\n",
    "from collections import deque"
   ]
  },
  {
   "attachments": {},
   "cell_type": "markdown",
   "metadata": {},
   "source": [
    "#  💡 **Question 1**"
   ]
  },
  {
   "attachments": {},
   "cell_type": "markdown",
   "metadata": {},
   "source": [
    "\n",
    "\n",
    "Given an array, for each element find the value of the nearest element to the right which is having a frequency greater than that of the current element. If there does not exist an answer for a position, then make the value ‘-1’.\n",
    "\n",
    "**Examples:**\n",
    "\n",
    "```\n",
    "Input: a[] = [1, 1, 2, 3, 4, 2, 1]\n",
    "Output : [-1, -1, 1, 2, 2, 1, -1]\n",
    "\n",
    "Explanation:\n",
    "Given array a[] = [1, 1, 2, 3, 4, 2, 1]\n",
    "Frequency of each element is: 3, 3, 2, 1, 1, 2, 3\n",
    "\n",
    "Lets calls Next Greater Frequency element as NGF\n",
    "1. For element a[0] = 1 which has a frequency = 3,\n",
    "   As it has frequency of 3 and no other next element\n",
    "   has frequency more than 3 so  '-1'\n",
    "2. For element a[1] = 1 it will be -1 same logic\n",
    "   like a[0]\n",
    "3. For element a[2] = 2 which has frequency = 2,\n",
    "   NGF element is 1 at position = 6  with frequency\n",
    "   of 3 > 2\n",
    "4. For element a[3] = 3 which has frequency = 1,\n",
    "   NGF element is 2 at position = 5 with frequency\n",
    "   of 2 > 1\n",
    "5. For element a[4] = 4 which has frequency = 1,\n",
    "   NGF element is 2 at position = 5 with frequency\n",
    "   of 2 > 1\n",
    "6. For element a[5] = 2 which has frequency = 2,\n",
    "   NGF element is 1 at position = 6 with frequency\n",
    "   of 3 > 2\n",
    "7. For element a[6] = 1 there is no element to its\n",
    "   right, hence -1\n",
    "   ```"
   ]
  },
  {
   "cell_type": "code",
   "execution_count": 2,
   "metadata": {},
   "outputs": [],
   "source": [
    "class Solution1:\n",
    "    \n",
    "    def replace_with_frequency(self, lst):\n",
    "        counts = Counter(lst)\n",
    "        frequency_list = [counts[element] for element in lst]\n",
    "        return frequency_list\n",
    "\n",
    "\n",
    "    def nextGreaterElement(self, nums: List[int], a: List[int]) -> List[int]:\n",
    "        stack = []\n",
    "        result = [-1] * len(nums)\n",
    "\n",
    "        for i in range(len(nums)):\n",
    "            while stack and nums[i] > nums[stack[-1]]:\n",
    "                index = stack.pop()\n",
    "                result[index] = a[i]\n",
    "            \n",
    "            stack.append(i)\n",
    "        \n",
    "        return result\n",
    "\n",
    "    def nextGreaterFrequency(self, a: List[int])-> List[int]:\n",
    "        return self.nextGreaterElement(self.replace_with_frequency(a), a)\n"
   ]
  },
  {
   "cell_type": "code",
   "execution_count": 3,
   "metadata": {},
   "outputs": [
    {
     "data": {
      "text/plain": [
       "[-1, -1, 1, 2, 2, 1, -1]"
      ]
     },
     "execution_count": 3,
     "metadata": {},
     "output_type": "execute_result"
    }
   ],
   "source": [
    "a = [1, 1, 2, 3, 4, 2, 1]\n",
    "\n",
    "Solution1().nextGreaterFrequency(a)"
   ]
  },
  {
   "cell_type": "code",
   "execution_count": 4,
   "metadata": {},
   "outputs": [
    {
     "data": {
      "text/plain": [
       "[-1, 2, 5, 2, 5, -1, -1, 5, -1, -1]"
      ]
     },
     "execution_count": 4,
     "metadata": {},
     "output_type": "execute_result"
    }
   ],
   "source": [
    "a = [5, 1, 2, 3, 2, 5, 5, 4, 5, 2]\n",
    "\n",
    "Solution1().nextGreaterFrequency(a)"
   ]
  },
  {
   "attachments": {},
   "cell_type": "markdown",
   "metadata": {},
   "source": [
    "#  💡 **Question 2**"
   ]
  },
  {
   "attachments": {},
   "cell_type": "markdown",
   "metadata": {},
   "source": [
    "\n",
    "\n",
    "Given a stack of integers, sort it in ascending order using another temporary stack.\n",
    "\n",
    "**Examples:**\n",
    "\n",
    "```\n",
    "Input : [34, 3, 31, 98, 92, 23]\n",
    "Output : [3, 23, 31, 34, 92, 98]\n",
    "\n",
    "Input : [3, 5, 1, 4, 2, 8]\n",
    "Output : [1, 2, 3, 4, 5, 8]\n",
    "```"
   ]
  },
  {
   "cell_type": "code",
   "execution_count": 5,
   "metadata": {},
   "outputs": [],
   "source": [
    "class Solution2:\n",
    "    def __init__(self,):\n",
    "        self.temp_stack = []\n",
    "\n",
    "    def ascending(self, stack: List[int])-> List[int]:\n",
    "        while stack:\n",
    "            temp = stack.pop()\n",
    "            while self.temp_stack and self.temp_stack[-1] > temp:\n",
    "                stack.append(self.temp_stack.pop())\n",
    "            \n",
    "            self.temp_stack.append(temp)\n",
    "\n",
    "        return self.temp_stack"
   ]
  },
  {
   "cell_type": "code",
   "execution_count": 6,
   "metadata": {},
   "outputs": [
    {
     "data": {
      "text/plain": [
       "[3, 23, 31, 34, 92, 98]"
      ]
     },
     "execution_count": 6,
     "metadata": {},
     "output_type": "execute_result"
    }
   ],
   "source": [
    "l = [34, 3, 31, 98, 92, 23]\n",
    "\n",
    "Solution2().ascending(l)"
   ]
  },
  {
   "attachments": {},
   "cell_type": "markdown",
   "metadata": {},
   "source": [
    "# 💡 **Question 3**\n",
    "\n"
   ]
  },
  {
   "attachments": {},
   "cell_type": "markdown",
   "metadata": {},
   "source": [
    "Given a stack with **push()**, **pop()**, and **empty()** operations, The task is to delete the **middle** element ****of it without using any additional data structure.\n",
    "```\n",
    "Input  : Stack[] = [1, 2, 3, 4, 5]\n",
    "\n",
    "Output : Stack[] = [1, 2, 4, 5]\n",
    "\n",
    "Input  : Stack[] = [1, 2, 3, 4, 5, 6]\n",
    "\n",
    "Output : Stack[] = [1, 2, 4, 5, 6]\n",
    "\n",
    "``` "
   ]
  },
  {
   "cell_type": "code",
   "execution_count": 7,
   "metadata": {},
   "outputs": [],
   "source": [
    "class Solution3:\n",
    "    \n",
    "    # Function to delete middle element of a stack.\n",
    "    # Middle element:- ceil((size_of_stack+1)/2) (1-based indexing) from bottom of the stack.\n",
    "    # Note: The output shown by the compiler is the stack from top to bottom.\n",
    "    def deleteMid(self, s, sizeOfStack):\n",
    "        mid = (sizeOfStack+1)//2\n",
    "        temp = []\n",
    "        while len(s) != mid:\n",
    "            temp.append(s.pop())\n",
    "\n",
    "        deleted = s.pop()\n",
    "\n",
    "        while temp:\n",
    "            s.append(temp.pop())\n",
    "\n",
    "        return s\n"
   ]
  },
  {
   "cell_type": "code",
   "execution_count": 8,
   "metadata": {},
   "outputs": [],
   "source": [
    "s1 = [1, 2, 3, 4, 5]\n",
    "s2 = [1, 2, 3, 4, 5, 6]"
   ]
  },
  {
   "cell_type": "code",
   "execution_count": 9,
   "metadata": {},
   "outputs": [
    {
     "data": {
      "text/plain": [
       "[1, 2, 4, 5]"
      ]
     },
     "execution_count": 9,
     "metadata": {},
     "output_type": "execute_result"
    }
   ],
   "source": [
    "Solution3().deleteMid(s1, len(s1))"
   ]
  },
  {
   "cell_type": "code",
   "execution_count": 10,
   "metadata": {},
   "outputs": [
    {
     "data": {
      "text/plain": [
       "[1, 2, 4, 5, 6]"
      ]
     },
     "execution_count": 10,
     "metadata": {},
     "output_type": "execute_result"
    }
   ],
   "source": [
    "Solution3().deleteMid(s2, len(s2))"
   ]
  },
  {
   "attachments": {},
   "cell_type": "markdown",
   "metadata": {},
   "source": [
    "#  💡 **Question 4**\n",
    "\n"
   ]
  },
  {
   "attachments": {},
   "cell_type": "markdown",
   "metadata": {},
   "source": [
    "Given a Queue consisting of first **n** natural numbers (in random order). The task is to check whether the given Queue elements can be arranged in increasing order in another Queue using a stack. The operation allowed are:\n",
    "\n",
    "1. Push and pop elements from the stack\n",
    "2. Pop (Or Dequeue) from the given Queue.\n",
    "3. Push (Or Enqueue) in the another Queue.\n",
    "\n",
    "**Examples :**\n",
    "```\n",
    "Input : Queue[] = { 5, 1, 2, 3, 4 } \n",
    "\n",
    "Output : Yes \n",
    "\n",
    "Pop the first element of the given Queue \n",
    "\n",
    "i.e 5. Push 5 into the stack. \n",
    "\n",
    "Now, pop all the elements of the given Queue and push them to second Queue. \n",
    "\n",
    "Now, pop element 5 in the stack and push it to the second Queue.   \n",
    "\n",
    "Input : Queue[] = { 5, 1, 2, 6, 3, 4 } \n",
    "\n",
    "Output : No \n",
    "\n",
    "Push 5 to stack. \n",
    "\n",
    "Pop 1, 2 from given Queue and push it to another Queue. \n",
    "\n",
    "Pop 6 from given Queue and push to stack. \n",
    "\n",
    "Pop 3, 4 from given Queue and push to second Queue. \n",
    "\n",
    "Now, from using any of above operation, we cannot push 5 into the second Queue because it is below the 6 in the stack.\n",
    "\n",
    "```"
   ]
  },
  {
   "cell_type": "code",
   "execution_count": 11,
   "metadata": {},
   "outputs": [],
   "source": [
    "class Solution4:\n",
    "    def __init__(self, q1: Queue) -> None:\n",
    "        self.q1 = q1\n",
    "        self.stack = []\n",
    "        self.q2 = Queue()\n",
    "        self.expected = 1\n",
    "        self.n = q1.qsize()\n",
    "\n",
    "    def isSortable(self) -> str:\n",
    "        while not self.q1.empty():\n",
    "            current_element = self.q1.get()\n",
    "            if current_element == self.expected:\n",
    "                self.q2.put(current_element)\n",
    "                self.expected += 1\n",
    "\n",
    "            else:\n",
    "                if self.stack and self.stack[-1] < current_element:\n",
    "                    return \"NO\"\n",
    "\n",
    "                else:\n",
    "                    self.stack.append(current_element)\n",
    "\n",
    "        while self.stack and self.stack[-1] == self.expected:\n",
    "            self.q2.put(self.stack.pop())\n",
    "\n",
    "        return \"YES\" if self.n == self.expected and not self.stack else \"NO\""
   ]
  },
  {
   "cell_type": "code",
   "execution_count": 42,
   "metadata": {},
   "outputs": [
    {
     "name": "stdout",
     "output_type": "stream",
     "text": [
      "deque([5, 1, 2, 3, 4])\n"
     ]
    }
   ],
   "source": [
    "q1 = Queue()\n",
    "[q1.put(i) for i in [5, 1, 2, 3, 4]]\n",
    "\n",
    "print(q1.queue)"
   ]
  },
  {
   "cell_type": "code",
   "execution_count": 20,
   "metadata": {},
   "outputs": [
    {
     "data": {
      "text/plain": [
       "'YES'"
      ]
     },
     "execution_count": 20,
     "metadata": {},
     "output_type": "execute_result"
    }
   ],
   "source": [
    "Solution4(q1).isSortable()\n"
   ]
  },
  {
   "cell_type": "code",
   "execution_count": 21,
   "metadata": {},
   "outputs": [
    {
     "name": "stdout",
     "output_type": "stream",
     "text": [
      "deque([5, 1, 2, 6, 3, 4])\n"
     ]
    }
   ],
   "source": [
    "q2 = Queue()\n",
    "[q2.put(i) for i in [ 5, 1, 2, 6, 3, 4]]\n",
    "\n",
    "print( q2.queue)"
   ]
  },
  {
   "cell_type": "code",
   "execution_count": 22,
   "metadata": {},
   "outputs": [
    {
     "data": {
      "text/plain": [
       "'NO'"
      ]
     },
     "execution_count": 22,
     "metadata": {},
     "output_type": "execute_result"
    }
   ],
   "source": [
    "Solution4(q2).isSortable()"
   ]
  },
  {
   "attachments": {},
   "cell_type": "markdown",
   "metadata": {},
   "source": [
    "# 💡 **Question 5**"
   ]
  },
  {
   "attachments": {},
   "cell_type": "markdown",
   "metadata": {},
   "source": [
    "Given a number , write a program to reverse this number using stack.\n",
    "\n",
    "**Examples:**\n",
    "```\n",
    "Input : 365\n",
    "Output : 563\n",
    "\n",
    "Input : 6899\n",
    "Output : 9986\n",
    "```"
   ]
  },
  {
   "cell_type": "code",
   "execution_count": 27,
   "metadata": {},
   "outputs": [],
   "source": [
    "class Solution5:\n",
    "    '''\n",
    "    This class takes any int as input and reverse it using Stack\n",
    "    '''\n",
    "    def __init__(self, num: int):\n",
    "        self.num = num\n",
    "        self.stack = []\n",
    "\n",
    "    def reverse(self,)->int:\n",
    "        for digit in str(self.num):\n",
    "            self.stack.append(digit)\n",
    "\n",
    "        output = \"\"\n",
    "        while self.stack:\n",
    "            output += self.stack.pop()\n",
    "        \n",
    "        return int(output)"
   ]
  },
  {
   "cell_type": "code",
   "execution_count": 28,
   "metadata": {},
   "outputs": [
    {
     "data": {
      "text/plain": [
       "563"
      ]
     },
     "execution_count": 28,
     "metadata": {},
     "output_type": "execute_result"
    }
   ],
   "source": [
    "Solution5(365).reverse()"
   ]
  },
  {
   "cell_type": "code",
   "execution_count": 29,
   "metadata": {},
   "outputs": [
    {
     "data": {
      "text/plain": [
       "9986"
      ]
     },
     "execution_count": 29,
     "metadata": {},
     "output_type": "execute_result"
    }
   ],
   "source": [
    "Solution5(6899).reverse()"
   ]
  },
  {
   "cell_type": "code",
   "execution_count": 30,
   "metadata": {},
   "outputs": [
    {
     "data": {
      "text/plain": [
       "321"
      ]
     },
     "execution_count": 30,
     "metadata": {},
     "output_type": "execute_result"
    }
   ],
   "source": [
    "int(str(123)[::-1])"
   ]
  },
  {
   "attachments": {},
   "cell_type": "markdown",
   "metadata": {},
   "source": [
    "#  💡 **Question 6**"
   ]
  },
  {
   "attachments": {},
   "cell_type": "markdown",
   "metadata": {},
   "source": [
    "Given an integer k and a **[queue](https://www.geeksforgeeks.org/queue-data-structure/)** of integers, The task is to reverse the order of the first **k** elements of the queue, leaving the other elements in the same relative order.\n",
    "\n",
    "Only following standard operations are allowed on queue.\n",
    "\n",
    "- **enqueue(x) :** Add an item x to rear of queue\n",
    "- **dequeue() :** Remove an item from front of queue\n",
    "- **size() :** Returns number of elements in queue.\n",
    "- **front() :** Finds front item.\n",
    "</aside>"
   ]
  },
  {
   "cell_type": "code",
   "execution_count": 56,
   "metadata": {},
   "outputs": [],
   "source": [
    "class Solution6:\n",
    "    def modifyQueue(self, queue: deque, k: int) -> Queue:\n",
    "        stack = deque()\n",
    "        for _ in range(k):\n",
    "            item = queue.popleft()\n",
    "            stack.append(item)\n",
    "\n",
    "        for _ in range(k):\n",
    "            queue.appendleft(stack.popleft())\n",
    "\n",
    "        return queue"
   ]
  },
  {
   "cell_type": "code",
   "execution_count": 57,
   "metadata": {},
   "outputs": [
    {
     "name": "stdout",
     "output_type": "stream",
     "text": [
      "Original queue: deque([1, 2, 3, 4, 5])\n",
      "Reversed queue: deque([3, 2, 1, 4, 5])\n"
     ]
    }
   ],
   "source": [
    "queue = deque([1, 2, 3, 4, 5])\n",
    "k = 3\n",
    "print(\"Original queue:\", queue)\n",
    "queue = Solution6().modifyQueue(queue, k)\n",
    "print(\"Reversed queue:\", queue)"
   ]
  },
  {
   "attachments": {},
   "cell_type": "markdown",
   "metadata": {},
   "source": [
    "# 💡 **Question 7**"
   ]
  },
  {
   "attachments": {},
   "cell_type": "markdown",
   "metadata": {},
   "source": [
    "Given a sequence of n strings, the task is to check if any two similar words come together and then destroy each other then print the number of words left in the sequence after this pairwise destruction.\n",
    "\n",
    "**Examples:**\n",
    "\n",
    "Input : ab aa aa bcd ab\n",
    "\n",
    "Output : 3\n",
    "\n",
    "*As aa, aa destroys each other so,*\n",
    "\n",
    "*ab bcd ab is the new sequence.*\n",
    "\n",
    "Input :  tom jerry jerry tom\n",
    "\n",
    "Output : 0\n",
    "\n",
    "*As first both jerry will destroy each other.*\n",
    "\n",
    "*Then sequence will be tom, tom they will also destroy*\n",
    "\n",
    "*each other. So, the final sequence doesn’t contain any*\n",
    "\n",
    "*word.*\n",
    "\n",
    "</aside>"
   ]
  },
  {
   "cell_type": "code",
   "execution_count": 66,
   "metadata": {},
   "outputs": [],
   "source": [
    "class Solution7:\n",
    "    def pairwiseDestruction(self, seq: str)->int:\n",
    "        words = seq.strip().split()\n",
    "\n",
    "        index = 0\n",
    "\n",
    "        while index < len(words)-1:\n",
    "            if words[index] == words[index+1]:\n",
    "                words.pop(index)\n",
    "                words.pop(index)\n",
    "                index = 0\n",
    "\n",
    "            else:\n",
    "                index += 1\n",
    "\n",
    "        return len(words)\n"
   ]
  },
  {
   "cell_type": "code",
   "execution_count": 67,
   "metadata": {},
   "outputs": [
    {
     "data": {
      "text/plain": [
       "3"
      ]
     },
     "execution_count": 67,
     "metadata": {},
     "output_type": "execute_result"
    }
   ],
   "source": [
    "seq1 = \"ab aa aa bcd ab\"\n",
    "\n",
    "Solution7().pairwiseDestruction(seq1)"
   ]
  },
  {
   "cell_type": "code",
   "execution_count": 68,
   "metadata": {},
   "outputs": [
    {
     "data": {
      "text/plain": [
       "0"
      ]
     },
     "execution_count": 68,
     "metadata": {},
     "output_type": "execute_result"
    }
   ],
   "source": [
    "seq2 = \"tom jerry jerry tom\"\n",
    "\n",
    "Solution7().pairwiseDestruction(seq2)"
   ]
  },
  {
   "attachments": {},
   "cell_type": "markdown",
   "metadata": {},
   "source": [
    "# 💡 **Question 8**"
   ]
  },
  {
   "attachments": {},
   "cell_type": "markdown",
   "metadata": {},
   "source": [
    "Given an array of integers, the task is to find the maximum absolute difference between the nearest left and the right smaller element of every element in the array.\n",
    "\n",
    "**Note:** If there is no smaller element on right side or left side of any element then we take zero as the smaller element. For example for the leftmost element, the nearest smaller element on the left side is considered as 0. Similarly, for rightmost elements, the smaller element on the right side is considered as 0.\n",
    "\n",
    "**Examples:**\n",
    "\n",
    "```\n",
    "Input : arr[] = {2, 1, 8}\n",
    "Output : 1\n",
    "Left smaller  LS[] {0, 0, 1}\n",
    "Right smaller RS[] {1, 0, 0}\n",
    "Maximum Diff of abs(LS[i] - RS[i]) = 1\n",
    "\n",
    "Input  : arr[] = {2, 4, 8, 7, 7, 9, 3}\n",
    "Output : 4\n",
    "Left smaller   LS[] = {0, 2, 4, 4, 4, 7, 2}\n",
    "Right smaller  RS[] = {0, 3, 7, 3, 3, 3, 0}\n",
    "Maximum Diff of abs(LS[i] - RS[i]) = 7 - 3 = 4\n",
    "\n",
    "Input : arr[] = {5, 1, 9, 2, 5, 1, 7}\n",
    "Output : 1\n",
    "```"
   ]
  },
  {
   "cell_type": "code",
   "execution_count": 79,
   "metadata": {},
   "outputs": [],
   "source": [
    "class Solution8:\n",
    "    def leftSmaller(self, arr: List[int])-> List[int]:\n",
    "        arr = arr[::-1]\n",
    "        stack = []\n",
    "        res = [0]*len(arr)\n",
    "\n",
    "        for idx, val in enumerate(arr):\n",
    "\n",
    "            while stack and stack[-1][1] > val:\n",
    "                i, _ = stack.pop()\n",
    "                res[i] = val\n",
    "\n",
    "            stack.append((idx, val))\n",
    "\n",
    "        res = res[::-1]\n",
    "        print(\"LS:\", res)\n",
    "        return res\n",
    "\n",
    "\n",
    "    def rightSmaller(self, arr: List[int])-> List[int]:\n",
    "        stack = []\n",
    "        res = [0]*len(arr)\n",
    "\n",
    "        for idx, val in enumerate(arr):\n",
    "\n",
    "            while stack and stack[-1][1] > val:\n",
    "                i, _ = stack.pop()\n",
    "                res[i] = val\n",
    "\n",
    "            stack.append((idx, val))\n",
    "\n",
    "        print(\"RS:\", res)\n",
    "        return res\n",
    "\n",
    "    def maxAbdDiff(self, arr: List[int])->int:\n",
    "        LS = self.leftSmaller(arr)\n",
    "        RS = self.rightSmaller(arr)\n",
    "\n",
    "        abs_diff = [abs(left - right) for left, right in zip(LS, RS)]\n",
    "\n",
    "        return max(abs_diff)"
   ]
  },
  {
   "cell_type": "code",
   "execution_count": 80,
   "metadata": {},
   "outputs": [
    {
     "name": "stdout",
     "output_type": "stream",
     "text": [
      "LS: [0, 0, 1]\n",
      "RS: [1, 0, 0]\n"
     ]
    },
    {
     "data": {
      "text/plain": [
       "1"
      ]
     },
     "execution_count": 80,
     "metadata": {},
     "output_type": "execute_result"
    }
   ],
   "source": [
    "arr1 = [2, 1, 8]\n",
    "\n",
    "Solution8().maxAbdDiff(arr1)"
   ]
  },
  {
   "cell_type": "code",
   "execution_count": 81,
   "metadata": {},
   "outputs": [
    {
     "name": "stdout",
     "output_type": "stream",
     "text": [
      "LS: [0, 2, 4, 4, 4, 7, 2]\n",
      "RS: [0, 3, 7, 3, 3, 3, 0]\n"
     ]
    },
    {
     "data": {
      "text/plain": [
       "4"
      ]
     },
     "execution_count": 81,
     "metadata": {},
     "output_type": "execute_result"
    }
   ],
   "source": [
    "arr2 = [2, 4, 8, 7, 7, 9, 3]\n",
    "Solution8().maxAbdDiff(arr2)"
   ]
  },
  {
   "cell_type": "code",
   "execution_count": 82,
   "metadata": {},
   "outputs": [
    {
     "name": "stdout",
     "output_type": "stream",
     "text": [
      "LS: [0, 0, 1, 1, 2, 0, 1]\n",
      "RS: [1, 0, 2, 1, 1, 0, 0]\n"
     ]
    },
    {
     "data": {
      "text/plain": [
       "1"
      ]
     },
     "execution_count": 82,
     "metadata": {},
     "output_type": "execute_result"
    }
   ],
   "source": [
    "arr3 = [5, 1, 9, 2, 5, 1, 7]\n",
    "Solution8().maxAbdDiff(arr3)"
   ]
  }
 ],
 "metadata": {
  "kernelspec": {
   "display_name": "PPT",
   "language": "python",
   "name": "python3"
  },
  "language_info": {
   "codemirror_mode": {
    "name": "ipython",
    "version": 3
   },
   "file_extension": ".py",
   "mimetype": "text/x-python",
   "name": "python",
   "nbconvert_exporter": "python",
   "pygments_lexer": "ipython3",
   "version": "3.10.11"
  },
  "orig_nbformat": 4
 },
 "nbformat": 4,
 "nbformat_minor": 2
}
