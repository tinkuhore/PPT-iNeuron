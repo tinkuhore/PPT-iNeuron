{
 "cells": [
  {
   "attachments": {},
   "cell_type": "markdown",
   "metadata": {},
   "source": [
    "# 💡 **Question 1**\n",
    "\n",
    "Given two strings s1 and s2, return *the lowest **ASCII** sum of deleted characters to make two strings equal*.\n",
    "\n",
    "**Example 1:**\n",
    "\n",
    "**Input:** s1 = \"sea\", s2 = \"eat\"\n",
    "\n",
    "**Output:** 231\n",
    "\n",
    "**Explanation:** Deleting \"s\" from \"sea\" adds the ASCII value of \"s\" (115) to the sum.\n",
    "\n",
    "Deleting \"t\" from \"eat\" adds 116 to the sum.\n",
    "\n",
    "At the end, both strings are equal, and 115 + 116 = 231 is the minimum sum possible to achieve this.\n",
    "\n",
    "</aside>"
   ]
  },
  {
   "cell_type": "code",
   "execution_count": 1,
   "metadata": {},
   "outputs": [],
   "source": [
    "class Solution1:\n",
    "    def minimumDeleteSum(self, s1: str, s2: str) -> int:\n",
    "        m, n = len(s1), len(s2)\n",
    "        dp = [[0] * (n + 1) for _ in range(m + 1)]\n",
    "\n",
    "        for i in range(m - 1, -1, -1):\n",
    "            dp[i][n] = dp[i+1][n] + ord(s1[i])\n",
    "\n",
    "        for j in range(n - 1, -1, -1):\n",
    "            dp[m][j] = dp[m][j+1] + ord(s2[j])\n",
    "\n",
    "        for i in range(m - 1, -1, -1):\n",
    "            for j in range(n - 1, -1, -1):\n",
    "                if s1[i] == s2[j]:\n",
    "                    dp[i][j] = dp[i+1][j+1]\n",
    "                else:\n",
    "                    dp[i][j] = min(ord(s1[i]) + dp[i+1][j], ord(s2[j]) + dp[i][j+1])\n",
    "\n",
    "        return dp[0][0]"
   ]
  },
  {
   "cell_type": "code",
   "execution_count": 7,
   "metadata": {},
   "outputs": [],
   "source": [
    "class Solution1:\n",
    "    def minimumDeleteSum(self, s1: str, s2: str) -> int:\n",
    "        m, n = len(s1), len(s2)\n",
    "        if m * n == 0:\n",
    "            return m + n\n",
    "        dp = [0] * n\n",
    "        for i in range(m):\n",
    "            prev = 0\n",
    "            for j in range(n):\n",
    "                last = dp[j]\n",
    "                if s1[i] == s2[j]:\n",
    "                    dp[j] = prev + ord(s1[i])\n",
    "                if prev <= last:\n",
    "                    prev = last\n",
    "        return sum([ord(s) for s in s1+s2]) - max(dp) * 2 "
   ]
  },
  {
   "cell_type": "code",
   "execution_count": 10,
   "metadata": {},
   "outputs": [
    {
     "data": {
      "text/plain": [
       "425"
      ]
     },
     "execution_count": 10,
     "metadata": {},
     "output_type": "execute_result"
    }
   ],
   "source": [
    "Solution1().minimumDeleteSum(s1 = \"sae\", s2 = \"eat\")"
   ]
  },
  {
   "attachments": {},
   "cell_type": "markdown",
   "metadata": {},
   "source": [
    "# 💡 **Question 2**\n",
    "\n",
    "Given a string s containing only three types of characters: '(', ')' and '*', return true *if* s *is **valid***.\n",
    "\n",
    "The following rules define a **valid** string:\n",
    "\n",
    "- Any left parenthesis '(' must have a corresponding right parenthesis ')'.\n",
    "- Any right parenthesis ')' must have a corresponding left parenthesis '('.\n",
    "- Left parenthesis '(' must go before the corresponding right parenthesis ')'.\n",
    "- '*' could be treated as a single right parenthesis ')' or a single left parenthesis '(' or an empty string \"\".\n",
    "\n",
    "**Example 1:**\n",
    "\n",
    "**Input:** s = \"()\"\n",
    "\n",
    "**Output:**\n",
    "\n",
    "true\n",
    "\n",
    "</aside>"
   ]
  },
  {
   "cell_type": "code",
   "execution_count": 42,
   "metadata": {},
   "outputs": [],
   "source": [
    "class Solution2:\n",
    "    def checkValidString(self, s: str) -> bool:\n",
    "        while s.find(\"()\") != -1:\n",
    "            s = s.replace(\"()\", \"\",-1)\n",
    "            \n",
    "        if len(s) == 0:\n",
    "            return True\n",
    "        elif s[-1] == \"(\":\n",
    "            return False        \n",
    "\n",
    "        \n",
    "        stack = []\n",
    "        star_stack = []\n",
    "\n",
    "        for i, char in enumerate(s):\n",
    "            if char == '(':\n",
    "                stack.append(i)\n",
    "            elif char == '*':\n",
    "                star_stack.append(i)\n",
    "            else:  # char == ')'\n",
    "                if stack:\n",
    "                    stack.pop()\n",
    "                elif star_stack:\n",
    "                    star_stack.pop()\n",
    "                else:\n",
    "                    return False\n",
    "\n",
    "        while stack and star_stack:\n",
    "            if stack[-1] > star_stack[-1]:\n",
    "                return False\n",
    "            stack.pop()\n",
    "            star_stack.pop()\n",
    "\n",
    "        return len(stack) == 0\n",
    "\n",
    "                "
   ]
  },
  {
   "cell_type": "code",
   "execution_count": 43,
   "metadata": {},
   "outputs": [
    {
     "data": {
      "text/plain": [
       "False"
      ]
     },
     "execution_count": 43,
     "metadata": {},
     "output_type": "execute_result"
    }
   ],
   "source": [
    "s = \"(((((*(()((((*((**(((()()*)()()()*((((**)())*)*)))))))(())(()))())((*()()(((()((()*(())*(()**)()(())\"\n",
    "Solution2().checkValidString(s)"
   ]
  },
  {
   "attachments": {},
   "cell_type": "markdown",
   "metadata": {},
   "source": [
    "# 💡 **Question 3**\n",
    "\n",
    "Given two strings word1 and word2, return *the minimum number of **steps** required to make* word1 *and* word2 *the same*.\n",
    "\n",
    "In one **step**, you can delete exactly one character in either string.\n",
    "\n",
    "**Example 1:**\n",
    "\n",
    "**Input:** word1 = \"sea\", word2 = \"eat\"\n",
    "\n",
    "**Output:** 2\n",
    "\n",
    "**Explanation:** You need one step to make \"sea\" to \"ea\" and another step to make \"eat\" to \"ea\".\n",
    "\n",
    "</aside>"
   ]
  },
  {
   "cell_type": "code",
   "execution_count": 2,
   "metadata": {},
   "outputs": [],
   "source": [
    "class Solution3:\n",
    "    def minDistance(self, word1: str, word2: str) -> int:\n",
    "        m, n = len(word1), len(word2)\n",
    "        dp = [[0] * (n + 1) for _ in range(m + 1)]\n",
    "\n",
    "        for i in range(1, m + 1):\n",
    "            for j in range(1, n + 1):\n",
    "                if word1[i - 1] == word2[j - 1]:\n",
    "                    dp[i][j] = dp[i - 1][j - 1] + 1\n",
    "                else:\n",
    "                    dp[i][j] = max(dp[i - 1][j], dp[i][j - 1])\n",
    "\n",
    "        return m + n - 2 * dp[m][n]"
   ]
  },
  {
   "cell_type": "code",
   "execution_count": null,
   "metadata": {},
   "outputs": [],
   "source": [
    "Solution3().minDistance(\"mart\", \"karma\")"
   ]
  },
  {
   "cell_type": "code",
   "execution_count": 4,
   "metadata": {},
   "outputs": [
    {
     "data": {
      "text/plain": [
       "2"
      ]
     },
     "execution_count": 4,
     "metadata": {},
     "output_type": "execute_result"
    }
   ],
   "source": [
    "\"karma\"[1:].find(\"m\")"
   ]
  },
  {
   "attachments": {},
   "cell_type": "markdown",
   "metadata": {},
   "source": [
    "# 💡 **Question 4**\n",
    "\n",
    "You need to construct a binary tree from a string consisting of parenthesis and integers.\n",
    "\n",
    "The whole input represents a binary tree. It contains an integer followed by zero, one or two pairs of parenthesis. The integer represents the root's value and a pair of parenthesis contains a child binary tree with the same structure.\n",
    "You always start to construct the **left** child node of the parent first if it exists.\n",
    "\n",
    "**Input:** s = \"4(2(3)(1))(6(5))\"\n",
    "\n",
    "**Output:** [4,2,6,3,1,5]"
   ]
  },
  {
   "cell_type": "code",
   "execution_count": 3,
   "metadata": {},
   "outputs": [],
   "source": [
    "import re\n",
    "from typing import List\n",
    "\n",
    "class Solution4:\n",
    "    def str2binary(self, s: str)-> List[int]:\n",
    "        integers = []\n",
    "\n",
    "        while len(s) > 1:\n",
    "            matches = re.findall(r'\\((\\d+)\\)', s)\n",
    "            integers = [int(match) for match in matches] + integers\n",
    "            for i in matches:\n",
    "                s=s.replace(f\"({int(i)})\", '') \n",
    "\n",
    "        return [int(s)] + integers\n",
    "\n"
   ]
  },
  {
   "cell_type": "code",
   "execution_count": 4,
   "metadata": {},
   "outputs": [
    {
     "data": {
      "text/plain": [
       "[4, 2, 6, 3, 1, 5]"
      ]
     },
     "execution_count": 4,
     "metadata": {},
     "output_type": "execute_result"
    }
   ],
   "source": [
    "Solution4().str2binary(s = \"4(2(3)(1))(6(5))\")"
   ]
  },
  {
   "attachments": {},
   "cell_type": "markdown",
   "metadata": {},
   "source": [
    "# 💡 **Question 5**\n",
    "\n",
    "Given an array of characters chars, compress it using the following algorithm:\n",
    "\n",
    "Begin with an empty string s. For each group of **consecutive repeating characters** in chars:\n",
    "\n",
    "- If the group's length is 1, append the character to s.\n",
    "- Otherwise, append the character followed by the group's length.\n",
    "\n",
    "The compressed string s **should not be returned separately**, but instead, be stored **in the input character array chars**. Note that group lengths that are 10 or longer will be split into multiple characters in chars.\n",
    "\n",
    "After you are done **modifying the input array,** return *the new length of the array*.\n",
    "\n",
    "You must write an algorithm that uses only constant extra space.\n",
    "\n",
    "**Example 1:**\n",
    "\n",
    "**Input:** chars = [\"a\",\"a\",\"b\",\"b\",\"c\",\"c\",\"c\"]\n",
    "\n",
    "**Output:** Return 6, and the first 6 characters of the input array should be: [\"a\",\"2\",\"b\",\"2\",\"c\",\"3\"]\n",
    "\n",
    "**Explanation:**\n",
    "\n",
    "The groups are \"aa\", \"bb\", and \"ccc\". This compresses to \"a2b2c3\".\n",
    "\n",
    "</aside>"
   ]
  },
  {
   "cell_type": "code",
   "execution_count": 27,
   "metadata": {},
   "outputs": [],
   "source": [
    "class Solution5:\n",
    "    def compress(self, chars: List[str]) -> int:\n",
    "        n = len(chars)\n",
    "        if n == 1:\n",
    "            return 1\n",
    "\n",
    "        write = 0\n",
    "        count = 1\n",
    "\n",
    "        for read in range(1, n):\n",
    "            if chars[read] == chars[read-1]:\n",
    "                count += 1\n",
    "            else:\n",
    "                chars[write] = chars[read-1]\n",
    "                write += 1\n",
    "                if count > 1:\n",
    "                    count_str = str(count)\n",
    "                    chars[write:write+len(count_str)] = count_str\n",
    "                    write += len(count_str)\n",
    "                count = 1\n",
    "\n",
    "        chars[write] = chars[n-1]\n",
    "        write += 1\n",
    "        if count > 1:\n",
    "            count_str = str(count)\n",
    "            chars[write:write+len(count_str)] = count_str\n",
    "            write += len(count_str)\n",
    "\n",
    "        return write"
   ]
  },
  {
   "cell_type": "code",
   "execution_count": 51,
   "metadata": {},
   "outputs": [],
   "source": [
    "class Solution5:\n",
    "    def compress(self, chars: List[str]) -> int:\n",
    "        global count, grp\n",
    "        grp = []\n",
    "        count = 0\n",
    "        \n",
    "\n",
    "        n = len(chars)\n",
    "        if n == 1:\n",
    "            return 1\n",
    "        \n",
    "        for i in range(n):\n",
    "            e = chars.pop(0)\n",
    "            if not grp or e in grp:\n",
    "                grp.append(e)\n",
    "            \n",
    "            elif e not in grp:\n",
    "                s = grp[0]\n",
    "                if len(grp) > 1:\n",
    "                    s = s+str(int(len(grp)))\n",
    "\n",
    "                count += len(s)                \n",
    "                chars += list(s)\n",
    "                grp = [e]\n",
    "        \n",
    "\n",
    "        s = grp[0]\n",
    "        if len(grp) > 1:\n",
    "            s = s+str(int(len(grp)))\n",
    "\n",
    "        count += len(s)                \n",
    "        chars += list(s)\n",
    "\n",
    "\n",
    "\n",
    "        return count\n",
    "\n",
    "\n",
    "            \n"
   ]
  },
  {
   "cell_type": "code",
   "execution_count": 52,
   "metadata": {},
   "outputs": [
    {
     "data": {
      "text/plain": [
       "6"
      ]
     },
     "execution_count": 52,
     "metadata": {},
     "output_type": "execute_result"
    }
   ],
   "source": [
    "chars = [\"a\",\"a\",\"b\",\"b\",\"c\",\"c\",\"c\"]\n",
    "\n",
    "Solution5().compress(chars)"
   ]
  },
  {
   "attachments": {},
   "cell_type": "markdown",
   "metadata": {},
   "source": [
    "# 💡 **Question 6**\n",
    "\n",
    "Given two strings s and p, return *an array of all the start indices of* p*'s anagrams in* s. You may return the answer in **any order**.\n",
    "\n",
    "An **Anagram** is a word or phrase formed by rearranging the letters of a different word or phrase, typically using all the original letters exactly once.\n",
    "\n",
    "**Example 1:**\n",
    "\n",
    "**Input:** s = \"cbaebabacd\", p = \"abc\"\n",
    "\n",
    "**Output:** [0,6]\n",
    "\n",
    "**Explanation:**\n",
    "\n",
    "The substring with start index = 0 is \"cba\", which is an anagram of \"abc\".\n",
    "\n",
    "The substring with start index = 6 is \"bac\", which is an anagram of \"abc\".\n",
    "\n",
    "</aside>"
   ]
  },
  {
   "cell_type": "code",
   "execution_count": 11,
   "metadata": {},
   "outputs": [],
   "source": [
    "from typing import List\n",
    "\n",
    "class Solution6:\n",
    "    def findAnagrams(self, s: str, p: str) -> List[int]:\n",
    "        def is_anagram(str1, str2):\n",
    "            # Frequency dictionaries\n",
    "            freq1 = {}\n",
    "            freq2 = {}\n",
    "            # Update frequencies for str1\n",
    "            for char in str1:\n",
    "                freq1[char] = freq1.get(char, 0) + 1\n",
    "\n",
    "            # Update frequencies for str2\n",
    "            for char in str2:\n",
    "                freq2[char] = freq2.get(char, 0) + 1\n",
    "\n",
    "            # Compare dictionaries\n",
    "            return freq1 == freq2\n",
    "\n",
    "        i =0\n",
    "        n = len(p)\n",
    "        res = []\n",
    "\n",
    "        while i < len(s):\n",
    "            curr = s[i:i+n]\n",
    "            if len(curr) == n:\n",
    "                if is_anagram(curr, p):\n",
    "                    res.append(i)\n",
    "            i += 1\n",
    "            \n",
    "\n",
    "        return res"
   ]
  },
  {
   "cell_type": "code",
   "execution_count": 13,
   "metadata": {},
   "outputs": [],
   "source": [
    "class Solution6:\n",
    "    def findAnagrams(self, s: str, p: str) -> List[int]:\n",
    "        def is_anagram(freq1, freq2):\n",
    "            return freq1 == freq2\n",
    "\n",
    "        res = []\n",
    "        m, n = len(s), len(p)\n",
    "\n",
    "        if m < n:\n",
    "            return res\n",
    "\n",
    "        freq_p = [0] * 26\n",
    "        freq_s = [0] * 26\n",
    "\n",
    "        # Calculate initial frequencies for p and the first window in s\n",
    "        for i in range(n):\n",
    "            freq_p[ord(p[i]) - ord('a')] += 1\n",
    "            freq_s[ord(s[i]) - ord('a')] += 1\n",
    "\n",
    "        # Slide the window through s\n",
    "        for i in range(m - n + 1):\n",
    "            if is_anagram(freq_p, freq_s):\n",
    "                res.append(i)\n",
    "\n",
    "            # Update frequencies for the next window\n",
    "            if i < m - n:\n",
    "                freq_s[ord(s[i]) - ord('a')] -= 1\n",
    "                freq_s[ord(s[i + n]) - ord('a')] += 1\n",
    "\n",
    "        return res\n"
   ]
  },
  {
   "cell_type": "code",
   "execution_count": 16,
   "metadata": {},
   "outputs": [
    {
     "data": {
      "text/plain": [
       "[1]"
      ]
     },
     "execution_count": 16,
     "metadata": {},
     "output_type": "execute_result"
    }
   ],
   "source": [
    "s = \"baa\"\n",
    "p = \"aa\"\n",
    "\n",
    "Solution6().findAnagrams(s,p)"
   ]
  },
  {
   "attachments": {},
   "cell_type": "markdown",
   "metadata": {},
   "source": [
    "# 💡 **Question 7**\n",
    "\n",
    "Given an encoded string, return its decoded string.\n",
    "\n",
    "The encoding rule is: k[encoded_string], where the encoded_string inside the square brackets is being repeated exactly k times. Note that k is guaranteed to be a positive integer.\n",
    "\n",
    "You may assume that the input string is always valid; there are no extra white spaces, square brackets are well-formed, etc. Furthermore, you may assume that the original data does not contain any digits and that digits are only for those repeat numbers, k. For example, there will not be input like 3a or 2[4].\n",
    "\n",
    "The test cases are generated so that the length of the output will never exceed 105.\n",
    "\n",
    "**Example 1:**\n",
    "\n",
    "**Input:** s = \"3[a]2[bc]\"\n",
    "\n",
    "**Output:** \"aaabcbc\"\n",
    "\n",
    "</aside>"
   ]
  },
  {
   "cell_type": "code",
   "execution_count": 8,
   "metadata": {},
   "outputs": [],
   "source": [
    "class Solution7:\n",
    "    def decodeString(self, s: str) -> str:\n",
    "        pattern = re.compile(r'(\\d+)\\[([^\\[\\]]*)\\]')  # pattern to handle digits before brackets\n",
    "\n",
    "        while '[' in s:\n",
    "            match = pattern.search(s)\n",
    "            full_match = match.group()\n",
    "            num_repeat = int(match.group(1))\n",
    "            substr = match.group(2)\n",
    "            decoded_str = substr * num_repeat\n",
    "\n",
    "            s = s.replace(full_match, decoded_str, 1)\n",
    "\n",
    "        return s"
   ]
  },
  {
   "cell_type": "code",
   "execution_count": 9,
   "metadata": {},
   "outputs": [
    {
     "data": {
      "text/plain": [
       "'aaabcbc'"
      ]
     },
     "execution_count": 9,
     "metadata": {},
     "output_type": "execute_result"
    }
   ],
   "source": [
    "s = \"3[a]2[bc]\"\n",
    "\n",
    "Solution7().decodeString(s)"
   ]
  },
  {
   "attachments": {},
   "cell_type": "markdown",
   "metadata": {},
   "source": [
    "# 💡 **Question 8**\n",
    "\n",
    "Given two strings s and goal, return true *if you can swap two letters in* s *so the result is equal to* goal*, otherwise, return* false*.*\n",
    "\n",
    "Swapping letters is defined as taking two indices i and j (0-indexed) such that i != j and swapping the characters at s[i] and s[j].\n",
    "\n",
    "- For example, swapping at indices 0 and 2 in \"abcd\" results in \"cbad\".\n",
    "\n",
    "**Example 1:**\n",
    "\n",
    "**Input:** s = \"ab\", goal = \"ba\"\n",
    "\n",
    "**Output:** true\n",
    "\n",
    "**Explanation:** You can swap s[0] = 'a' and s[1] = 'b' to get \"ba\", which is equal to goal.\n",
    "\n",
    "</aside>"
   ]
  },
  {
   "cell_type": "code",
   "execution_count": 15,
   "metadata": {},
   "outputs": [],
   "source": [
    "class Solution8:\n",
    "    def buddyStrings(self, s: str, goal: str) -> bool:\n",
    "        if len(s) != len(goal):\n",
    "            return False\n",
    "\n",
    "        if s == goal:\n",
    "            return len(s) - len(set(s)) >= 1\n",
    "\n",
    "        indices = (-1, -1)\n",
    "\n",
    "        for i in range(len(s)):\n",
    "            if s[i] != goal[i]:\n",
    "                if indices[0] == -1:\n",
    "                    indices = (i, -1)\n",
    "                elif indices[1] == -1:\n",
    "                    indices = (indices[0], i)\n",
    "                else:\n",
    "                    return False\n",
    "\n",
    "        if indices[0] != -1 and indices[1] != -1:\n",
    "            return s[indices[0]] == goal[indices[1]] and s[indices[1]] == goal[indices[0]]\n",
    "\n",
    "        return False\n",
    "\n",
    "        \n",
    "        \n"
   ]
  },
  {
   "cell_type": "code",
   "execution_count": 16,
   "metadata": {},
   "outputs": [
    {
     "data": {
      "text/plain": [
       "True"
      ]
     },
     "execution_count": 16,
     "metadata": {},
     "output_type": "execute_result"
    }
   ],
   "source": [
    "s = 'abcd'\n",
    "goal = 'cbad'\n",
    "\n",
    "Solution8().buddyStrings(s, goal)"
   ]
  },
  {
   "cell_type": "code",
   "execution_count": null,
   "metadata": {},
   "outputs": [],
   "source": []
  }
 ],
 "metadata": {
  "kernelspec": {
   "display_name": "PPT",
   "language": "python",
   "name": "python3"
  },
  "language_info": {
   "codemirror_mode": {
    "name": "ipython",
    "version": 3
   },
   "file_extension": ".py",
   "mimetype": "text/x-python",
   "name": "python",
   "nbconvert_exporter": "python",
   "pygments_lexer": "ipython3",
   "version": "3.10.11"
  },
  "orig_nbformat": 4
 },
 "nbformat": 4,
 "nbformat_minor": 2
}
