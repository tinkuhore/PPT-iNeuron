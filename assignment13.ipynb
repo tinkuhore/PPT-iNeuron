{
 "cells": [
  {
   "attachments": {},
   "cell_type": "markdown",
   "metadata": {},
   "source": [
    "#  💡 **Question 1**\n",
    "\n",
    "Given two linked list of the same size, the task is to create a new linked list using those linked lists. The condition is that the greater node among both linked list will be added to the new linked list.\n",
    "\n",
    "**Examples:**\n",
    "\n",
    "Input: list1 = 5->2->3->8\n",
    "\n",
    "list2 = 1->7->4->5\n",
    "\n",
    "Output: New list = 5->7->4->8\n",
    "\n",
    "\n",
    "Input:list1 = 2->8->9->3\n",
    "\n",
    "list2 = 5->3->6->4\n",
    "\n",
    "Output: New list = 5->8->9->4"
   ]
  },
  {
   "cell_type": "code",
   "execution_count": 13,
   "metadata": {},
   "outputs": [],
   "source": [
    "# Definition for singly-linked list\n",
    "class ListNode:\n",
    "    def __init__(self, val=0, next=None):\n",
    "        self.val = val\n",
    "        self.next = next\n",
    "\n",
    "def printLinkedList(head):\n",
    "    current = head\n",
    "    while current is not None:\n",
    "        print(current.val, end=\" -> \")\n",
    "        current = current.next\n",
    "    print(\"None\")"
   ]
  },
  {
   "cell_type": "code",
   "execution_count": 5,
   "metadata": {},
   "outputs": [],
   "source": [
    "class Solution1:\n",
    "    def generate(self, head1: ListNode, head2: ListNode)-> ListNode:\n",
    "        # Initiate the new linked list\n",
    "        head3 = head1 if head1.val > head2.val else head2\n",
    "\n",
    "        p1, p2, p3 = head1.next, head2.next, head3\n",
    "\n",
    "        while p1 and p2:\n",
    "            p3.next = p1 if p1.val>p2.val else p2\n",
    "            p1 = p1.next\n",
    "            p2 = p2.next\n",
    "            p3 = p3.next\n",
    "\n",
    "        return head3"
   ]
  },
  {
   "cell_type": "code",
   "execution_count": 3,
   "metadata": {},
   "outputs": [
    {
     "name": "stdout",
     "output_type": "stream",
     "text": [
      "5->3->6->7->"
     ]
    }
   ],
   "source": [
    "nodes1 = [ListNode(i) for i in [1,3,2,7]]\n",
    "nodes2 = [ListNode(i) for i in [5,1,6,4]]\n",
    "\n",
    "for i in range(4):\n",
    "    if i<3:\n",
    "        nodes1[i].next = nodes1[i+1]\n",
    "        nodes2[i].next = nodes2[i+1]\n",
    "    else:\n",
    "        nodes1[i].next = None\n",
    "        nodes2[i].next = None\n",
    "\n",
    "h3 = Solution1().generate(nodes1[0], nodes2[0])\n",
    "\n",
    "curr = h3\n",
    "while curr:\n",
    "    print(curr.val, end='->')\n",
    "    curr = curr.next\n"
   ]
  },
  {
   "attachments": {},
   "cell_type": "markdown",
   "metadata": {},
   "source": [
    "# 💡 **Question 2**\n",
    "\n",
    "Write a function that takes a list sorted in non-decreasing order and deletes any duplicate nodes from the list. The list should only be traversed once.\n",
    "\n",
    "For example if the linked list is 11->11->11->21->43->43->60 then removeDuplicates() should convert the list to 11->21->43->60.\n",
    "\n",
    "**Example 1:**\n",
    "\n",
    "```\n",
    "Input:\n",
    "LinkedList: \n",
    "11->11->11->21->43->43->60\n",
    "Output:\n",
    "11->21->43->60\n",
    "```\n",
    "\n",
    "**Example 2:**\n",
    "\n",
    "```\n",
    "Input:\n",
    "LinkedList: \n",
    "10->12->12->25->25->25->34\n",
    "Output:\n",
    "10->12->25->34\n",
    "```"
   ]
  },
  {
   "cell_type": "code",
   "execution_count": 6,
   "metadata": {},
   "outputs": [],
   "source": [
    "class Solution2:\n",
    "    def deleteDuplicates(self, head: ListNode)-> ListNode:\n",
    "        found = set()\n",
    "\n",
    "        p1 = head\n",
    "        prev = None\n",
    "        while p1:\n",
    "            if p1.val not in found:\n",
    "                found.add(p1.val)\n",
    "                prev = p1\n",
    "            else:\n",
    "                prev.next = p1.next\n",
    "                p1 = p1.next\n",
    "\n",
    "        return head"
   ]
  },
  {
   "cell_type": "code",
   "execution_count": 12,
   "metadata": {},
   "outputs": [
    {
     "name": "stdout",
     "output_type": "stream",
     "text": [
      "Linked list before\n",
      "2->3->3->4->4->4->5->6->7->7->7->7->7->8->\n",
      "\n",
      "Linked list after removing duplicates\n",
      "2->3->4->5->6->7->8->"
     ]
    }
   ],
   "source": [
    "values = [2,3,3,4,4,4,5,6,7,7,7,7,7,8]\n",
    "nodes = [ListNode(i) for i in values]\n",
    "for i in range(len(values)):\n",
    "    nodes[i].next = nodes[i+1] if i<len(values)-1 else None\n",
    "\n",
    "print(\"Linked list before\")\n",
    "curr = nodes[0]\n",
    "while curr:\n",
    "    print(curr.val, end='->')\n",
    "    curr = curr.next\n",
    "\n",
    "\n",
    "new_head = Solution2().deleteDuplicates(nodes[0])\n",
    "\n",
    "print(\"\\n\\nLinked list after removing duplicates\")\n",
    "curr = new_head\n",
    "while curr:\n",
    "    print(curr.val, end='->')\n",
    "    curr = curr.next"
   ]
  },
  {
   "attachments": {},
   "cell_type": "markdown",
   "metadata": {},
   "source": [
    "#  💡 **Question 3**\n",
    "\n",
    "Given a linked list of size **N**. The task is to reverse every **k** nodes (where k is an input to the function) in the linked list. If the number of nodes is not a multiple of *k* then left-out nodes, in the end, should be considered as a group and must be reversed (See Example 2 for clarification).\n",
    "\n",
    "**Example 1:**\n",
    "\n",
    "```\n",
    "Input:\n",
    "LinkedList: 1->2->2->4->5->6->7->8\n",
    "K = 4\n",
    "Output:4 2 2 1 8 7 6 5\n",
    "Explanation:\n",
    "The first 4 elements 1,2,2,4 are reversed first\n",
    "and then the next 4 elements 5,6,7,8. Hence, the\n",
    "resultant linked list is 4->2->2->1->8->7->6->5.\n",
    "\n",
    "```\n",
    "\n",
    "**Example 2:**\n",
    "\n",
    "```\n",
    "Input:\n",
    "LinkedList: 1->2->3->4->5\n",
    "K = 3\n",
    "Output:3 2 1 5 4\n",
    "Explanation:\n",
    "The first 3 elements are 1,2,3 are reversed\n",
    "first and then elements 4,5 are reversed.Hence,\n",
    "the resultant linked list is 3->2->1->5->4.\n",
    "```"
   ]
  },
  {
   "cell_type": "code",
   "execution_count": 16,
   "metadata": {},
   "outputs": [],
   "source": [
    "class Solution3:\n",
    "    def reverseKGroup(self, head: ListNode, k: int)->ListNode:\n",
    "        # Edge cases: empty list or k = 1\n",
    "        if not head or k == 1:\n",
    "            return head\n",
    "        \n",
    "        # Initialize pointers\n",
    "        prev = None\n",
    "        curr = head\n",
    "        next = None\n",
    "        count = 0\n",
    "        \n",
    "        # Reverse k nodes\n",
    "        while curr and count < k:\n",
    "            next = curr.next\n",
    "            curr.next = prev\n",
    "            prev = curr\n",
    "            curr = next\n",
    "            count += 1\n",
    "        \n",
    "        # If there are left-out nodes, reverse them\n",
    "        if next:\n",
    "            head.next = self.reverseKGroup(next, k)\n",
    "        \n",
    "        # Return the new head of the reversed list\n",
    "        return prev\n",
    "                "
   ]
  },
  {
   "cell_type": "code",
   "execution_count": 19,
   "metadata": {},
   "outputs": [
    {
     "name": "stdout",
     "output_type": "stream",
     "text": [
      "Linked list before:\n",
      "2 -> 3 -> 3 -> 4 -> 4 -> 4 -> 5 -> 6 -> 7 -> 7 -> 7 -> 7 -> 7 -> 8 -> None\n",
      "Linked list after:\n",
      "4 -> 3 -> 3 -> 2 -> 6 -> 5 -> 4 -> 4 -> 7 -> 7 -> 7 -> 7 -> 8 -> 7 -> None\n"
     ]
    }
   ],
   "source": [
    "values = [2,3,3,4,4,4,5,6,7,7,7,7,7,8]\n",
    "nodes = [ListNode(i) for i in values]\n",
    "for i in range(len(values)):\n",
    "    nodes[i].next = nodes[i+1] if i<len(values)-1 else None\n",
    "\n",
    "print(\"Linked list before:\")\n",
    "printLinkedList(nodes[0])\n",
    "\n",
    "new_head = Solution3().reverseKGroup(nodes[0], 4)\n",
    "\n",
    "print(\"Linked list after:\")\n",
    "printLinkedList(new_head)"
   ]
  },
  {
   "attachments": {},
   "cell_type": "markdown",
   "metadata": {},
   "source": [
    "#  💡 **Question 4**\n",
    "\n",
    "Given a linked list, write a function to reverse every alternate k nodes (where k is an input to the function) in an efficient way. Give the complexity of your algorithm.\n",
    "\n",
    "**Example:**\n",
    "```\n",
    "Inputs:   1->2->3->4->5->6->7->8->9->NULL and k = 3\n",
    "Output:   3->2->1->4->5->6->9->8->7->NULL.\n",
    "```"
   ]
  },
  {
   "cell_type": "code",
   "execution_count": 21,
   "metadata": {},
   "outputs": [],
   "source": [
    "from typing import Optional\n",
    "\n",
    "\n",
    "class Solution4:\n",
    "    def reverseKGroup(self, head: Optional[ListNode], k: int) -> Optional[ListNode]:\n",
    "        # Edge cases: empty list or k = 1\n",
    "        if not head or k == 1:\n",
    "            return head\n",
    "        \n",
    "        # Count the number of nodes\n",
    "        count = 0\n",
    "        curr = head\n",
    "        while curr:\n",
    "            count += 1\n",
    "            curr = curr.next\n",
    "        \n",
    "        # Calculate the number of groups\n",
    "        num_groups = count // k\n",
    "        \n",
    "        # Create a dummy node to handle the case of reversing the first k nodes\n",
    "        dummy = ListNode(0)\n",
    "        dummy.next = head\n",
    "        \n",
    "        # Initialize pointers\n",
    "        prev = dummy\n",
    "        curr = head\n",
    "        \n",
    "        # Reverse k nodes in each group\n",
    "        for _ in range(num_groups):\n",
    "            for _ in range(k - 1):\n",
    "                next_node = curr.next\n",
    "                curr.next = next_node.next\n",
    "                next_node.next = prev.next\n",
    "                prev.next = next_node\n",
    "            prev = curr\n",
    "            curr = curr.next\n",
    "        \n",
    "        # If there are remaining nodes, connect them to the end\n",
    "        prev.next = curr\n",
    "        \n",
    "        # Return the head of the reversed list\n",
    "        return dummy.next"
   ]
  },
  {
   "cell_type": "code",
   "execution_count": 24,
   "metadata": {},
   "outputs": [
    {
     "name": "stdout",
     "output_type": "stream",
     "text": [
      "Linked list before:\n",
      "2 -> 3 -> 3 -> 4 -> 4 -> 4 -> 5 -> 6 -> 7 -> 7 -> 8 -> None\n",
      "Linked list after:\n",
      "4 -> 4 -> 4 -> 3 -> 3 -> 2 -> 5 -> 6 -> 7 -> 7 -> 8 -> None\n"
     ]
    }
   ],
   "source": [
    "values = [2,3,3,4,4,4,5,6,7,7,8]\n",
    "nodes = [ListNode(i) for i in values]\n",
    "for i in range(len(values)):\n",
    "    nodes[i].next = nodes[i+1] if i<len(values)-1 else None\n",
    "\n",
    "print(\"Linked list before:\")\n",
    "printLinkedList(nodes[0])\n",
    "\n",
    "new_head = Solution4().reverseKGroup(nodes[0], 6)\n",
    "\n",
    "print(\"Linked list after:\")\n",
    "printLinkedList(new_head)"
   ]
  },
  {
   "attachments": {},
   "cell_type": "markdown",
   "metadata": {},
   "source": [
    "#  💡 **Question 5**\n",
    "\n",
    "Given a linked list and a key to be deleted. Delete last occurrence of key from linked. The list may have duplicates.\n",
    "\n",
    "**Examples**:\n",
    "```\n",
    "Input:   1->2->3->5->2->10, key = 2\n",
    "Output:  1->2->3->5->10\n",
    "```"
   ]
  },
  {
   "cell_type": "code",
   "execution_count": 28,
   "metadata": {},
   "outputs": [],
   "source": [
    "class Solution5:\n",
    "    def deleteLastOccurrence(self, head: Optional[ListNode], key: Optional[int])-> Optional[ListNode]:\n",
    "        target = None\n",
    "        prev = None\n",
    "        temp = None\n",
    "        p = head\n",
    "\n",
    "        # find the target node\n",
    "        while p:\n",
    "            if p.val == key:\n",
    "                target = p\n",
    "                prev = temp\n",
    "\n",
    "            temp = p\n",
    "            p = p.next\n",
    "\n",
    "        # remove the target node\n",
    "        if prev:\n",
    "            prev.next=target.next\n",
    "        else:\n",
    "            head = target.next\n",
    "\n",
    "        return head\n",
    "        \n",
    "\n",
    "        "
   ]
  },
  {
   "cell_type": "code",
   "execution_count": 30,
   "metadata": {},
   "outputs": [
    {
     "name": "stdout",
     "output_type": "stream",
     "text": [
      "Linked list before:\n",
      "2 -> 3 -> 3 -> 4 -> 4 -> 4 -> 5 -> 6 -> 7 -> 2 -> 7 -> 8 -> None\n",
      "Linked list after:\n",
      "2 -> 3 -> 3 -> 4 -> 4 -> 4 -> 5 -> 6 -> 7 -> 7 -> 8 -> None\n"
     ]
    }
   ],
   "source": [
    "values = [2,3,3,4,4,4,5,6,7,2,7,8]\n",
    "nodes = [ListNode(i) for i in values]\n",
    "for i in range(len(values)):\n",
    "    nodes[i].next = nodes[i+1] if i<len(values)-1 else None\n",
    "\n",
    "print(\"Linked list before:\")\n",
    "printLinkedList(nodes[0])\n",
    "\n",
    "new_head = Solution5().deleteLastOccurrence(nodes[0], 2)\n",
    "\n",
    "print(\"Linked list after:\")\n",
    "printLinkedList(new_head)"
   ]
  },
  {
   "attachments": {},
   "cell_type": "markdown",
   "metadata": {},
   "source": [
    "#  💡 **Question 6**\n",
    "\n",
    "Given two sorted linked lists consisting of **N** and **M** nodes respectively. The task is to merge both of the lists (in place) and return the head of the merged list.\n",
    "\n",
    "**Examples:**\n",
    "\n",
    "```\n",
    "Input: a: 5->10->15, b: 2->3->20\n",
    "\n",
    "Output: 2->3->5->10->15->20\n",
    "\n",
    "Input: a: 1->1, b: 2->4\n",
    "\n",
    "Output: 1->1->2->4\n",
    "\n",
    "```"
   ]
  },
  {
   "cell_type": "code",
   "execution_count": 31,
   "metadata": {},
   "outputs": [],
   "source": [
    "class Solution6:\n",
    "    def mergeSortedLinkedLists(self, head1: Optional[ListNode], head2: Optional[ListNode])-> Optional[ListNode]:\n",
    "        p1, p2 = head1, head2\n",
    "\n",
    "        # initiating the new Linked List\n",
    "        if p1.val < p2.val:\n",
    "            head3 = p1\n",
    "            p1 = p1.next\n",
    "        else:\n",
    "            head3 = p2\n",
    "            p2 = p2.next\n",
    "\n",
    "        p3 = head3\n",
    "        # appending nodes from both in the new Linked List\n",
    "        while p1 and p2:\n",
    "            if p1.val < p2.val:\n",
    "                p3.next = p1\n",
    "                p1 = p1.next\n",
    "            else:\n",
    "                p3.next = p2\n",
    "                p2 = p2.next\n",
    "            p3 = p3.next\n",
    "\n",
    "        # appending remaining nodes from either linked list\n",
    "        if p1:\n",
    "            p3.next = p1\n",
    "        if p2:\n",
    "            p3.next = p2\n",
    "\n",
    "        return head3"
   ]
  },
  {
   "cell_type": "code",
   "execution_count": 33,
   "metadata": {},
   "outputs": [
    {
     "name": "stdout",
     "output_type": "stream",
     "text": [
      "First Linked list:\n",
      "1 -> 2 -> 5 -> 8 -> None\n",
      "Second Linked list\n",
      "2 -> 4 -> 7 -> 10 -> None\n",
      "Merged Linked list:\n",
      "1 -> 2 -> 2 -> 4 -> 5 -> 7 -> 8 -> 10 -> None\n"
     ]
    }
   ],
   "source": [
    "nodes1 = [ListNode(i) for i in [1,2,5,8,9]]\n",
    "nodes2 = [ListNode(i) for i in [2,4,7,10]]\n",
    "\n",
    "for i in range(4):\n",
    "    if i<3:\n",
    "        nodes1[i].next = nodes1[i+1]\n",
    "        nodes2[i].next = nodes2[i+1]\n",
    "    else:\n",
    "        nodes1[i].next = None\n",
    "        nodes2[i].next = None\n",
    "\n",
    "print(\"First Linked list:\")\n",
    "printLinkedList(nodes1[0])\n",
    "\n",
    "print(\"Second Linked list\")\n",
    "printLinkedList(nodes2[0])\n",
    "\n",
    "new_head = Solution6().mergeSortedLinkedLists(nodes1[0], nodes2[0])\n",
    "\n",
    "print(\"Merged Linked list:\")\n",
    "printLinkedList(new_head)"
   ]
  },
  {
   "attachments": {},
   "cell_type": "markdown",
   "metadata": {},
   "source": [
    "#  💡 **Question 7**\n",
    "\n",
    "Given a **Doubly Linked List**, the task is to reverse the given Doubly Linked List.\n",
    "\n",
    "**Example:**\n",
    "```\n",
    "Original Linked list 10 8 4 2\n",
    "Reversed Linked list 2 4 8 10\n",
    "```"
   ]
  },
  {
   "cell_type": "code",
   "execution_count": 34,
   "metadata": {},
   "outputs": [],
   "source": [
    "class DoublyListNode:\n",
    "    def __init__(self, val=0, prev=None, next=None):\n",
    "        self.val = val\n",
    "        self.prev = prev\n",
    "        self.next = next\n",
    "\n",
    "def create_doubly_linked_list(values):\n",
    "    if not values:\n",
    "        return None\n",
    "\n",
    "    head = DoublyListNode(values[0])\n",
    "    current = head\n",
    "\n",
    "    for i in range(1, len(values)):\n",
    "        node = DoublyListNode(values[i])\n",
    "        current.next = node\n",
    "        node.prev = current\n",
    "        current = current.next\n",
    "\n",
    "    return head\n"
   ]
  },
  {
   "cell_type": "code",
   "execution_count": 37,
   "metadata": {},
   "outputs": [],
   "source": [
    "def print_doubly_linked_list(head):\n",
    "    if not head:\n",
    "        print(\"Empty doubly linked list\")\n",
    "        return\n",
    "\n",
    "    current = head\n",
    "    while current:\n",
    "        if current.next:\n",
    "            print(current.val, end=\" <-> \")\n",
    "        else:\n",
    "            print(current.val, end=\" -> \")\n",
    "        current = current.next\n",
    "\n",
    "    print(None)"
   ]
  },
  {
   "cell_type": "code",
   "execution_count": 56,
   "metadata": {},
   "outputs": [
    {
     "name": "stdout",
     "output_type": "stream",
     "text": [
      "1 <-> 2 <-> 3 <-> 4 <-> 5 -> None\n"
     ]
    }
   ],
   "source": [
    "\n",
    "# Create the doubly linked list\n",
    "values = [1, 2, 3, 4, 5]\n",
    "head = create_doubly_linked_list(values)\n",
    "\n",
    "print_doubly_linked_list(head)"
   ]
  },
  {
   "cell_type": "code",
   "execution_count": 57,
   "metadata": {},
   "outputs": [
    {
     "data": {
      "text/plain": [
       "<__main__.DoublyListNode at 0x7fc192fcde40>"
      ]
     },
     "execution_count": 57,
     "metadata": {},
     "output_type": "execute_result"
    }
   ],
   "source": [
    "head.next"
   ]
  },
  {
   "cell_type": "code",
   "execution_count": 53,
   "metadata": {},
   "outputs": [],
   "source": [
    "class Solution7:\n",
    "    def reverseDoubly(self, head: DoublyListNode)->DoublyListNode:\n",
    "        previous = None\n",
    "        curr = head\n",
    "\n",
    "        while curr:\n",
    "            next_node = curr.next\n",
    "            curr.next = previous\n",
    "            curr.prev = next_node\n",
    "            previous = curr\n",
    "            curr = next_node\n",
    "\n",
    "        return previous"
   ]
  },
  {
   "cell_type": "code",
   "execution_count": 58,
   "metadata": {},
   "outputs": [
    {
     "name": "stdout",
     "output_type": "stream",
     "text": [
      "5 <-> 4 <-> 3 <-> 2 <-> 1 -> None\n"
     ]
    }
   ],
   "source": [
    "new_head = Solution7().reverseDoubly(head)\n",
    "\n",
    "print_doubly_linked_list(new_head)"
   ]
  },
  {
   "attachments": {},
   "cell_type": "markdown",
   "metadata": {},
   "source": [
    "# 💡 **Question 8**\n",
    "\n",
    "Given a doubly linked list and a position. The task is to delete a node from given position in a doubly linked list.\n",
    "\n",
    "**Example 1:**\n",
    "\n",
    "```\n",
    "Input:\n",
    "LinkedList = 1 <--> 3 <--> 4\n",
    "x = 3\n",
    "Output:1 3\n",
    "Explanation:After deleting the node at\n",
    "position 3 (position starts from 1),\n",
    "the linked list will be now as 1->3.\n",
    "\n",
    "```\n",
    "\n",
    "**Example 2:**\n",
    "\n",
    "```\n",
    "Input:\n",
    "LinkedList = 1 <--> 5 <--> 2 <--> 9\n",
    "x = 1\n",
    "Output:5 2 9\n",
    "```"
   ]
  },
  {
   "cell_type": "code",
   "execution_count": 63,
   "metadata": {},
   "outputs": [],
   "source": [
    "class Solution8:\n",
    "    def deleteIndex(self, head: DoublyListNode, index: int)->DoublyListNode:\n",
    "        p1 = head\n",
    "\n",
    "        if index>1:\n",
    "            for _ in range(index-2):\n",
    "                p1 = p1.next\n",
    "\n",
    "            # remove node\n",
    "            if p1.next.next:\n",
    "                next_node = p1.next.next\n",
    "                p1.next = next_node\n",
    "                next_node.prev = p1\n",
    "            else:\n",
    "                p1.next = None\n",
    "        \n",
    "        else:\n",
    "            # remove the head\n",
    "            head = head.next\n",
    "\n",
    "        return head\n"
   ]
  },
  {
   "cell_type": "code",
   "execution_count": 64,
   "metadata": {},
   "outputs": [
    {
     "name": "stdout",
     "output_type": "stream",
     "text": [
      "1 <-> 2 <-> 3 <-> 4 <-> 5 -> None\n",
      "after removing the node\n",
      "1 <-> 2 <-> 4 <-> 5 -> None\n"
     ]
    }
   ],
   "source": [
    "# Create the doubly linked list\n",
    "values = [1, 2, 3, 4, 5]\n",
    "head = create_doubly_linked_list(values)\n",
    "\n",
    "print_doubly_linked_list(head)\n",
    "\n",
    "new_head = Solution8().deleteIndex(head, 3)\n",
    "\n",
    "print(\"after removing the node\")\n",
    "print_doubly_linked_list(new_head)"
   ]
  },
  {
   "cell_type": "code",
   "execution_count": null,
   "metadata": {},
   "outputs": [],
   "source": []
  }
 ],
 "metadata": {
  "kernelspec": {
   "display_name": "PPT",
   "language": "python",
   "name": "python3"
  },
  "language_info": {
   "codemirror_mode": {
    "name": "ipython",
    "version": 3
   },
   "file_extension": ".py",
   "mimetype": "text/x-python",
   "name": "python",
   "nbconvert_exporter": "python",
   "pygments_lexer": "ipython3",
   "version": "3.10.11"
  },
  "orig_nbformat": 4
 },
 "nbformat": 4,
 "nbformat_minor": 2
}
