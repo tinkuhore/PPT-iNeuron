{
 "cells": [
  {
   "cell_type": "code",
   "execution_count": 2,
   "metadata": {},
   "outputs": [],
   "source": [
    "from typing import List"
   ]
  },
  {
   "attachments": {},
   "cell_type": "markdown",
   "metadata": {},
   "source": [
    "#  💡 **Question 1**"
   ]
  },
  {
   "attachments": {},
   "cell_type": "markdown",
   "metadata": {},
   "source": [
    "Given a string `s`, *find the first non-repeating character in it and return its index*. If it does not exist, return `-1`.\n",
    "\n",
    "**Example 1:**\n",
    "\n",
    "```\n",
    "Input: s = \"leetcode\"\n",
    "Output: 0\n",
    "\n",
    "```\n",
    "\n",
    "**Example 2:**\n",
    "\n",
    "```\n",
    "Input: s = \"loveleetcode\"\n",
    "Output: 2\n",
    "\n",
    "```\n",
    "\n",
    "**Example 3:**\n",
    "\n",
    "</aside>"
   ]
  },
  {
   "cell_type": "code",
   "execution_count": null,
   "metadata": {},
   "outputs": [],
   "source": [
    "class Solution1:\n",
    "    def firstNonRep(self, s: str)-> int:\n",
    "        for i in range(len(s)):\n",
    "            if s[i] not in s[i+1:]:\n",
    "                return i\n",
    "            \n",
    "        return -1"
   ]
  },
  {
   "cell_type": "code",
   "execution_count": null,
   "metadata": {},
   "outputs": [],
   "source": [
    "s = \"leetcode\"\n",
    "\n",
    "Solution1().firstNonRep(s)"
   ]
  },
  {
   "cell_type": "code",
   "execution_count": null,
   "metadata": {},
   "outputs": [],
   "source": [
    "s = \"loveleetcode\"\n",
    "\n",
    "Solution1().firstNonRep(s)"
   ]
  },
  {
   "attachments": {},
   "cell_type": "markdown",
   "metadata": {},
   "source": [
    "#  💡 **Question 2**"
   ]
  },
  {
   "attachments": {},
   "cell_type": "markdown",
   "metadata": {},
   "source": [
    "Given a **circular integer array** `nums` of length `n`, return *the maximum possible sum of a non-empty **subarray** of* `nums`.\n",
    "\n",
    "A **circular array** means the end of the array connects to the beginning of the array. Formally, the next element of `nums[i]` is `nums[(i + 1) % n]` and the previous element of `nums[i]` is `nums[(i - 1 + n) % n]`.\n",
    "\n",
    "A **subarray** may only include each element of the fixed buffer `nums` at most once. Formally, for a subarray `nums[i], nums[i + 1], ..., nums[j]`, there does not exist `i <= k1`, `k2 <= j` with `k1 % n == k2 % n`.\n",
    "\n",
    "**Example 1:**\n",
    "\n",
    "```\n",
    "Input: nums = [1,-2,3,-2]\n",
    "Output: 3\n",
    "Explanation: Subarray [3] has maximum sum 3.\n",
    "\n",
    "```\n",
    "\n",
    "**Example 2:**\n",
    "\n",
    "```\n",
    "Input: nums = [5,-3,5]\n",
    "Output: 10\n",
    "Explanation: Subarray [5,5] has maximum sum 5 + 5 = 10.\n",
    "\n",
    "```\n",
    "\n",
    "**Example 3:**\n",
    "\n",
    "```\n",
    "Input: nums = [-3,-2,-3]\n",
    "Output: -2\n",
    "Explanation: Subarray [-2] has maximum sum -2.\n",
    "```"
   ]
  },
  {
   "cell_type": "code",
   "execution_count": null,
   "metadata": {},
   "outputs": [],
   "source": [
    "class Solution2:\n",
    "    def maxSubarraySumCircular(self, nums: List[int]) -> int:\n",
    "        max_straight_sum = float(\"-Inf\")\n",
    "        temp_max = 0\n",
    "        min_straight_sum = float(\"+Inf\")\n",
    "        temp_min = 0\n",
    "        total = 0\n",
    "\n",
    "        for num in nums:\n",
    "            total += num\n",
    "            temp_max += num\n",
    "            temp_min += num\n",
    "\n",
    "            max_straight_sum = max(max_straight_sum, temp_max)\n",
    "            min_straight_sum = min(min_straight_sum, temp_min)\n",
    "\n",
    "            if temp_max < 0:\n",
    "                temp_max = 0\n",
    "            if temp_min > 0:\n",
    "                temp_min = 0\n",
    "\n",
    "        if total == min_straight_sum:\n",
    "            return max_straight_sum\n",
    "        return max(max_straight_sum, (total - min_straight_sum))"
   ]
  },
  {
   "cell_type": "code",
   "execution_count": null,
   "metadata": {},
   "outputs": [],
   "source": [
    "nums = [1,-2,3,-2]\n",
    "Solution2().maxSubarraySumCircular(nums)"
   ]
  },
  {
   "cell_type": "code",
   "execution_count": null,
   "metadata": {},
   "outputs": [],
   "source": [
    "nums = [5,-3,5]\n",
    "Solution2().maxSubarraySumCircular(nums)"
   ]
  },
  {
   "cell_type": "code",
   "execution_count": null,
   "metadata": {},
   "outputs": [],
   "source": [
    "nums = [-3,-2,-3]\n",
    "Solution2().maxSubarraySumCircular(nums)"
   ]
  },
  {
   "attachments": {},
   "cell_type": "markdown",
   "metadata": {},
   "source": [
    "#  💡 **Question 3**"
   ]
  },
  {
   "attachments": {},
   "cell_type": "markdown",
   "metadata": {},
   "source": [
    "The school cafeteria offers circular and square sandwiches at lunch break, referred to by numbers 0 and 1 respectively. All students stand in a queue. Each student either prefers square or circular sandwiches.\n",
    "\n",
    "The number of sandwiches in the cafeteria is equal to the number of students. The sandwiches are placed in a stack. At each step:\n",
    "\n",
    "If the student at the front of the queue prefers the sandwich on the top of the stack, they will take it and leave the queue.\n",
    "Otherwise, they will leave it and go to the queue's end.\n",
    "This continues until none of the queue students want to take the top sandwich and are thus unable to eat.\n",
    "\n",
    "You are given two integer arrays students and sandwiches where sandwiches[i] is the type of the i​​​​​​th sandwich in the stack (i = 0 is the top of the stack) and students[j] is the preference of the j​​​​​​th student in the initial queue (j = 0 is the front of the queue). Return the number of students that are unable to eat.\n",
    "\n",
    " \n",
    "\n",
    "**Example 1:**\n",
    "```\n",
    "Input: students = [1,1,0,0], sandwiches = [0,1,0,1]\n",
    "Output: 0 \n",
    "Explanation:\n",
    "- Front student leaves the top sandwich and returns to the end of the line making students = [1,0,0,1].\n",
    "- Front student leaves the top sandwich and returns to the end of the line making students = [0,0,1,1].\n",
    "- Front student takes the top sandwich and leaves the line making students = [0,1,1] and sandwiches = [1,0,1].\n",
    "- Front student leaves the top sandwich and returns to the end of the line making students = [1,1,0].\n",
    "- Front student takes the top sandwich and leaves the line making students = [1,0] and sandwiches = [0,1].\n",
    "- Front student leaves the top sandwich and returns to the end of the line making students = [0,1].\n",
    "- Front student takes the top sandwich and leaves the line making students = [1] and sandwiches = [1].\n",
    "- Front student takes the top sandwich and leaves the line making students = [] and sandwiches = [].\n",
    "Hence all students are able to eat.\n",
    "```\n",
    "\n",
    "**Example 2:**\n",
    "```\n",
    "Input: students = [1,1,1,0,0,1], sandwiches = [1,0,0,0,1,1]\n",
    "Output: 3\n",
    "```\n",
    "\n",
    "Constraints:\n",
    "\n",
    "\n",
    "- 1 <= students.length, sandwiches.length <= 100\n",
    "\n",
    "- students.length == sandwiches.length\n",
    "\n",
    "- sandwiches[i] is 0 or 1.\n",
    "\n",
    "- students[i] is 0 or 1."
   ]
  },
  {
   "cell_type": "code",
   "execution_count": null,
   "metadata": {},
   "outputs": [],
   "source": [
    "class Solution3:\n",
    "    def countStudents(self, students: List[int], sandwiches: List[int]) -> int:\n",
    "        while sandwiches and students and sandwiches[0] in students:\n",
    "            if students[0] == sandwiches[0]:\n",
    "                sandwiches.pop(0)\n",
    "                students.pop(0)\n",
    "            else:\n",
    "                students.append(students.pop(0))\n",
    "\n",
    "        return len(students)"
   ]
  },
  {
   "cell_type": "code",
   "execution_count": null,
   "metadata": {},
   "outputs": [],
   "source": [
    "students = [1,1,1,0,0,1]\n",
    "sandwiches = [1,0,0,0,1,1]\n",
    "\n",
    "Solution3().countStudents(students, sandwiches)"
   ]
  },
  {
   "attachments": {},
   "cell_type": "markdown",
   "metadata": {},
   "source": [
    "# 💡 **Question 4**"
   ]
  },
  {
   "attachments": {},
   "cell_type": "markdown",
   "metadata": {},
   "source": [
    "You have a RecentCounter class which counts the number of recent requests within a certain time frame.\n",
    "\n",
    "Implement the RecentCounter class:\n",
    "\n",
    "- ```RecentCounter()``` Initializes the counter with zero recent requests.\n",
    "\n",
    "- ```int ping(int t)``` Adds a new request at time t, where t represents some time in milliseconds, and returns the number of requests that has happened in the past 3000 milliseconds (including the new request). Specifically, return the number of requests that have happened in the inclusive range [t - 3000, t].\n",
    "\n",
    "- It is guaranteed that every call to ping uses a strictly larger value of t than the previous call.\n",
    "\n",
    " \n",
    "\n",
    "**Example 1:**\n",
    "```\n",
    "Input\n",
    "[\"RecentCounter\", \"ping\", \"ping\", \"ping\", \"ping\"]\n",
    "[[], [1], [100], [3001], [3002]]\n",
    "Output\n",
    "[null, 1, 2, 3, 3]\n",
    "\n",
    "Explanation\n",
    "RecentCounter recentCounter = new RecentCounter();\n",
    "recentCounter.ping(1);     // requests = [1], range is [-2999,1], return 1\n",
    "recentCounter.ping(100);   // requests = [1, 100], range is [-2900,100], return 2\n",
    "recentCounter.ping(3001);  // requests = [1, 100, 3001], range is [1,3001], return 3\n",
    "recentCounter.ping(3002);  // requests = [1, 100, 3001, 3002], range is [2,3002], return 3\n",
    "```\n",
    "\n",
    "**Constraints:**\n",
    "\n",
    "\n",
    "- 1 <= t <= 109\n",
    "\n",
    "- Each test case will call ping with strictly increasing values of t.\n",
    "\n",
    "- At most 104 calls will be made to ping."
   ]
  },
  {
   "cell_type": "code",
   "execution_count": 2,
   "metadata": {},
   "outputs": [],
   "source": [
    "class RecentCounter:\n",
    "\n",
    "    def __init__(self):\n",
    "        self.counter = []\n",
    "        self.count = 0\n",
    "        \n",
    "\n",
    "    def ping(self, t: int) -> int:\n",
    "        while self.counter:\n",
    "            if self.counter[0] < t-3000:\n",
    "                self.counter.pop(0)\n",
    "                self.count -= 1\n",
    "\n",
    "            else:\n",
    "                break\n",
    "        \n",
    "        self.counter.append(t)\n",
    "        self.count += 1\n",
    "\n",
    "        return self.count\n",
    "        "
   ]
  },
  {
   "cell_type": "code",
   "execution_count": 3,
   "metadata": {},
   "outputs": [
    {
     "data": {
      "text/plain": [
       "1"
      ]
     },
     "execution_count": 3,
     "metadata": {},
     "output_type": "execute_result"
    }
   ],
   "source": [
    "obj = RecentCounter()\n",
    "\n",
    "obj.ping(1)"
   ]
  },
  {
   "cell_type": "code",
   "execution_count": 4,
   "metadata": {},
   "outputs": [
    {
     "data": {
      "text/plain": [
       "2"
      ]
     },
     "execution_count": 4,
     "metadata": {},
     "output_type": "execute_result"
    }
   ],
   "source": [
    "obj.ping(100)"
   ]
  },
  {
   "cell_type": "code",
   "execution_count": 5,
   "metadata": {},
   "outputs": [
    {
     "data": {
      "text/plain": [
       "3"
      ]
     },
     "execution_count": 5,
     "metadata": {},
     "output_type": "execute_result"
    }
   ],
   "source": [
    "obj.ping(3000)"
   ]
  },
  {
   "cell_type": "code",
   "execution_count": 6,
   "metadata": {},
   "outputs": [
    {
     "data": {
      "text/plain": [
       "3"
      ]
     },
     "execution_count": 6,
     "metadata": {},
     "output_type": "execute_result"
    }
   ],
   "source": [
    "obj.ping(3002)"
   ]
  },
  {
   "attachments": {},
   "cell_type": "markdown",
   "metadata": {},
   "source": [
    "# 💡 **Question 5**"
   ]
  },
  {
   "attachments": {},
   "cell_type": "markdown",
   "metadata": {},
   "source": [
    "There are n friends that are playing a game. The friends are sitting in a circle and are numbered from 1 to n in clockwise order. More formally, moving clockwise from the ith friend brings you to the (i+1)th friend for 1 <= i < n, and moving clockwise from the nth friend brings you to the 1st friend.\n",
    "\n",
    "The rules of the game are as follows:\n",
    "\n",
    "\n",
    "Start at the 1st friend.\n",
    "\n",
    "Count the next k friends in the clockwise direction including the friend you started at. The counting wraps around the circle and may count some friends more than once.\n",
    "\n",
    "The last friend you counted leaves the circle and loses the game.\n",
    "\n",
    "If there is still more than one friend in the circle, go back to step 2 starting from the friend immediately clockwise of the friend who just lost and repeat.\n",
    "\n",
    "Else, the last friend in the circle wins the game.\n",
    "\n",
    "Given the number of friends, n, and an integer k, return the winner of the game.\n",
    "\n",
    " \n",
    "\n",
    "**Example 1:**\n",
    "\n",
    "![img](https://assets.leetcode.com/uploads/2021/03/25/ic234-q2-ex11.png)\n",
    "\n",
    "```\n",
    "Input: n = 5, k = 2\n",
    "Output: 3\n",
    "Explanation: Here are the steps of the game:\n",
    "1) Start at friend 1.\n",
    "2) Count 2 friends clockwise, which are friends 1 and 2.\n",
    "3) Friend 2 leaves the circle. Next start is friend 3.\n",
    "4) Count 2 friends clockwise, which are friends 3 and 4.\n",
    "5) Friend 4 leaves the circle. Next start is friend 5.\n",
    "6) Count 2 friends clockwise, which are friends 5 and 1.\n",
    "7) Friend 1 leaves the circle. Next start is friend 3.\n",
    "8) Count 2 friends clockwise, which are friends 3 and 5.\n",
    "9) Friend 5 leaves the circle. Only friend 3 is left, so they are the winner.\n",
    "```\n",
    "\n",
    "**Example 2:**\n",
    "```\n",
    "Input: n = 6, k = 5\n",
    "Output: 1\n",
    "Explanation: The friends leave in this order: 5, 4, 6, 2, 3. The winner is friend 1.\n",
    "```\n",
    "\n",
    "**Constraints:**\n",
    "\n",
    "1 <= k <= n <= 500"
   ]
  },
  {
   "cell_type": "code",
   "execution_count": 17,
   "metadata": {},
   "outputs": [],
   "source": [
    "class Node:\n",
    "    def __init__(self, val, next= None, prev = None,):\n",
    "        self.val = val\n",
    "        self.next = next\n",
    "        self.prev = prev\n",
    "\n",
    "class Solution5:\n",
    "    def findTheWinner(self, n: int, k: int) -> int:\n",
    "        # create a linked list with n nodes\n",
    "        nodes = [Node(i) for i in range(1, n + 1)]\n",
    "\n",
    "        for i in range(n):\n",
    "            nodes[i].prev = nodes[(i - 1) % n]\n",
    "            nodes[i].next = nodes[(i + 1) % n]\n",
    "\n",
    "        start = nodes[0]\n",
    "\n",
    "        while n > 1:\n",
    "            for _ in range(k - 1):\n",
    "                start = start.next\n",
    "\n",
    "            # remove the node by updating pointers\n",
    "            start.prev.next = start.next\n",
    "            start.next.prev = start.prev\n",
    "            start = start.next\n",
    "            n -= 1\n",
    "\n",
    "        winner = start.val\n",
    "        return winner"
   ]
  },
  {
   "cell_type": "code",
   "execution_count": 19,
   "metadata": {},
   "outputs": [],
   "source": [
    "class Solution5:\n",
    "    def findTheWinner(self, n: int, k: int) -> int:\n",
    "        winner = 0\n",
    "\n",
    "        for i in range(1, n + 1):\n",
    "            winner = (winner + k) % i\n",
    "\n",
    "        return winner + 1"
   ]
  },
  {
   "cell_type": "code",
   "execution_count": 20,
   "metadata": {},
   "outputs": [],
   "source": [
    "class Solution5:\n",
    "    def solve(self, n: int, k: int)-> int:\n",
    "        if n==1: return 0\n",
    "        return (self.solve(n-1, k) + k) % n\n",
    "    def findTheWinner(self, n: int, k: int) -> int:\n",
    "        \n",
    "        return self.solve(n, k) + 1"
   ]
  },
  {
   "cell_type": "code",
   "execution_count": 21,
   "metadata": {},
   "outputs": [
    {
     "data": {
      "text/plain": [
       "1"
      ]
     },
     "execution_count": 21,
     "metadata": {},
     "output_type": "execute_result"
    }
   ],
   "source": [
    "Solution5().findTheWinner(n=6, k=5)"
   ]
  },
  {
   "attachments": {},
   "cell_type": "markdown",
   "metadata": {},
   "source": [
    "# 💡 **Question 6**"
   ]
  },
  {
   "attachments": {},
   "cell_type": "markdown",
   "metadata": {},
   "source": [
    "You are given an integer array deck. There is a deck of cards where every card has a unique integer. The integer on the ith card is deck[i].\n",
    "\n",
    "You can order the deck in any order you want. Initially, all the cards start face down (unrevealed) in one deck.\n",
    "\n",
    "You will do the following steps repeatedly until all cards are revealed:\n",
    "\n",
    "- Take the top card of the deck, reveal it, and take it out of the deck.\n",
    "- If there are still cards in the deck then put the next top card of the deck at the bottom of the deck.\n",
    "- If there are still unrevealed cards, go back to step 1. Otherwise, stop.\n",
    "- Return an ordering of the deck that would reveal the cards in increasing order.\n",
    "\n",
    "Note that the first entry in the answer is considered to be the top of the deck.\n",
    "\n",
    " \n",
    "\n",
    "**Example 1:**\n",
    "```\n",
    "Input: deck = [17,13,11,2,3,5,7]\n",
    "Output: [2,13,3,11,5,17,7]\n",
    "Explanation: \n",
    "We get the deck in the order [17,13,11,2,3,5,7] (this order does not matter), and reorder it.\n",
    "After reordering, the deck starts as [2,13,3,11,5,17,7], where 2 is the top of the deck.\n",
    "We reveal 2, and move 13 to the bottom.  The deck is now [3,11,5,17,7,13].\n",
    "We reveal 3, and move 11 to the bottom.  The deck is now [5,17,7,13,11].\n",
    "We reveal 5, and move 17 to the bottom.  The deck is now [7,13,11,17].\n",
    "We reveal 7, and move 13 to the bottom.  The deck is now [11,17,13].\n",
    "We reveal 11, and move 17 to the bottom.  The deck is now [13,17].\n",
    "We reveal 13, and move 17 to the bottom.  The deck is now [17].\n",
    "We reveal 17.\n",
    "Since all the cards revealed are in increasing order, the answer is correct.\n",
    "```\n",
    "\n",
    "**Example 2:**\n",
    "```\n",
    "Input: deck = [1,1000]\n",
    "Output: [1,1000]\n",
    "```\n",
    "\n",
    "Constraints:\n",
    "\n",
    "- 1 <= deck.length <= 1000\n",
    "- 1 <= deck[i] <= 106\n",
    "- All the values of deck are unique."
   ]
  },
  {
   "cell_type": "code",
   "execution_count": 31,
   "metadata": {},
   "outputs": [],
   "source": [
    "class Solution6:\n",
    "    def deckRevealedIncreasing(self, deck: List[int]) -> List[int]:\n",
    "        ordered = []\n",
    "        deck.sort()\n",
    "\n",
    "        try:\n",
    "            ordered.append(deck.pop(-2))\n",
    "            ordered.append(deck.pop())\n",
    "        except:\n",
    "            # if deck has < 2 elements, then return the deck as it is\n",
    "            return deck\n",
    "\n",
    "        while deck:\n",
    "            ordered.insert(0, ordered.pop())\n",
    "            ordered.insert(0, deck.pop())\n",
    "\n",
    "        return ordered"
   ]
  },
  {
   "cell_type": "code",
   "execution_count": 32,
   "metadata": {},
   "outputs": [
    {
     "data": {
      "text/plain": [
       "[2, 13, 3, 11, 5, 17, 7]"
      ]
     },
     "execution_count": 32,
     "metadata": {},
     "output_type": "execute_result"
    }
   ],
   "source": [
    "deck = [17,13,11,2,3,5,7]\n",
    "Solution6().deckRevealedIncreasing(deck)"
   ]
  },
  {
   "attachments": {},
   "cell_type": "markdown",
   "metadata": {},
   "source": [
    "# 💡 **Question 7**"
   ]
  },
  {
   "attachments": {},
   "cell_type": "markdown",
   "metadata": {},
   "source": [
    "Design a queue that supports push and pop operations in the front, middle, and back.\n",
    "\n",
    "Implement the FrontMiddleBack class:\n",
    "\n",
    "\n",
    "```FrontMiddleBack()``` Initializes the queue.\n",
    "\n",
    "```void pushFront(int val)``` Adds val to the front of the queue.\n",
    "\n",
    "```void pushMiddle(int val)``` Adds val to the middle of the queue.\n",
    "\n",
    "`void pushBack(int val)` Adds val to the back of the queue.\n",
    "\n",
    "`int popFront()` Removes the front element of the queue and returns it. If the queue is empty, return -1.\n",
    "\n",
    "`int popMiddle()` Removes the middle element of the queue and returns it. If the queue is empty, return -1.\n",
    "\n",
    "`int popBack()` Removes the back element of the queue and returns it. If the queue is empty, return -1.\n",
    "\n",
    "Notice that when there are two middle position choices, the operation is performed on the frontmost middle position choice. \n",
    "\n",
    "For example:\n",
    "\n",
    "Pushing 6 into the middle of [1, 2, 3, 4, 5] results in [1, 2, 6, 3, 4, 5].\n",
    "\n",
    "Popping the middle from [1, 2, 3, 4, 5, 6] returns 3 and results in [1, 2, 4, 5, 6].\n",
    " \n",
    "\n",
    "**Example 1:**\n",
    "```\n",
    "Input:\n",
    "[\"FrontMiddleBackQueue\", \"pushFront\", \"pushBack\", \"pushMiddle\", \"pushMiddle\", \"popFront\", \"popMiddle\", \"popMiddle\", \"popBack\", \"popFront\"]\n",
    "[[], [1], [2], [3], [4], [], [], [], [], []]\n",
    "Output:\n",
    "[null, null, null, null, null, 1, 3, 4, 2, -1]\n",
    "\n",
    "Explanation:\n",
    "FrontMiddleBackQueue q = new FrontMiddleBackQueue();\n",
    "q.pushFront(1);   // [1]\n",
    "q.pushBack(2);    // [1, 2]\n",
    "q.pushMiddle(3);  // [1, 3, 2]\n",
    "q.pushMiddle(4);  // [1, 4, 3, 2]\n",
    "q.popFront();     // return 1 -> [4, 3, 2]\n",
    "q.popMiddle();    // return 3 -> [4, 2]\n",
    "q.popMiddle();    // return 4 -> [2]\n",
    "q.popBack();      // return 2 -> []\n",
    "q.popFront();     // return -1 -> [] (The queue is empty)\n",
    "``` \n",
    "\n",
    "**Constraints:**\n",
    "\n",
    "- 1 <= val <= 109\n",
    "- At most 1000 calls will be made to pushFront, pushMiddle, pushBack, popFront, popMiddle, and popBack."
   ]
  },
  {
   "cell_type": "code",
   "execution_count": 64,
   "metadata": {},
   "outputs": [],
   "source": [
    "class FrontMiddleBackQueue:\n",
    "\n",
    "    def __init__(self):\n",
    "        self.queue = []\n",
    "        self.n = 0\n",
    "        \n",
    "\n",
    "    def pushFront(self, val: int) -> None:\n",
    "        self.queue.insert(0, val)\n",
    "        self.n += 1\n",
    "        \n",
    "\n",
    "    def pushMiddle(self, val: int) -> None:\n",
    "        mid = self.n//2\n",
    "        self.queue.insert(mid, val)\n",
    "        self.n += 1\n",
    "\n",
    "    def pushBack(self, val: int) -> None:\n",
    "        self.queue.append(val)\n",
    "        self.n += 1\n",
    "\n",
    "    def popFront(self) -> int:\n",
    "        if self.queue:\n",
    "            self.n -= 1\n",
    "            return self.queue.pop(0)  \n",
    "        else:\n",
    "            return -1\n",
    "\n",
    "    def popMiddle(self) -> int:\n",
    "        if self.queue:\n",
    "            mid = self.n//2 - 1 if self.n%2 == 0 else self.n//2 \n",
    "            self.n -= 1\n",
    "            return self.queue.pop(mid)  \n",
    "        else:\n",
    "            return -1\n",
    "        \n",
    "\n",
    "    def popBack(self) -> int:\n",
    "        if self.queue:\n",
    "            self.n -= 1\n",
    "            return self.queue.pop()  \n",
    "        else:\n",
    "            return -1"
   ]
  },
  {
   "cell_type": "code",
   "execution_count": 65,
   "metadata": {},
   "outputs": [
    {
     "name": "stdout",
     "output_type": "stream",
     "text": [
      "[1, 4, 3, 2]\n",
      "1\n",
      "3\n",
      "4\n",
      "2\n",
      "-1\n"
     ]
    }
   ],
   "source": [
    "obj = FrontMiddleBackQueue()\n",
    "\n",
    "obj.pushFront(1) \n",
    "obj.pushBack(2)  \n",
    "obj.pushMiddle(3)\n",
    "obj.pushMiddle(4)\n",
    "print(obj.queue)\n",
    "print(obj.popFront())\n",
    "print(obj.popMiddle())\n",
    "print(obj.popMiddle())\n",
    "print(obj.popBack())\n",
    "print(obj.popFront())"
   ]
  },
  {
   "cell_type": "code",
   "execution_count": 66,
   "metadata": {},
   "outputs": [
    {
     "name": "stdout",
     "output_type": "stream",
     "text": [
      "None\n",
      "874835\n",
      "-1\n",
      "-1\n",
      "None\n",
      "None\n",
      "782168\n",
      "None\n",
      "None\n",
      "495349\n",
      "16473\n",
      "None\n",
      "596131\n",
      "None\n"
     ]
    }
   ],
   "source": [
    "obj = FrontMiddleBackQueue()\n",
    "print(obj.pushMiddle(874835))\n",
    "print(obj.popBack())\n",
    "print(obj.popMiddle())\n",
    "print(obj.popMiddle())\n",
    "print(obj.pushBack(319750))\n",
    "print(obj.pushFront(782168))\n",
    "print(obj.popFront())\n",
    "print(obj.pushMiddle(16473))\n",
    "print(obj.pushMiddle(495349))\n",
    "print(obj.popMiddle())\n",
    "print(obj.popMiddle())\n",
    "print(obj.pushMiddle(596131))\n",
    "print(obj.popMiddle())\n",
    "print(obj.pushMiddle(583563))"
   ]
  },
  {
   "attachments": {},
   "cell_type": "markdown",
   "metadata": {},
   "source": [
    "# 💡 **Question 8**"
   ]
  },
  {
   "attachments": {},
   "cell_type": "markdown",
   "metadata": {},
   "source": [
    "For a stream of integers, implement a data structure that checks if the last k integers parsed in the stream are equal to value.\n",
    "\n",
    "**Implement the DataStream class:**\n",
    "\n",
    "`DataStream(int value, int k)` Initializes the object with an empty integer stream and the two integers `value` and `k`.\n",
    "\n",
    "`boolean consec(int num)` Adds num to the stream of integers. Returns `true` if the last `k` integers are equal to `value`, and `false` otherwise. If there are `less than k` integers, the condition does not hold `true`, so returns `false`.\n",
    " \n",
    "\n",
    "**Example 1:**\n",
    "```\n",
    "Input\n",
    "[\"DataStream\", \"consec\", \"consec\", \"consec\", \"consec\"]\n",
    "[[4, 3], [4], [4], [4], [3]]\n",
    "Output\n",
    "[null, false, false, true, false]\n",
    "\n",
    "Explanation\n",
    "DataStream dataStream = new DataStream(4, 3); //value = 4, k = 3 \n",
    "dataStream.consec(4); // Only 1 integer is parsed, so returns False. \n",
    "dataStream.consec(4); // Only 2 integers are parsed.\n",
    "                      // Since 2 is less than k, returns False. \n",
    "dataStream.consec(4); // The 3 integers parsed are all equal to value, so returns True. \n",
    "dataStream.consec(3); // The last k integers parsed in the stream are [4,4,3].\n",
    "                      // Since 3 is not equal to value, it returns False.\n",
    "```\n",
    "\n",
    "**Constraints:**\n",
    "\n",
    "- 1 <= value, num <= 109\n",
    "- 1 <= k <= 105\n",
    "- At most 105 calls will be made to consec."
   ]
  },
  {
   "cell_type": "code",
   "execution_count": 67,
   "metadata": {},
   "outputs": [],
   "source": [
    "class DataStream:\n",
    "\n",
    "    def __init__(self, value: int, k: int):\n",
    "        self.value = value\n",
    "        self.k = k\n",
    "        self.stream = []\n",
    "        self.count = 0\n",
    "        \n",
    "\n",
    "    def consec(self, num: int) -> bool:\n",
    "        self.stream.append(num)\n",
    "        self.count += 1\n",
    "\n",
    "        if self.count < self.k:\n",
    "            return False\n",
    "        \n",
    "        for i in range(1, self.k+1):\n",
    "            if self.stream[-i] != self.value:\n",
    "                return False\n",
    "            \n",
    "        return True"
   ]
  },
  {
   "cell_type": "code",
   "execution_count": 72,
   "metadata": {},
   "outputs": [
    {
     "name": "stdout",
     "output_type": "stream",
     "text": [
      "False\n",
      "False\n",
      "True\n",
      "False\n"
     ]
    }
   ],
   "source": [
    "obj = DataStream(4, 3)\n",
    "print(obj.consec(4))\n",
    "print(obj.consec(4))\n",
    "print(obj.consec(4))\n",
    "print(obj.consec(3))"
   ]
  },
  {
   "cell_type": "code",
   "execution_count": null,
   "metadata": {},
   "outputs": [],
   "source": []
  }
 ],
 "metadata": {
  "kernelspec": {
   "display_name": "PPT",
   "language": "python",
   "name": "python3"
  },
  "language_info": {
   "codemirror_mode": {
    "name": "ipython",
    "version": 3
   },
   "file_extension": ".py",
   "mimetype": "text/x-python",
   "name": "python",
   "nbconvert_exporter": "python",
   "pygments_lexer": "ipython3",
   "version": "3.10.11"
  },
  "orig_nbformat": 4
 },
 "nbformat": 4,
 "nbformat_minor": 2
}
