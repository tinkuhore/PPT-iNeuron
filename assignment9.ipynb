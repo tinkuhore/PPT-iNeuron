{
 "cells": [
  {
   "attachments": {},
   "cell_type": "markdown",
   "metadata": {},
   "source": [
    "# 💡 **Question 1**\n",
    "\n",
    "Given an integer `n`, return *`true` if it is a power of two. Otherwise, return `false`*.\n",
    "\n",
    "An integer `n` is a power of two, if there exists an integer `x` such that `n == 2x`.\n",
    "\n",
    "**Example 1:**\n",
    "Input: n = 1 \n",
    "\n",
    "Output: true\n",
    "\n",
    "**Example 2:**\n",
    "Input: n = 16 \n",
    "\n",
    "Output: true\n",
    "\n",
    "**Example 3:**\n",
    "Input: n = 3 \n",
    "\n",
    "Output: false\n",
    "\n",
    "</aside>"
   ]
  },
  {
   "cell_type": "code",
   "execution_count": 10,
   "metadata": {},
   "outputs": [],
   "source": [
    "class Solution1:\n",
    "    def isPowerOfTwo(self, n: int) -> bool:\n",
    "        if n <= 0:\n",
    "            return False\n",
    "        return (n & -n) == n\n"
   ]
  },
  {
   "cell_type": "code",
   "execution_count": 11,
   "metadata": {},
   "outputs": [
    {
     "data": {
      "text/plain": [
       "False"
      ]
     },
     "execution_count": 11,
     "metadata": {},
     "output_type": "execute_result"
    }
   ],
   "source": [
    "\n",
    "Solution1().isPowerOfTwo(5)"
   ]
  },
  {
   "attachments": {},
   "cell_type": "markdown",
   "metadata": {},
   "source": [
    "# 💡 **Question 2**\n",
    "\n",
    "Given a number n, find the sum of the first natural numbers.\n",
    "\n",
    "**Example 1:**\n",
    "\n",
    "Input: n = 3 \n",
    "\n",
    "Output: 6\n",
    "\n",
    "**Example 2:**\n",
    "\n",
    "Input  : 5 \n",
    "\n",
    "Output : 15\n",
    "\n",
    "</aside>"
   ]
  },
  {
   "cell_type": "code",
   "execution_count": 14,
   "metadata": {},
   "outputs": [],
   "source": [
    "class Solution2:\n",
    "    def sum(self, n: int)-> int:\n",
    "        return int((n*(n+1))/2)"
   ]
  },
  {
   "cell_type": "code",
   "execution_count": 15,
   "metadata": {},
   "outputs": [
    {
     "data": {
      "text/plain": [
       "6"
      ]
     },
     "execution_count": 15,
     "metadata": {},
     "output_type": "execute_result"
    }
   ],
   "source": [
    "Solution2().sum(3)"
   ]
  },
  {
   "attachments": {},
   "cell_type": "markdown",
   "metadata": {},
   "source": [
    "# 💡 **Question 3**\n",
    "\n",
    "****Given a positive integer, N. Find the factorial of N. \n",
    "\n",
    "**Example 1:**\n",
    "\n",
    "Input: N = 5 \n",
    "\n",
    "Output: 120\n",
    "\n",
    "**Example 2:**\n",
    "\n",
    "Input: N = 4\n",
    "\n",
    "Output: 24\n",
    "\n",
    "</aside>"
   ]
  },
  {
   "cell_type": "code",
   "execution_count": 16,
   "metadata": {},
   "outputs": [],
   "source": [
    "class Solution3:\n",
    "    def factorial(self, n):\n",
    "        \n",
    "        if n == 0:\n",
    "            return 1\n",
    "        \n",
    "        return n * self.factorial(n-1)"
   ]
  },
  {
   "cell_type": "code",
   "execution_count": 17,
   "metadata": {},
   "outputs": [
    {
     "data": {
      "text/plain": [
       "6"
      ]
     },
     "execution_count": 17,
     "metadata": {},
     "output_type": "execute_result"
    }
   ],
   "source": [
    "Solution3().factorial(3)"
   ]
  },
  {
   "attachments": {},
   "cell_type": "markdown",
   "metadata": {},
   "source": [
    "# 💡 **Question 4**\n",
    "\n",
    "Given a number N and a power P, the task is to find the exponent of this number raised to the given power, i.e. N^P.\n",
    "\n",
    "**Example 1 :** \n",
    "\n",
    "Input: N = 5, P = 2\n",
    "\n",
    "Output: 25\n",
    "\n",
    "**Example 2 :**\n",
    "Input: N = 2, P = 5\n",
    "\n",
    "Output: 32\n",
    "\n",
    "</aside>"
   ]
  },
  {
   "cell_type": "code",
   "execution_count": 18,
   "metadata": {},
   "outputs": [],
   "source": [
    "class Solution4:\n",
    "    def myPow(self, x: float, n: int) -> float:\n",
    "        if n == 0:\n",
    "            return 1.0\n",
    "        elif n < 0:\n",
    "            return 1.0 / self.myPow(x, -n)\n",
    "        elif n % 2 == 0:\n",
    "            temp = self.myPow(x, n // 2)\n",
    "            return temp * temp\n",
    "        else:\n",
    "            temp = self.myPow(x, (n - 1) // 2)\n",
    "            return x * temp * temp"
   ]
  },
  {
   "cell_type": "code",
   "execution_count": 19,
   "metadata": {},
   "outputs": [
    {
     "data": {
      "text/plain": [
       "81.0"
      ]
     },
     "execution_count": 19,
     "metadata": {},
     "output_type": "execute_result"
    }
   ],
   "source": [
    "Solution4().myPow(-3,4)"
   ]
  },
  {
   "attachments": {},
   "cell_type": "markdown",
   "metadata": {},
   "source": [
    "# 💡 **Question 5**\n",
    "\n",
    "Given an array of integers **arr**, the task is to find maximum element of that array using recursion.\n",
    "\n",
    "**Example 1:**\n",
    "\n",
    "Input: arr = {1, 4, 3, -5, -4, 8, 6};\n",
    "Output: 8\n",
    "\n",
    "**Example 2:**\n",
    "\n",
    "Input: arr = {1, 4, 45, 6, 10, -8};\n",
    "Output: 45\n",
    "\n",
    "</aside>"
   ]
  },
  {
   "cell_type": "code",
   "execution_count": 28,
   "metadata": {},
   "outputs": [],
   "source": [
    "from typing import List\n",
    "\n",
    "\n",
    "class Solution5:\n",
    "    def findMax(self, arr: List[int])-> int:\n",
    "        if len(arr) == 1:\n",
    "            return arr[0]\n",
    "        return arr[0] if arr[0]>self.findMax(arr[1:]) else self.findMax(arr[1:])"
   ]
  },
  {
   "cell_type": "code",
   "execution_count": 29,
   "metadata": {},
   "outputs": [],
   "source": [
    "arr = [1, 4, 3, -5, -4, 8, 6]\n"
   ]
  },
  {
   "cell_type": "code",
   "execution_count": 30,
   "metadata": {},
   "outputs": [
    {
     "data": {
      "text/plain": [
       "8"
      ]
     },
     "execution_count": 30,
     "metadata": {},
     "output_type": "execute_result"
    }
   ],
   "source": [
    "Solution5().findMax(arr)"
   ]
  },
  {
   "attachments": {},
   "cell_type": "markdown",
   "metadata": {},
   "source": [
    "# 💡 **Question 6**\n",
    "\n",
    "Given first term (a), common difference (d) and a integer N of the Arithmetic Progression series, the task is to find Nth term of the series.\n",
    "\n",
    "**Example 1:**\n",
    "\n",
    "Input : a = 2 d = 1 N = 5\n",
    "Output : 6\n",
    "The 5th term of the series is : 6\n",
    "\n",
    "**Example 2:**\n",
    "\n",
    "Input : a = 5 d = 2 N = 10\n",
    "Output : 23\n",
    "The 10th term of the series is : 23\n",
    "\n",
    "</aside>"
   ]
  },
  {
   "cell_type": "code",
   "execution_count": 31,
   "metadata": {},
   "outputs": [],
   "source": [
    "class Solution6:\n",
    "    def nthTermAP(self,a, d, n):\n",
    "        return a + (n-1) * d"
   ]
  },
  {
   "cell_type": "code",
   "execution_count": 32,
   "metadata": {},
   "outputs": [
    {
     "data": {
      "text/plain": [
       "23"
      ]
     },
     "execution_count": 32,
     "metadata": {},
     "output_type": "execute_result"
    }
   ],
   "source": [
    "Solution6().nthTermAP(5, 2, 10)"
   ]
  },
  {
   "attachments": {},
   "cell_type": "markdown",
   "metadata": {},
   "source": [
    "# 💡 **Question 7**\n",
    "\n",
    "Given a string S, the task is to write a program to print all permutations of a given string.\n",
    "\n",
    "**Example 1:**\n",
    "\n",
    "***Input:***\n",
    "\n",
    "*S = “ABC”*\n",
    "\n",
    "***Output:***\n",
    "\n",
    "*“ABC”, “ACB”, “BAC”, “BCA”, “CBA”, “CAB”*\n",
    "\n",
    "**Example 2:**\n",
    "\n",
    "***Input:***\n",
    "\n",
    "*S = “XY”*\n",
    "\n",
    "***Output:***\n",
    "\n",
    "*“XY”, “YX”*\n",
    "\n",
    "</aside>"
   ]
  },
  {
   "cell_type": "code",
   "execution_count": 5,
   "metadata": {},
   "outputs": [
    {
     "name": "stdout",
     "output_type": "stream",
     "text": [
      "ABC\n",
      "ACB\n",
      "BAC\n",
      "BCA\n",
      "CAB\n",
      "CBA\n"
     ]
    }
   ],
   "source": [
    "from itertools import permutations\n",
    "\n",
    "for s in list(permutations(\"ABC\")):\n",
    "    print(\"\".join(s))"
   ]
  },
  {
   "attachments": {},
   "cell_type": "markdown",
   "metadata": {},
   "source": [
    "# 💡 **Question 8**\n",
    "\n",
    "Given an array, find a product of all array elements.\n",
    "\n",
    "**Example 1:**\n",
    "\n",
    "Input  : arr[] = {1, 2, 3, 4, 5}\n",
    "Output : 120\n",
    "**Example 2:**\n",
    "\n",
    "Input  : arr[] = {1, 6, 3}\n",
    "Output : 18\n",
    "\n",
    "</aside>"
   ]
  },
  {
   "cell_type": "code",
   "execution_count": 6,
   "metadata": {},
   "outputs": [],
   "source": [
    "def product(arr):\n",
    "    if not arr: return 1\n",
    "    return arr[0]*product(arr[1:])"
   ]
  },
  {
   "cell_type": "code",
   "execution_count": 7,
   "metadata": {},
   "outputs": [
    {
     "data": {
      "text/plain": [
       "120"
      ]
     },
     "execution_count": 7,
     "metadata": {},
     "output_type": "execute_result"
    }
   ],
   "source": [
    "arr = [1,2,3,4,5]\n",
    "product(arr)"
   ]
  },
  {
   "cell_type": "code",
   "execution_count": null,
   "metadata": {},
   "outputs": [],
   "source": []
  }
 ],
 "metadata": {
  "kernelspec": {
   "display_name": "PPT",
   "language": "python",
   "name": "python3"
  },
  "language_info": {
   "codemirror_mode": {
    "name": "ipython",
    "version": 3
   },
   "file_extension": ".py",
   "mimetype": "text/x-python",
   "name": "python",
   "nbconvert_exporter": "python",
   "pygments_lexer": "ipython3",
   "version": "3.10.11"
  },
  "orig_nbformat": 4
 },
 "nbformat": 4,
 "nbformat_minor": 2
}
