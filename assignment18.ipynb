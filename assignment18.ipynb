{
 "cells": [
  {
   "attachments": {},
   "cell_type": "markdown",
   "metadata": {},
   "source": [
    "# 💡 1. **Merge Intervals**"
   ]
  },
  {
   "attachments": {},
   "cell_type": "markdown",
   "metadata": {},
   "source": [
    "Given an array of intervals where intervals[i] = [starti, endi], merge all overlapping intervals, and return an array of the non-overlapping intervals that cover all the intervals in the input.\n",
    "\n",
    " \n",
    "\n",
    "**Example 1:**\n",
    "```\n",
    "Input: intervals = [[1,3],[2,6],[8,10],[15,18]]\n",
    "Output: [[1,6],[8,10],[15,18]]\n",
    "Explanation: Since intervals [1,3] and [2,6] overlap, merge them into [1,6].\n",
    "```\n",
    "\n",
    "**Example 2:**\n",
    "```\n",
    "Input: intervals = [[1,4],[4,5]]\n",
    "Output: [[1,5]]\n",
    "Explanation: Intervals [1,4] and [4,5] are considered overlapping.\n",
    "``` \n",
    "\n",
    "**Constraints:**\n",
    "\n",
    "- 1 <= intervals.length <= 104\n",
    "- intervals[i].length == 2\n",
    "- 0 <= starti <= endi <= 104"
   ]
  },
  {
   "cell_type": "code",
   "execution_count": 1,
   "metadata": {},
   "outputs": [],
   "source": [
    "from typing import List\n",
    "\n",
    "\n",
    "class Solution1:\n",
    "    def merge(self, intervals: List[List[int]]) -> List[List[int]]:\n",
    "        idx = 0\n",
    "\n",
    "        while True:\n",
    "            try:\n",
    "                if intervals[idx][1] >= intervals[idx+1][0]:\n",
    "                    first = intervals.pop(idx)\n",
    "                    second = intervals.pop(idx)\n",
    "\n",
    "                    new = [min(first[0], second[0]), max(first[1], second[1])]\n",
    "\n",
    "                    intervals.insert(idx, new)\n",
    "\n",
    "                idx += 1\n",
    "            except:\n",
    "                break\n",
    "        return intervals\n",
    "\n",
    "\n",
    "            \n"
   ]
  },
  {
   "cell_type": "code",
   "execution_count": 2,
   "metadata": {},
   "outputs": [
    {
     "data": {
      "text/plain": [
       "[[1, 6], [8, 10], [15, 18]]"
      ]
     },
     "execution_count": 2,
     "metadata": {},
     "output_type": "execute_result"
    }
   ],
   "source": [
    "intervals = [[1,3],[2,6],[8,10],[15,18]]\n",
    "\n",
    "Solution1().merge(intervals)"
   ]
  },
  {
   "attachments": {},
   "cell_type": "markdown",
   "metadata": {},
   "source": [
    "# 💡 2. **Sort Colors**"
   ]
  },
  {
   "attachments": {},
   "cell_type": "markdown",
   "metadata": {},
   "source": [
    "Given an array `nums` with `n` objects colored red, white, or blue, sort them **[in-place](https://en.wikipedia.org/wiki/In-place_algorithm)** so that objects of the same color are adjacent, with the colors in the order red, white, and blue.\n",
    "\n",
    "We will use the integers `0`, `1`, and `2` to represent the color red, white, and blue, respectively.\n",
    "\n",
    "You must solve this problem without using the library's sort function.\n",
    "\n",
    "**Example 1:**\n",
    "\n",
    "```\n",
    "Input: nums = [2,0,2,1,1,0]\n",
    "Output: [0,0,1,1,2,2]\n",
    "\n",
    "```\n",
    "\n",
    "**Example 2:**\n",
    "\n",
    "```\n",
    "Input: nums = [2,0,1]\n",
    "Output: [0,1,2]\n",
    "\n",
    "```\n",
    "\n",
    "**Constraints:**\n",
    "\n",
    "- `n == nums.length`\n",
    "- `1 <= n <= 300`\n",
    "- `nums[i]` is either `0`, `1`, or `2`.\n",
    "</aside>"
   ]
  },
  {
   "cell_type": "code",
   "execution_count": 21,
   "metadata": {},
   "outputs": [],
   "source": [
    "class Solution2:\n",
    "    def sortColors(self, colors: List[int])-> List[int]:\n",
    "        i = 0\n",
    "        while i < len(colors):\n",
    "            try:\n",
    "                if colors[i] > colors[i+1]:\n",
    "                    colors.append(colors.pop(i))\n",
    "                \n",
    "                    i = 0\n",
    "                else:\n",
    "                    i += 1\n",
    "            except:\n",
    "                break\n",
    "\n",
    "            \n",
    "\n",
    "        return colors"
   ]
  },
  {
   "cell_type": "code",
   "execution_count": 30,
   "metadata": {},
   "outputs": [],
   "source": [
    "class Solution2:\n",
    "    def sortColors(self, colors: List[int])-> List[int]:\n",
    "        i = 0\n",
    "        lower, upper = 0, len(colors)\n",
    "        while lower <= i < upper:\n",
    "            if colors[i] == 0:\n",
    "                colors.insert(lower, colors.pop(i))\n",
    "                lower += 1\n",
    "                i += 1\n",
    "            elif colors[i] == 2:\n",
    "                colors.append(colors.pop(i))\n",
    "                upper -= 1\n",
    "            \n",
    "            else:\n",
    "                i += 1\n",
    "\n",
    "        return colors"
   ]
  },
  {
   "cell_type": "code",
   "execution_count": 37,
   "metadata": {},
   "outputs": [],
   "source": [
    "# Best Solution\n",
    "class Solution2:\n",
    "    def sortColors(self, nums: List[int]) -> None:\n",
    "        \"\"\"\n",
    "        Do not return anything, modify nums in-place instead.\n",
    "        \"\"\"\n",
    "        i = 0 \n",
    "\n",
    "        while i < len(nums)-1:\n",
    "            mini = min(nums[i:])\n",
    "            if nums[i] > mini:\n",
    "                temp = nums[i]\n",
    "                idx = nums[i:].index(mini) + i\n",
    "                if temp != mini:\n",
    "                    nums[i] = mini\n",
    "                    nums[idx] = temp\n",
    "            i += 1\n",
    "\n",
    "        return nums"
   ]
  },
  {
   "cell_type": "code",
   "execution_count": 38,
   "metadata": {},
   "outputs": [
    {
     "data": {
      "text/plain": [
       "[0, 0, 1, 1, 2, 2]"
      ]
     },
     "execution_count": 38,
     "metadata": {},
     "output_type": "execute_result"
    }
   ],
   "source": [
    "colors = [2,0,2,1,1,0]\n",
    "\n",
    "Solution2().sortColors(colors)"
   ]
  },
  {
   "cell_type": "code",
   "execution_count": 39,
   "metadata": {},
   "outputs": [
    {
     "data": {
      "text/plain": [
       "[0, 0, 0, 0, 0, 0, 1, 1, 1, 1, 1, 1, 1, 2, 2, 2, 2]"
      ]
     },
     "execution_count": 39,
     "metadata": {},
     "output_type": "execute_result"
    }
   ],
   "source": [
    "colors = [2,1,0,1,1,2,0,1,1,0,2,2,0,0,1,1,0]\n",
    "\n",
    "Solution2().sortColors(colors)"
   ]
  },
  {
   "attachments": {},
   "cell_type": "markdown",
   "metadata": {},
   "source": [
    "# 💡 3. **First Bad Version Solution**"
   ]
  },
  {
   "attachments": {},
   "cell_type": "markdown",
   "metadata": {},
   "source": [
    "You are a product manager and currently leading a team to develop a new product. Unfortunately, the latest version of your product fails the quality check. Since each version is developed based on the previous version, all the versions after a bad version are also bad.\n",
    "\n",
    "Suppose you have n versions [1, 2, ..., n] and you want to find out the first bad one, which causes all the following ones to be bad.\n",
    "\n",
    "You are given an API bool isBadVersion(version) which returns whether version is bad. Implement a function to find the first bad version. You should minimize the number of calls to the API.\n",
    "\n",
    " \n",
    "\n",
    "**Example 1:**\n",
    "```\n",
    "Input: n = 5, bad = 4\n",
    "Output: 4\n",
    "Explanation:\n",
    "call isBadVersion(3) -> false\n",
    "call isBadVersion(5) -> true\n",
    "call isBadVersion(4) -> true\n",
    "Then 4 is the first bad version.\n",
    "```\n",
    "\n",
    "**Example 2:**\n",
    "```\n",
    "Input: n = 1, bad = 1\n",
    "Output: 1\n",
    "```\n",
    "\n",
    "**Constraints:**\n",
    "\n",
    "- 1 <= bad <= n <= 231 - 1"
   ]
  },
  {
   "cell_type": "code",
   "execution_count": null,
   "metadata": {},
   "outputs": [],
   "source": [
    "class Solution3:\n",
    "    def firstBadVersion(self, n: int) -> int:\n",
    "    \n",
    "        left = 1\n",
    "        right = n\n",
    "        \n",
    "        while (left < right):\n",
    "            mid = left + (right - left) // 2\n",
    "\n",
    "            if isBadVersion(mid):\n",
    "                if not isBadVersion(mid-1):\n",
    "                    return mid\n",
    "                right = mid\n",
    "            else:\n",
    "                left = mid + 1\n",
    "\n",
    "        return left"
   ]
  },
  {
   "attachments": {},
   "cell_type": "markdown",
   "metadata": {},
   "source": [
    "# 💡 4. **Maximum Gap**\n"
   ]
  },
  {
   "attachments": {},
   "cell_type": "markdown",
   "metadata": {},
   "source": [
    "\n",
    "Given an integer array `nums`, return *the maximum difference between two successive elements in its sorted form*. If the array contains less than two elements, return `0`.\n",
    "\n",
    "You must write an algorithm that runs in linear time and uses linear extra space.\n",
    "\n",
    "**Example 1:**\n",
    "\n",
    "```\n",
    "Input: nums = [3,6,9,1]\n",
    "Output: 3\n",
    "Explanation: The sorted form of the array is [1,3,6,9], either (3,6) or (6,9) has the maximum difference 3.\n",
    "\n",
    "```\n",
    "\n",
    "**Example 2:**\n",
    "\n",
    "```\n",
    "Input: nums = [10]\n",
    "Output: 0\n",
    "Explanation: The array contains less than 2 elements, therefore return 0.\n",
    "\n",
    "```\n",
    "\n",
    "**Constraints:**\n",
    "\n",
    "- `1 <= nums.length <= 10^5`\n",
    "- `0 <= nums[i] <= 10^9`"
   ]
  },
  {
   "cell_type": "code",
   "execution_count": 42,
   "metadata": {},
   "outputs": [],
   "source": [
    "class Solution3:\n",
    "    def maximumGap(self, nums: List[int]) -> int:\n",
    "        nums.sort()\n",
    "        maxGap = 0\n",
    "\n",
    "        for i in range(len(nums)-1):\n",
    "            diff = abs(nums[i] - nums[i+1])\n",
    "            maxGap = max(maxGap, diff)\n",
    "\n",
    "        return maxGap"
   ]
  },
  {
   "cell_type": "code",
   "execution_count": 43,
   "metadata": {},
   "outputs": [
    {
     "data": {
      "text/plain": [
       "3"
      ]
     },
     "execution_count": 43,
     "metadata": {},
     "output_type": "execute_result"
    }
   ],
   "source": [
    "nums = [3,6,9,1]\n",
    "\n",
    "Solution3().maximumGap(nums)"
   ]
  },
  {
   "attachments": {},
   "cell_type": "markdown",
   "metadata": {},
   "source": [
    "# 💡 5. **Contains Duplicate**"
   ]
  },
  {
   "attachments": {},
   "cell_type": "markdown",
   "metadata": {},
   "source": [
    "Given an integer array nums, return true if any value appears at least twice in the array, and return false if every element is distinct.\n",
    "\n",
    " \n",
    "\n",
    "Example 1:\n",
    "```\n",
    "Input: nums = [1,2,3,1]\n",
    "Output: true\n",
    "```\n",
    "\n",
    "Example 2:\n",
    "```\n",
    "Input: nums = [1,2,3,4]\n",
    "Output: false\n",
    "```\n",
    "\n",
    "Example 3:\n",
    "```\n",
    "Input: nums = [1,1,1,3,3,4,3,2,4,2]\n",
    "Output: true\n",
    "```\n",
    " \n",
    "\n",
    "Constraints:\n",
    "\n",
    "`1 <= nums.length <= 105`\n",
    "`-109 <= nums[i] <= 109`"
   ]
  },
  {
   "cell_type": "code",
   "execution_count": 4,
   "metadata": {},
   "outputs": [],
   "source": [
    "from typing import List\n",
    "\n",
    "class Solution5:\n",
    "    def containsDuplicate(self, nums: List[int])-> bool:\n",
    "        found = set()\n",
    "\n",
    "        for i in nums:\n",
    "            if found and i in found:\n",
    "                return True\n",
    "            else:\n",
    "                found.add(i)\n",
    "\n",
    "        return False"
   ]
  },
  {
   "cell_type": "code",
   "execution_count": 6,
   "metadata": {},
   "outputs": [],
   "source": [
    "# Altrenative method\n",
    "class Solution5:\n",
    "    def containsDuplicate(self, nums: List[int]) -> bool:\n",
    "        if len(nums) > len(set(nums)):\n",
    "            return True\n",
    "        else:\n",
    "            return False"
   ]
  },
  {
   "cell_type": "code",
   "execution_count": 8,
   "metadata": {},
   "outputs": [],
   "source": [
    "# Altrenative method\n",
    "class Solution5:\n",
    "    def containsDuplicate(self, nums: List[int])-> bool:\n",
    "        nums.sort()\n",
    "        i = 0\n",
    "        while i < len(nums)-1:\n",
    "            if nums[i] == nums[i+1]:\n",
    "                return True\n",
    "            i += 1\n",
    "        \n",
    "        return False"
   ]
  },
  {
   "cell_type": "code",
   "execution_count": 9,
   "metadata": {},
   "outputs": [
    {
     "data": {
      "text/plain": [
       "True"
      ]
     },
     "execution_count": 9,
     "metadata": {},
     "output_type": "execute_result"
    }
   ],
   "source": [
    "nums = [1,1,1,3,3,4,3,2,4,2]\n",
    "\n",
    "Solution5().containsDuplicate(nums)"
   ]
  },
  {
   "attachments": {},
   "cell_type": "markdown",
   "metadata": {},
   "source": [
    "# 💡 6. **Minimum Number of Arrows to Burst Balloons**"
   ]
  },
  {
   "attachments": {},
   "cell_type": "markdown",
   "metadata": {},
   "source": [
    "There are some spherical balloons taped onto a flat wall that represents the XY-plane. The balloons are represented as a 2D integer array points where points[i] = [xstart, xend] denotes a balloon whose horizontal diameter stretches between xstart and xend. \n",
    "\n",
    "You do not know the exact y-coordinates of the balloons.\n",
    "\n",
    "Arrows can be shot up directly vertically (in the positive y-direction) from different points along the x-axis. A balloon with xstart and xend is burst by an arrow shot at x if xstart <= x <= xend. There is no limit to the number of arrows that can be shot. A shot arrow keeps traveling up infinitely, bursting any balloons in its path.\n",
    "\n",
    "Given the array points, return the minimum number of arrows that must be shot to burst all balloons.\n",
    "\n",
    " \n",
    "\n",
    "Example 1:\n",
    "```\n",
    "Input: points = [[10,16],[2,8],[1,6],[7,12]]\n",
    "Output: 2\n",
    "Explanation: The balloons can be burst by 2 arrows:\n",
    "- Shoot an arrow at x = 6, bursting the balloons [2,8] and [1,6].\n",
    "- Shoot an arrow at x = 11, bursting the balloons [10,16] and [7,12].\n",
    "```\n",
    "\n",
    "Example 2:\n",
    "\n",
    "```\n",
    "Input: points = [[1,2],[3,4],[5,6],[7,8]]\n",
    "Output: 4\n",
    "Explanation: One arrow needs to be shot for each balloon for a total of 4 arrows.\n",
    "```\n",
    "\n",
    "Example 3:\n",
    "\n",
    "```\n",
    "Input: points = [[1,2],[2,3],[3,4],[4,5]]\n",
    "Output: 2\n",
    "Explanation: The balloons can be burst by 2 arrows:\n",
    "- Shoot an arrow at x = 2, bursting the balloons [1,2] and [2,3].\n",
    "- Shoot an arrow at x = 4, bursting the balloons [3,4] and [4,5].\n",
    "```\n",
    " \n",
    "\n",
    "Constraints:\n",
    "\n",
    "`1 <= points.length <= 105`\n",
    "\n",
    "`points[i].length == 2`\n",
    "\n",
    "`-231 <= xstart < xend <= 231 - 1`"
   ]
  },
  {
   "cell_type": "code",
   "execution_count": 22,
   "metadata": {},
   "outputs": [],
   "source": [
    "class Solution6:\n",
    "    def maxArrows(self, points: List[List[int]])-> int:\n",
    "        points.sort(key=lambda x: x[0] )\n",
    "        idx = 0\n",
    "        arrow_count = 1\n",
    "        while True:\n",
    "            try:\n",
    "                if points[idx][1] >= points[idx+1][0]:\n",
    "                    first = points.pop(idx)\n",
    "                    second = points.pop(idx)\n",
    "\n",
    "                    new = [max(first[0], second[0]), min(first[1], second[1])]\n",
    "\n",
    "                    points.insert(idx, new)\n",
    "\n",
    "                else:\n",
    "                    idx += 1\n",
    "                    arrow_count += 1\n",
    "            except:\n",
    "                break\n",
    "        return arrow_count"
   ]
  },
  {
   "cell_type": "code",
   "execution_count": 26,
   "metadata": {},
   "outputs": [],
   "source": [
    "class Solution6:\n",
    "    def maxArrows(self, points: List[List[int]]) -> int:\n",
    "        points.sort(key=lambda x: x[0])\n",
    "        arrow_count = 0\n",
    "        current_end = float('-inf')\n",
    "\n",
    "        for point in points:\n",
    "            if point[0] > current_end:\n",
    "                arrow_count += 1\n",
    "                current_end = point[1]\n",
    "            else:\n",
    "                current_end = min(current_end, point[1])\n",
    "\n",
    "        return arrow_count"
   ]
  },
  {
   "cell_type": "code",
   "execution_count": 30,
   "metadata": {},
   "outputs": [],
   "source": [
    "class Solution6:\n",
    "    def maxArrows(self, points: List[List[int]]) -> int:\n",
    "        points.sort(key=lambda x: x[1])\n",
    "        arrow_count = 0\n",
    "        current_end = float('-inf')\n",
    "\n",
    "        for point in points:\n",
    "            if point[0] > current_end:\n",
    "                arrow_count += 1\n",
    "                current_end = point[1]\n",
    "\n",
    "        return arrow_count"
   ]
  },
  {
   "cell_type": "code",
   "execution_count": 31,
   "metadata": {},
   "outputs": [
    {
     "data": {
      "text/plain": [
       "2"
      ]
     },
     "execution_count": 31,
     "metadata": {},
     "output_type": "execute_result"
    }
   ],
   "source": [
    "points = [[10,16],[2,8],[1,6],[7,12]]\n",
    "\n",
    "Solution6().maxArrows(points)"
   ]
  },
  {
   "cell_type": "code",
   "execution_count": 32,
   "metadata": {},
   "outputs": [
    {
     "data": {
      "text/plain": [
       "4"
      ]
     },
     "execution_count": 32,
     "metadata": {},
     "output_type": "execute_result"
    }
   ],
   "source": [
    "points = [[1,2],[3,4],[5,6],[7,8]]\n",
    "Solution6().maxArrows(points)"
   ]
  },
  {
   "cell_type": "code",
   "execution_count": 33,
   "metadata": {},
   "outputs": [
    {
     "data": {
      "text/plain": [
       "2"
      ]
     },
     "execution_count": 33,
     "metadata": {},
     "output_type": "execute_result"
    }
   ],
   "source": [
    "points= [[1,2],[2,3],[3,4],[4,5]]\n",
    "Solution6().maxArrows(points)"
   ]
  },
  {
   "attachments": {},
   "cell_type": "markdown",
   "metadata": {},
   "source": [
    "# 💡 7. **Longest Increasing Subsequence**"
   ]
  },
  {
   "attachments": {},
   "cell_type": "markdown",
   "metadata": {},
   "source": [
    "Given an integer array nums, return the length of the longest strictly increasing subsequence.\n",
    "\n",
    " \n",
    "\n",
    "**Example 1:**\n",
    "```\n",
    "Input: nums = [10,9,2,5,3,7,101,18]\n",
    "Output: 4\n",
    "Explanation: The longest increasing subsequence is [2,3,7,101], therefore the length is 4.\n",
    "```\n",
    "\n",
    "**Example 2:**\n",
    "```\n",
    "Input: nums = [0,1,0,3,2,3]\n",
    "Output: 4\n",
    "```\n",
    "\n",
    "**Example 3:**\n",
    "```\n",
    "Input: nums = [7,7,7,7,7,7,7]\n",
    "Output: 1\n",
    "``` \n",
    "\n",
    "**Constraints:**\n",
    "\n",
    "- `1 <= nums.length <= 2500`\n",
    "- `-104 <= nums[i] <= 104`"
   ]
  },
  {
   "cell_type": "code",
   "execution_count": 34,
   "metadata": {},
   "outputs": [],
   "source": [
    "class Solution7:\n",
    "    def lengthOfLIS(self, nums: List[int]) -> int:\n",
    "        n = len(nums)\n",
    "        tails = [0] * n\n",
    "        size = 0\n",
    "\n",
    "        for num in nums:\n",
    "            left, right = 0, size\n",
    "            while left < right:\n",
    "                mid = left + (right - left) // 2\n",
    "                if tails[mid] < num:\n",
    "                    left = mid + 1\n",
    "                else:\n",
    "                    right = mid\n",
    "\n",
    "            tails[left] = num\n",
    "            size = max(size, left + 1)\n",
    "\n",
    "        return size\n"
   ]
  },
  {
   "cell_type": "code",
   "execution_count": 41,
   "metadata": {},
   "outputs": [],
   "source": [
    "import bisect\n",
    "\n",
    "\n",
    "class Solution7:\n",
    "    def lengthOfLIS(self, nums: List[int]) -> int:\n",
    "      \"\"\"Returns the length of the longest increasing subsequence in nums.\"\"\"\n",
    "      tails = [float('inf')] * (len(nums) + 1)  # Initialize tails with positive infinity\n",
    "      size = 0\n",
    "\n",
    "      for num in nums:\n",
    "          i = bisect.bisect_left(tails, num, hi=size)  # Perform binary search within the current size\n",
    "          tails[i] = num\n",
    "          if i == size:\n",
    "              size += 1\n",
    "\n",
    "      return size"
   ]
  },
  {
   "cell_type": "code",
   "execution_count": 43,
   "metadata": {},
   "outputs": [
    {
     "data": {
      "text/plain": [
       "4"
      ]
     },
     "execution_count": 43,
     "metadata": {},
     "output_type": "execute_result"
    }
   ],
   "source": [
    "nums = [10,9,2,5,3,7,101,18]\n",
    "\n",
    "Solution7().lengthOfLIS(nums)"
   ]
  },
  {
   "attachments": {},
   "cell_type": "markdown",
   "metadata": {},
   "source": [
    "# 💡 8. **132 Pattern**"
   ]
  },
  {
   "attachments": {},
   "cell_type": "markdown",
   "metadata": {},
   "source": [
    "Given an array of n integers nums, a 132 pattern is a subsequence of three integers nums[i], nums[j] and nums[k] such that i < j < k and nums[i] < nums[k] < nums[j].\n",
    "\n",
    "Return true if there is a 132 pattern in nums, otherwise, return false.\n",
    "\n",
    " \n",
    "\n",
    "Example 1:\n",
    "```\n",
    "Input: nums = [1,2,3,4]\n",
    "Output: false\n",
    "Explanation: There is no 132 pattern in the sequence.\n",
    "```\n",
    "\n",
    "Example 2:\n",
    "```\n",
    "Input: nums = [3,1,4,2]\n",
    "Output: true\n",
    "Explanation: There is a 132 pattern in the sequence: [1, 4, 2].\n",
    "```\n",
    "\n",
    "Example 3:\n",
    "```\n",
    "Input: nums = [-1,3,2,0]\n",
    "Output: true\n",
    "Explanation: There are three 132 patterns in the sequence: [-1, 3, 2], [-1, 3, 0] and [-1, 2, 0].\n",
    "```\n",
    " \n",
    "\n",
    "Constraints:\n",
    "\n",
    "- `n == nums.length`\n",
    "- `1 <= n <= 2 * 105`\n",
    "- `-109 <= nums[i] <= 109`"
   ]
  },
  {
   "cell_type": "code",
   "execution_count": 49,
   "metadata": {},
   "outputs": [],
   "source": [
    "class Solution8:\n",
    "    def find132pattern(self, nums: List[int]) -> bool:\n",
    "\n",
    "        for i in range(len(nums)-2):\n",
    "            for j in range(i+1, len(nums)-1):\n",
    "                if nums[j] > nums[i]:\n",
    "                    for k in range(j+1, len(nums)):\n",
    "                        if nums[k] > nums[i] and nums[k] < nums[j]:\n",
    "                            return True\n",
    "        return False\n"
   ]
  },
  {
   "cell_type": "code",
   "execution_count": 56,
   "metadata": {},
   "outputs": [],
   "source": [
    "class Solution8:\n",
    "    def find132pattern(self, nums: List[int]) -> bool:\n",
    "        stack = []\n",
    "        s3 = float('-inf')  # Initialize the \"3\" value with negative infinity\n",
    "\n",
    "        for num in reversed(nums):\n",
    "            if num < s3:\n",
    "                return True\n",
    "\n",
    "            while stack and stack[-1] < num:\n",
    "                s3 = stack.pop()\n",
    "\n",
    "            stack.append(num)\n",
    "\n",
    "        return False"
   ]
  },
  {
   "cell_type": "code",
   "execution_count": 62,
   "metadata": {},
   "outputs": [
    {
     "data": {
      "text/plain": [
       "False"
      ]
     },
     "execution_count": 62,
     "metadata": {},
     "output_type": "execute_result"
    }
   ],
   "source": [
    "nums = [1,2,3,4]\n",
    "\n",
    "Solution8().find132pattern(nums)"
   ]
  },
  {
   "cell_type": "code",
   "execution_count": 63,
   "metadata": {},
   "outputs": [
    {
     "data": {
      "text/plain": [
       "True"
      ]
     },
     "execution_count": 63,
     "metadata": {},
     "output_type": "execute_result"
    }
   ],
   "source": [
    "nums = [3,1,4,2]\n",
    "\n",
    "Solution8().find132pattern(nums)"
   ]
  },
  {
   "cell_type": "code",
   "execution_count": 59,
   "metadata": {},
   "outputs": [
    {
     "data": {
      "text/plain": [
       "True"
      ]
     },
     "execution_count": 59,
     "metadata": {},
     "output_type": "execute_result"
    }
   ],
   "source": [
    "nums = [-1,3,2,0]\n",
    "\n",
    "Solution8().find132pattern(nums)"
   ]
  },
  {
   "cell_type": "code",
   "execution_count": 61,
   "metadata": {},
   "outputs": [
    {
     "data": {
      "text/plain": [
       "False"
      ]
     },
     "execution_count": 61,
     "metadata": {},
     "output_type": "execute_result"
    }
   ],
   "source": [
    "nums = [1,0,1,-4,-3]\n",
    "\n",
    "Solution8().find132pattern(nums)"
   ]
  },
  {
   "cell_type": "code",
   "execution_count": null,
   "metadata": {},
   "outputs": [],
   "source": []
  }
 ],
 "metadata": {
  "kernelspec": {
   "display_name": "PPT",
   "language": "python",
   "name": "python3"
  },
  "language_info": {
   "codemirror_mode": {
    "name": "ipython",
    "version": 3
   },
   "file_extension": ".py",
   "mimetype": "text/x-python",
   "name": "python",
   "nbconvert_exporter": "python",
   "pygments_lexer": "ipython3",
   "version": "3.10.11"
  },
  "orig_nbformat": 4
 },
 "nbformat": 4,
 "nbformat_minor": 2
}
