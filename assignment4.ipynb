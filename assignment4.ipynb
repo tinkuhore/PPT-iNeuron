{
 "cells": [
  {
   "cell_type": "code",
   "execution_count": 2,
   "metadata": {},
   "outputs": [],
   "source": [
    "from typing import List\n",
    "\n",
    "\n"
   ]
  },
  {
   "attachments": {},
   "cell_type": "markdown",
   "metadata": {},
   "source": [
    "# 💡 **Question 1**\n",
    "Given three integer arrays arr1, arr2 and arr3 **sorted** in **strictly increasing** order, return a sorted array of **only** the integers that appeared in **all** three arrays.\n",
    "\n",
    "**Example 1:**\n",
    "\n",
    "Input: \n",
    "\n",
    "        arr1 = [1,2,3,4,5], \n",
    "\n",
    "        arr2 = [1,2,5,7,9], \n",
    "        \n",
    "        arr3 = [1,3,4,5,8]\n",
    "\n",
    "Output: [1,5]\n",
    "\n",
    "**Explanation:** \n",
    "\n",
    "Only 1 and 5 appeared in the three arrays.\n"
   ]
  },
  {
   "cell_type": "code",
   "execution_count": 3,
   "metadata": {},
   "outputs": [],
   "source": [
    "class Solution1:\n",
    "    def foundInAllArray(self, array1: List[int], array2: List[int], array3: List[int])-> List[int]:\n",
    "        intersect = list(set(array1).intersection(set(array2)))\n",
    "        if len(array3) and len(intersect):\n",
    "            intersect = list(set(intersect).intersection(set(array3)))\n",
    "        else:\n",
    "            intersect = []\n",
    "        return intersect"
   ]
  },
  {
   "cell_type": "code",
   "execution_count": 4,
   "metadata": {},
   "outputs": [
    {
     "data": {
      "text/plain": [
       "[1, 5]"
      ]
     },
     "execution_count": 4,
     "metadata": {},
     "output_type": "execute_result"
    }
   ],
   "source": [
    "arr1 = [1,2,3,4,5]\n",
    "arr2 = [1,2,5,7,9]\n",
    "arr3 = [1,3,4,5,8]\n",
    "\n",
    "Solution1().foundInAllArray(arr1, arr2, arr3)"
   ]
  },
  {
   "attachments": {},
   "cell_type": "markdown",
   "metadata": {},
   "source": [
    "# 💡 **Question 2**\n",
    "\n",
    "Given two **0-indexed** integer arrays nums1 and nums2, return *a list* answer *of size* 2 *where:*\n",
    "\n",
    "- answer[0] *is a list of all **distinct** integers in* nums1 *which are **not** present in* nums2*.*\n",
    "- answer[1] *is a list of all **distinct** integers in* nums2 *which are **not** present in* nums1.\n",
    "\n",
    "**Note** that the integers in the lists may be returned in **any** order.\n",
    "\n",
    "**Example 1:**\n",
    "\n",
    "**Input:** nums1 = [1,2,3], nums2 = [2,4,6]\n",
    "\n",
    "**Output:** [[1,3],[4,6]]\n",
    "\n",
    "**Explanation:**\n",
    "\n",
    "For nums1, nums1[1] = 2 is present at index 0 of nums2, whereas nums1[0] = 1 and nums1[2] = 3 are not present in nums2. Therefore, answer[0] = [1,3].\n",
    "\n",
    "For nums2, nums2[0] = 2 is present at index 1 of nums1, whereas nums2[1] = 4 and nums2[2] = 6 are not present in nums2. Therefore, answer[1] = [4,6].\n",
    "\n",
    "</aside>"
   ]
  },
  {
   "cell_type": "code",
   "execution_count": 5,
   "metadata": {},
   "outputs": [],
   "source": [
    "class Solution2:\n",
    "    def findDifference(self, nums1: List[int], nums2: List[int]) -> List[List[int]]:\n",
    "        return [list(set(nums1)-set(nums2)), list(set(nums2)-set(nums1))]"
   ]
  },
  {
   "cell_type": "code",
   "execution_count": 6,
   "metadata": {},
   "outputs": [
    {
     "data": {
      "text/plain": [
       "[[1, 3], [4, 6]]"
      ]
     },
     "execution_count": 6,
     "metadata": {},
     "output_type": "execute_result"
    }
   ],
   "source": [
    "nums1 = [1,2,3]\n",
    "nums2 = [2,4,6]\n",
    "Solution2().findDifference(nums1,nums2)"
   ]
  },
  {
   "attachments": {},
   "cell_type": "markdown",
   "metadata": {},
   "source": [
    "# 💡 **Question 3**\n",
    "Given a 2D integer array matrix, return *the **transpose** of* matrix.\n",
    "\n",
    "The **transpose** of a matrix is the matrix flipped over its main diagonal, switching the matrix's row and column indices.\n",
    "\n",
    "**Example 1:**\n",
    "\n",
    "Input: matrix = [[1,2,3],[4,5,6],[7,8,9]]\n",
    "\n",
    "Output: [[1,4,7],[2,5,8],[3,6,9]]\n",
    "\n",
    "</aside>"
   ]
  },
  {
   "cell_type": "code",
   "execution_count": 7,
   "metadata": {},
   "outputs": [],
   "source": [
    "class Solution3:\n",
    "    def transpose(self, matrix: List[List[int]]) -> List[List[int]]:\n",
    "        return list(zip(*matrix))"
   ]
  },
  {
   "cell_type": "code",
   "execution_count": 8,
   "metadata": {},
   "outputs": [
    {
     "data": {
      "text/plain": [
       "[(1, 4, 7), (2, 5, 8), (3, 6, 9)]"
      ]
     },
     "execution_count": 8,
     "metadata": {},
     "output_type": "execute_result"
    }
   ],
   "source": [
    "matrix = [[1,2,3],[4,5,6],[7,8,9]]\n",
    "\n",
    "Solution3().transpose(matrix = matrix)"
   ]
  },
  {
   "attachments": {},
   "cell_type": "markdown",
   "metadata": {},
   "source": [
    "# 💡 **Question 4**\n",
    "Given an integer array nums of 2n integers, group these integers into n pairs (a1, b1), (a2, b2), ..., (an, bn) such that the sum of min(ai, bi) for all i is **maximized**. Return *the maximized sum*.\n",
    "\n",
    "**Example 1:**\n",
    "\n",
    "Input: nums = [1,4,3,2]\n",
    "\n",
    "Output: 4\n",
    "\n",
    "**Explanation:** All possible pairings (ignoring the ordering of elements) are:\n",
    "\n",
    "1. (1, 4), (2, 3) -> min(1, 4) + min(2, 3) = 1 + 2 = 3\n",
    "\n",
    "2. (1, 3), (2, 4) -> min(1, 3) + min(2, 4) = 1 + 2 = 3\n",
    "\n",
    "3. (1, 2), (3, 4) -> min(1, 2) + min(3, 4) = 1 + 3 = 4\n",
    "\n",
    "So the maximum possible sum is 4.\n",
    "\n",
    "</aside>"
   ]
  },
  {
   "cell_type": "code",
   "execution_count": 9,
   "metadata": {},
   "outputs": [],
   "source": [
    "class Solution4:\n",
    "    def arrayPairSum(self, nums: List[int]) -> int:\n",
    "        nums.sort()\n",
    "        return sum(nums[0::2])"
   ]
  },
  {
   "cell_type": "code",
   "execution_count": 10,
   "metadata": {},
   "outputs": [
    {
     "data": {
      "text/plain": [
       "4"
      ]
     },
     "execution_count": 10,
     "metadata": {},
     "output_type": "execute_result"
    }
   ],
   "source": [
    "nums = [1,4,3,2]\n",
    "\n",
    "Solution4().arrayPairSum(nums)"
   ]
  },
  {
   "attachments": {},
   "cell_type": "markdown",
   "metadata": {},
   "source": [
    "# 💡 **Question 5**\n",
    "You have n coins and you want to build a staircase with these coins. The staircase consists of k rows where the ith row has exactly i coins. The last row of the staircase **may be** incomplete.\n",
    "\n",
    "Given the integer n, return *the number of **complete rows** of the staircase you will build*.\n",
    "\n",
    "**Example 1:**\n",
    "\n",
    "[]()\n",
    "\n",
    "![v2.jpg](https://s3-us-west-2.amazonaws.com/secure.notion-static.com/4bd91cfa-d2b1-47b3-8197-a72e8dcfff4b/v2.jpg)\n",
    "\n",
    "**Input:** n = 5\n",
    "\n",
    "**Output:** 2\n",
    "\n",
    "**Explanation:** Because the 3rd row is incomplete, we return 2.\n",
    "\n",
    "</aside>"
   ]
  },
  {
   "cell_type": "code",
   "execution_count": 12,
   "metadata": {},
   "outputs": [],
   "source": [
    "from math import sqrt\n",
    "\n",
    "\n",
    "class Solution5:\n",
    "    def arrangeCoins(self, n: int) -> int:\n",
    "        return int((sqrt(1+8*n)-1)/2)"
   ]
  },
  {
   "cell_type": "code",
   "execution_count": 13,
   "metadata": {},
   "outputs": [
    {
     "data": {
      "text/plain": [
       "2"
      ]
     },
     "execution_count": 13,
     "metadata": {},
     "output_type": "execute_result"
    }
   ],
   "source": [
    "Solution5().arrangeCoins(n=5)"
   ]
  },
  {
   "attachments": {},
   "cell_type": "markdown",
   "metadata": {},
   "source": [
    "# 💡 **Question 6**\n",
    "Given an integer array nums sorted in **non-decreasing** order, return *an array of **the squares of each number** sorted in non-decreasing order*.\n",
    "\n",
    "**Example 1:**\n",
    "\n",
    "Input: nums = [-4,-1,0,3,10]\n",
    "\n",
    "Output: [0,1,9,16,100]\n",
    "\n",
    "**Explanation:** After squaring, the array becomes [16,1,0,9,100].\n",
    "After sorting, it becomes [0,1,9,16,100]\n",
    "\n"
   ]
  },
  {
   "cell_type": "code",
   "execution_count": 14,
   "metadata": {},
   "outputs": [],
   "source": [
    "class Solution6:\n",
    "    def sortedSquares(self, nums: List[int]) -> List[int]:\n",
    "        for i in range(len(nums)):\n",
    "            nums[i] = nums[i]**2\n",
    "        return sorted(nums)"
   ]
  },
  {
   "cell_type": "code",
   "execution_count": 15,
   "metadata": {},
   "outputs": [
    {
     "data": {
      "text/plain": [
       "[0, 1, 9, 16, 100]"
      ]
     },
     "execution_count": 15,
     "metadata": {},
     "output_type": "execute_result"
    }
   ],
   "source": [
    "nums = [-4,-1,0,3,10]\n",
    "\n",
    "Solution6().sortedSquares(nums)"
   ]
  },
  {
   "attachments": {},
   "cell_type": "markdown",
   "metadata": {},
   "source": [
    "# 💡 **Question 7**\n",
    "\n",
    "You are given an m x n matrix M initialized with all 0's and an array of operations ops, where ops[i] = [ai, bi] means M[x][y] should be incremented by one for all 0 <= x < ai and 0 <= y < bi.\n",
    "\n",
    "Count and return *the number of maximum integers in the matrix after performing all the operations*\n",
    "\n",
    "**Example 1:**\n",
    "\n",
    "![q4.jpg](https://s3-us-west-2.amazonaws.com/secure.notion-static.com/4d0890d0-7bc7-4f59-be8e-352d9f3c1c52/q4.jpg)\n",
    "\n",
    "**Input:** m = 3, n = 3, ops = [[2,2],[3,3]]\n",
    "\n",
    "**Output:** 4\n",
    "\n",
    "**Explanation:** The maximum integer in M is 2, and there are four of it in M. So return 4.\n",
    "\n",
    "</aside>"
   ]
  },
  {
   "cell_type": "code",
   "execution_count": 16,
   "metadata": {},
   "outputs": [],
   "source": [
    "class Solution7:\n",
    "    def maxCount(self, m: int, n: int, ops: List[List[int]]) -> int:\n",
    "        if not len(ops):\n",
    "            return m*n\n",
    "        rmin, cmin = m, n\n",
    "        for op in list(set(map(tuple,ops))):\n",
    "            rmin = min(rmin, op[0])       \n",
    "            cmin = min(cmin, op[1])\n",
    "\n",
    "        return rmin*cmin"
   ]
  },
  {
   "cell_type": "code",
   "execution_count": 17,
   "metadata": {},
   "outputs": [
    {
     "data": {
      "text/plain": [
       "4"
      ]
     },
     "execution_count": 17,
     "metadata": {},
     "output_type": "execute_result"
    }
   ],
   "source": [
    "Solution7().maxCount(m = 3, n = 3, ops = [[2,2],[3,3]])"
   ]
  },
  {
   "attachments": {},
   "cell_type": "markdown",
   "metadata": {},
   "source": [
    "# 💡 **Question 8**\n",
    "\n",
    "Given the array nums consisting of 2n elements in the form [x1,x2,...,xn,y1,y2,...,yn].\n",
    "\n",
    "*Return the array in the form* [x1,y1,x2,y2,...,xn,yn].\n",
    "\n",
    "**Example 1:**\n",
    "\n",
    "**Input:** nums = [2,5,1,3,4,7], n = 3\n",
    "\n",
    "**Output:** [2,3,5,4,1,7]\n",
    "\n",
    "**Explanation:** Since x1=2, x2=5, x3=1, y1=3, y2=4, y3=7 then the answer is [2,3,5,4,1,7].\n",
    "\n",
    "</aside>"
   ]
  },
  {
   "cell_type": "code",
   "execution_count": 19,
   "metadata": {},
   "outputs": [],
   "source": [
    "class Solution8:\n",
    "    def shuffle(self, nums: List[int], n: int) -> List[int]:\n",
    "        for i in range(n-1):\n",
    "            nums.insert(2*i+1, nums.pop(i+n))\n",
    "        return nums"
   ]
  },
  {
   "cell_type": "code",
   "execution_count": 20,
   "metadata": {},
   "outputs": [
    {
     "data": {
      "text/plain": [
       "[2, 3, 5, 4, 1, 7]"
      ]
     },
     "execution_count": 20,
     "metadata": {},
     "output_type": "execute_result"
    }
   ],
   "source": [
    "Solution8().shuffle(nums = [2,5,1,3,4,7], n = 3)"
   ]
  },
  {
   "cell_type": "code",
   "execution_count": null,
   "metadata": {},
   "outputs": [],
   "source": []
  }
 ],
 "metadata": {
  "kernelspec": {
   "display_name": "PPT",
   "language": "python",
   "name": "python3"
  },
  "language_info": {
   "codemirror_mode": {
    "name": "ipython",
    "version": 3
   },
   "file_extension": ".py",
   "mimetype": "text/x-python",
   "name": "python",
   "nbconvert_exporter": "python",
   "pygments_lexer": "ipython3",
   "version": "3.10.11"
  },
  "orig_nbformat": 4
 },
 "nbformat": 4,
 "nbformat_minor": 2
}
