{
 "cells": [
  {
   "cell_type": "code",
   "execution_count": 1,
   "metadata": {},
   "outputs": [],
   "source": [
    "class TreeNode:\n",
    "    def __init__(self, val: int, left: int = None, right: int = None)->None:\n",
    "        self.val = val\n",
    "        self.left = left\n",
    "        self.right = right"
   ]
  },
  {
   "cell_type": "code",
   "execution_count": 2,
   "metadata": {},
   "outputs": [],
   "source": [
    "class PrintTree:\n",
    "    def __init__(self, root: TreeNode):\n",
    "        self.root = root\n",
    "        self.tag()\n",
    "        self.printTree(self.root)\n",
    "\n",
    "    def tag(self):\n",
    "        print(\"Inorder Traversal:\", end=\" \")\n",
    "\n",
    "    def printTree(self, root):\n",
    "        if not root:\n",
    "            return\n",
    "        \n",
    "        self.printTree(root.left)\n",
    "        print(root.val, end=\" \")\n",
    "        self.printTree(root.right)"
   ]
  },
  {
   "cell_type": "markdown",
   "metadata": {},
   "source": [
    "# 💡 Question-1:"
   ]
  },
  {
   "cell_type": "markdown",
   "metadata": {},
   "source": [
    "Given a Binary Tree (Bt), convert it to a Doubly Linked List(DLL). The left and right pointers in nodes are to be used as previous and next pointers respectively in converted DLL. The order of nodes in DLL must be the same as in Inorder for the given Binary Tree. The first node of Inorder traversal (leftmost node in BT) must be the head node of the DLL.\n",
    "\n",
    "Example:\n",
    "\n",
    "![img](https://pwskills.notion.site/image/https%3A%2F%2Fs3-us-west-2.amazonaws.com%2Fsecure.notion-static.com%2Ff9dda6ae-60b9-427b-990f-dc5b3117a5e3%2FUntitled.png?id=f5542efd-4d64-4904-9259-23aeb80f012b&table=block&spaceId=6fae2e0f-dedc-48e9-bc59-af2654c78209&width=860&userId=&cache=v2)"
   ]
  },
  {
   "cell_type": "code",
   "execution_count": 3,
   "metadata": {},
   "outputs": [],
   "source": [
    "from typing import Optional, List\n",
    "\n",
    "class Solution1:\n",
    "    def __init__(self,):\n",
    "        self.head = None\n",
    "        self.prev = None\n",
    "\n",
    "    def TreeToDLL(self, root: TreeNode)-> None:\n",
    "        if not root: return\n",
    "\n",
    "        self.TreeToDLL(root.left)\n",
    "\n",
    "        if not self.head:\n",
    "            self.head = root\n",
    "        else:\n",
    "            root.left = self.prev\n",
    "            self.prev.right = root\n",
    "\n",
    "        self.prev = root\n",
    "\n",
    "        self.TreeToDLL(root.right)\n",
    "\n",
    "\n",
    "    def flatten(self, root: Optional[TreeNode]) -> TreeNode:\n",
    "        self.TreeToDLL(root)\n",
    "        return self.head"
   ]
  },
  {
   "cell_type": "code",
   "execution_count": 4,
   "metadata": {},
   "outputs": [],
   "source": [
    "root = TreeNode(10)\n",
    "root.left = TreeNode(12)\n",
    "root.right = TreeNode(15)\n",
    "\n",
    "root.left.left = TreeNode(25)\n",
    "root.left.right = TreeNode(30)\n",
    "\n",
    "root.right.left = TreeNode(36)"
   ]
  },
  {
   "cell_type": "code",
   "execution_count": 5,
   "metadata": {},
   "outputs": [
    {
     "name": "stdout",
     "output_type": "stream",
     "text": [
      "Before Flattening: \n",
      "Inorder Traversal: 25 12 30 10 36 15 "
     ]
    },
    {
     "data": {
      "text/plain": [
       "<__main__.PrintTree at 0x7f07a40ab730>"
      ]
     },
     "execution_count": 5,
     "metadata": {},
     "output_type": "execute_result"
    }
   ],
   "source": [
    "print(\"Before Flattening: \")\n",
    "PrintTree(root)"
   ]
  },
  {
   "cell_type": "code",
   "execution_count": 6,
   "metadata": {},
   "outputs": [
    {
     "name": "stdout",
     "output_type": "stream",
     "text": [
      "After Flattening\n",
      "25 12 30 10 36 15 "
     ]
    }
   ],
   "source": [
    "head = Solution1().flatten(root)\n",
    "print(\"After Flattening\")\n",
    "# Print the doubly linked list\n",
    "current = head\n",
    "while current:\n",
    "    print(current.val, end=\" \")\n",
    "    current = current.right"
   ]
  },
  {
   "cell_type": "markdown",
   "metadata": {},
   "source": [
    "# 💡 Question-2"
   ]
  },
  {
   "cell_type": "markdown",
   "metadata": {},
   "source": [
    "\n",
    "\n",
    "A Given a binary tree, the task is to flip the binary tree towards the right direction that is clockwise. See the below examples to see the transformation.\n",
    "\n",
    "In the flip operation, the leftmost node becomes the root of the flipped tree and its parent becomes its right child and the right sibling becomes its left child and the same should be done for all left most nodes recursively.\n",
    "\n",
    "Example1:\n",
    "\n",
    "![Untitled](https://pwskills.notion.site/image/https%3A%2F%2Fs3-us-west-2.amazonaws.com%2Fsecure.notion-static.com%2Fa5f5bbbe-8607-4f17-9ab4-b31327ffa2d0%2FUntitled.png?id=bf2642e8-4284-4d78-9cf8-ea00a926b238&table=block&spaceId=6fae2e0f-dedc-48e9-bc59-af2654c78209&width=860&userId=&cache=v2)\n",
    "\n",
    "Example2:\n",
    "\n",
    "![Untitled](https://pwskills.notion.site/image/https%3A%2F%2Fs3-us-west-2.amazonaws.com%2Fsecure.notion-static.com%2F063636b4-9f35-4524-b6d9-c97e30cac510%2FUntitled.png?id=257a6e42-4876-4a44-ac0e-07f80a570f83&table=block&spaceId=6fae2e0f-dedc-48e9-bc59-af2654c78209&width=860&userId=&cache=v2)"
   ]
  },
  {
   "cell_type": "code",
   "execution_count": 7,
   "metadata": {},
   "outputs": [],
   "source": [
    "class Solution2:\n",
    "    def __init__(self):\n",
    "        self.new_root = None \n",
    "    def flipTree(self, root: TreeNode)-> TreeNode:\n",
    "        if not root or not root.left or not root.right: return\n",
    "\n",
    "        self.flipTree(root.left)\n",
    "\n",
    "        if not self.new_root:\n",
    "            self.new_root = root.left\n",
    "        root.left.left = root.right\n",
    "        root.left.right = root\n",
    "        root.left = None\n",
    "        root.right = None\n",
    "\n",
    "        return self.new_root"
   ]
  },
  {
   "cell_type": "code",
   "execution_count": 8,
   "metadata": {},
   "outputs": [],
   "source": [
    "root = TreeNode(1)\n",
    "root.left = TreeNode(2)\n",
    "root.right = TreeNode(3)\n",
    "\n",
    "root.right.left = TreeNode(4)\n",
    "root.right.right = TreeNode(5)"
   ]
  },
  {
   "cell_type": "code",
   "execution_count": 9,
   "metadata": {},
   "outputs": [
    {
     "name": "stdout",
     "output_type": "stream",
     "text": [
      "Inorder Traversal: 2 1 4 3 5 "
     ]
    },
    {
     "data": {
      "text/plain": [
       "<__main__.PrintTree at 0x7f07a4063b50>"
      ]
     },
     "execution_count": 9,
     "metadata": {},
     "output_type": "execute_result"
    }
   ],
   "source": [
    "PrintTree(root)"
   ]
  },
  {
   "cell_type": "code",
   "execution_count": 10,
   "metadata": {},
   "outputs": [
    {
     "name": "stdout",
     "output_type": "stream",
     "text": [
      "Inorder Traversal: 4 3 5 2 1 "
     ]
    },
    {
     "data": {
      "text/plain": [
       "<__main__.PrintTree at 0x7f07a40638b0>"
      ]
     },
     "execution_count": 10,
     "metadata": {},
     "output_type": "execute_result"
    }
   ],
   "source": [
    "new_root = Solution2().flipTree(root)\n",
    "PrintTree(new_root)"
   ]
  },
  {
   "cell_type": "code",
   "execution_count": 11,
   "metadata": {},
   "outputs": [],
   "source": [
    "root =TreeNode(1)\n",
    "root.left = TreeNode(2)\n",
    "root.right = TreeNode(3)\n",
    "\n",
    "root.left.left = TreeNode(4)\n",
    "root.left.right = TreeNode(5)\n",
    "\n",
    "root.right.left = TreeNode(6)\n",
    "root.right.right = TreeNode(7)"
   ]
  },
  {
   "cell_type": "code",
   "execution_count": 12,
   "metadata": {},
   "outputs": [
    {
     "name": "stdout",
     "output_type": "stream",
     "text": [
      "Inorder Traversal: 4 2 5 1 6 3 7 "
     ]
    },
    {
     "data": {
      "text/plain": [
       "<__main__.PrintTree at 0x7f07a4063640>"
      ]
     },
     "execution_count": 12,
     "metadata": {},
     "output_type": "execute_result"
    }
   ],
   "source": [
    "PrintTree(root)"
   ]
  },
  {
   "cell_type": "code",
   "execution_count": 13,
   "metadata": {},
   "outputs": [
    {
     "name": "stdout",
     "output_type": "stream",
     "text": [
      "Inorder Traversal: 5 4 6 3 7 2 1 "
     ]
    },
    {
     "data": {
      "text/plain": [
       "<__main__.PrintTree at 0x7f07a4063a30>"
      ]
     },
     "execution_count": 13,
     "metadata": {},
     "output_type": "execute_result"
    }
   ],
   "source": [
    "new_root = Solution2().flipTree(root)\n",
    "PrintTree(new_root)"
   ]
  },
  {
   "cell_type": "markdown",
   "metadata": {},
   "source": [
    "# 💡 Question-3:"
   ]
  },
  {
   "cell_type": "markdown",
   "metadata": {},
   "source": [
    "Given a binary tree, print all its root-to-leaf paths without using recursion. For example, consider the following Binary Tree.\n",
    "\n",
    "Input:\n",
    "```\n",
    "        6\n",
    "     /    \\\n",
    "    3      5\n",
    "  /   \\     \\\n",
    " 2     5     4\n",
    "     /   \\\n",
    "    7     4\n",
    "```\n",
    "Output:\n",
    "```\n",
    "There are 4 leaves, hence 4 root to leaf paths -\n",
    "  6->3->2\n",
    "  6->3->5->7\n",
    "  6->3->5->4\n",
    "  6->5>4\n",
    "\n",
    "```"
   ]
  },
  {
   "cell_type": "code",
   "execution_count": 14,
   "metadata": {},
   "outputs": [],
   "source": [
    "class Solution3:\n",
    "    def __init__(self):\n",
    "        self.paths = []\n",
    "\n",
    "    def root_to_leaf_path(self, root: TreeNode, path: str)->None:\n",
    "        if not root: return\n",
    "\n",
    "        if not root.left and not root.right:\n",
    "            self.paths.append(path+str(root.val))\n",
    "            return\n",
    "        \n",
    "        path = path + str(root.val) + \"->\"\n",
    "\n",
    "        self.root_to_leaf_path(root.left, path)\n",
    "        self.root_to_leaf_path(root.right, path)\n",
    "\n",
    "    def root_to_leaf(self, root: TreeNode)-> None:\n",
    "        self.root_to_leaf_path(root, \"\")\n",
    "\n",
    "        n = len(self.paths)\n",
    "        print(f\"There are {n} leaves, hence {n} root to leaf paths -\")\n",
    "        for path in self.paths:\n",
    "            print(path) \n"
   ]
  },
  {
   "cell_type": "code",
   "execution_count": 20,
   "metadata": {},
   "outputs": [
    {
     "data": {
      "text/plain": [
       "2"
      ]
     },
     "execution_count": 20,
     "metadata": {},
     "output_type": "execute_result"
    }
   ],
   "source": [
    "int(\"02\")"
   ]
  },
  {
   "cell_type": "code",
   "execution_count": 15,
   "metadata": {},
   "outputs": [],
   "source": [
    "root = TreeNode(6)\n",
    "root.left = TreeNode(3)\n",
    "root.right = TreeNode(5)\n",
    "\n",
    "root.left.left = TreeNode(2)\n",
    "root.left.right = TreeNode(5)\n",
    "\n",
    "root.left.right.left = TreeNode(7)\n",
    "root.left.right.right = TreeNode(4)\n",
    "\n",
    "root.right.right = TreeNode(4)"
   ]
  },
  {
   "cell_type": "code",
   "execution_count": 16,
   "metadata": {},
   "outputs": [
    {
     "name": "stdout",
     "output_type": "stream",
     "text": [
      "Inorder Traversal: 2 3 7 5 4 6 5 4 "
     ]
    },
    {
     "data": {
      "text/plain": [
       "<__main__.PrintTree at 0x7f07a4063f10>"
      ]
     },
     "execution_count": 16,
     "metadata": {},
     "output_type": "execute_result"
    }
   ],
   "source": [
    "PrintTree(root)"
   ]
  },
  {
   "cell_type": "code",
   "execution_count": 17,
   "metadata": {},
   "outputs": [
    {
     "name": "stdout",
     "output_type": "stream",
     "text": [
      "There are 4 leaves, hence 4 root to leaf paths -\n",
      "6->3->2\n",
      "6->3->5->7\n",
      "6->3->5->4\n",
      "6->5->4\n"
     ]
    }
   ],
   "source": [
    "Solution3().root_to_leaf(root)"
   ]
  },
  {
   "cell_type": "markdown",
   "metadata": {},
   "source": [
    "# 💡 Question-4:"
   ]
  },
  {
   "cell_type": "markdown",
   "metadata": {},
   "source": [
    "Given Preorder, Inorder and Postorder traversals of some tree. Write a program to check if they all are of the same tree.\n",
    "\n",
    "**Examples:**\n",
    "\n",
    "Input : \n",
    "\n",
    "        Inorder -> 4 2 5 1 3\n",
    "        Preorder -> 1 2 4 5 3\n",
    "        Postorder -> 4 5 2 3 1\n",
    "Output : \n",
    "\n",
    "Yes\n",
    "Explanation : \n",
    "\n",
    "All of the above three traversals are of\n",
    "the same tree \n",
    "\n",
    "                           1\n",
    "                         /   \\\n",
    "                        2     3\n",
    "                      /   \\\n",
    "                     4     5\n",
    "\n",
    "Input : \n",
    "\n",
    "        Inorder -> 4 2 5 1 3\n",
    "        Preorder -> 1 5 4 2 3\n",
    "        Postorder -> 4 1 2 3 5\n",
    "Output : \n",
    "\n",
    "No\n",
    "\n",
    "</aside>"
   ]
  },
  {
   "cell_type": "code",
   "execution_count": 18,
   "metadata": {},
   "outputs": [],
   "source": [
    "class Solution4:\n",
    "    def isSameTree(self, t1: TreeNode, t2: TreeNode)->bool:\n",
    "        if not t1 and not t2:\n",
    "            return True\n",
    "        if not t1 or not t2:\n",
    "            return False\n",
    "        if t1.val != t2.val:\n",
    "            return False\n",
    "\n",
    "        left_same = self.isSameTree(t1.left, t2.left)\n",
    "        right_same = self.isSameTree(t1.right, t2.right)\n",
    "\n",
    "        return left_same and right_same\n",
    "\n",
    "    def treeFromPreorder(self, preorder: str or List)-> TreeNode:\n",
    "        pass\n",
    "\n",
    "    def treeFromInorder(self, inorder: str or List)-> TreeNode:\n",
    "        pass\n",
    "\n",
    "    def treeFromPostorder(self, postorder: str or List)-> TreeNode:\n",
    "        pass"
   ]
  }
 ],
 "metadata": {
  "kernelspec": {
   "display_name": "Python 3.8.10 64-bit",
   "language": "python",
   "name": "python3"
  },
  "language_info": {
   "codemirror_mode": {
    "name": "ipython",
    "version": 3
   },
   "file_extension": ".py",
   "mimetype": "text/x-python",
   "name": "python",
   "nbconvert_exporter": "python",
   "pygments_lexer": "ipython3",
   "version": "3.8.10"
  },
  "orig_nbformat": 4,
  "vscode": {
   "interpreter": {
    "hash": "e7370f93d1d0cde622a1f8e1c04877d8463912d04d973331ad4851f04de6915a"
   }
  }
 },
 "nbformat": 4,
 "nbformat_minor": 2
}
