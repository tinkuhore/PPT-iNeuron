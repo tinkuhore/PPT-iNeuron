{
 "cells": [
  {
   "cell_type": "code",
   "execution_count": 6,
   "metadata": {},
   "outputs": [],
   "source": [
    "class TreeNode:\n",
    "    def __init__(self, val: int, left: int = None, right: int = None)->None:\n",
    "        self.val = val\n",
    "        self.left = left\n",
    "        self.right = right"
   ]
  },
  {
   "cell_type": "code",
   "execution_count": 7,
   "metadata": {},
   "outputs": [],
   "source": [
    "class PrintTree:\n",
    "    def __init__(self, root: TreeNode):\n",
    "        self.root = root\n",
    "        self.tag()\n",
    "        self.printTree(self.root)\n",
    "        print('\\n\\n')\n",
    "\n",
    "    def tag(self):\n",
    "        print(\"Inorder Traversal:\", end=\" \")\n",
    "\n",
    "    def printTree(self, root):\n",
    "        if not root:\n",
    "            return\n",
    "        \n",
    "        self.printTree(root.left)\n",
    "        print(root.val, end=\" \")\n",
    "        self.printTree(root.right)"
   ]
  },
  {
   "cell_type": "markdown",
   "metadata": {},
   "source": [
    "# 💡 Question-1:"
   ]
  },
  {
   "cell_type": "markdown",
   "metadata": {},
   "source": [
    "Given a Binary Tree (Bt), convert it to a Doubly Linked List(DLL). The left and right pointers in nodes are to be used as previous and next pointers respectively in converted DLL. The order of nodes in DLL must be the same as in Inorder for the given Binary Tree. The first node of Inorder traversal (leftmost node in BT) must be the head node of the DLL.\n",
    "\n",
    "Example:\n",
    "\n",
    "![img](https://pwskills.notion.site/image/https%3A%2F%2Fs3-us-west-2.amazonaws.com%2Fsecure.notion-static.com%2Ff9dda6ae-60b9-427b-990f-dc5b3117a5e3%2FUntitled.png?id=f5542efd-4d64-4904-9259-23aeb80f012b&table=block&spaceId=6fae2e0f-dedc-48e9-bc59-af2654c78209&width=860&userId=&cache=v2)"
   ]
  },
  {
   "cell_type": "code",
   "execution_count": 8,
   "metadata": {},
   "outputs": [],
   "source": [
    "from typing import Optional, List\n",
    "\n",
    "class Solution1:\n",
    "    def __init__(self,):\n",
    "        self.head = None\n",
    "        self.prev = None\n",
    "\n",
    "    def TreeToDLL(self, root: TreeNode)-> None:\n",
    "        if not root: return\n",
    "\n",
    "        self.TreeToDLL(root.left)\n",
    "\n",
    "        if not self.head:\n",
    "            self.head = root\n",
    "        else:\n",
    "            root.left = self.prev\n",
    "            self.prev.right = root\n",
    "\n",
    "        self.prev = root\n",
    "\n",
    "        self.TreeToDLL(root.right)\n",
    "\n",
    "\n",
    "    def flatten(self, root: Optional[TreeNode]) -> TreeNode:\n",
    "        self.TreeToDLL(root)\n",
    "        return self.head"
   ]
  },
  {
   "cell_type": "code",
   "execution_count": 9,
   "metadata": {},
   "outputs": [],
   "source": [
    "root = TreeNode(10)\n",
    "root.left = TreeNode(12)\n",
    "root.right = TreeNode(15)\n",
    "\n",
    "root.left.left = TreeNode(25)\n",
    "root.left.right = TreeNode(30)\n",
    "\n",
    "root.right.left = TreeNode(36)"
   ]
  },
  {
   "cell_type": "code",
   "execution_count": 10,
   "metadata": {},
   "outputs": [
    {
     "name": "stdout",
     "output_type": "stream",
     "text": [
      "Before Flattening: \n",
      "Inorder Traversal: 25 12 30 10 36 15 \n",
      "\n",
      "\n"
     ]
    },
    {
     "data": {
      "text/plain": [
       "<__main__.PrintTree at 0x7f54d8146d60>"
      ]
     },
     "execution_count": 10,
     "metadata": {},
     "output_type": "execute_result"
    }
   ],
   "source": [
    "print(\"Before Flattening: \")\n",
    "PrintTree(root)"
   ]
  },
  {
   "cell_type": "code",
   "execution_count": 11,
   "metadata": {},
   "outputs": [
    {
     "name": "stdout",
     "output_type": "stream",
     "text": [
      "After Flattening\n",
      "25 12 30 10 36 15 "
     ]
    }
   ],
   "source": [
    "head = Solution1().flatten(root)\n",
    "print(\"After Flattening\")\n",
    "# Print the doubly linked list\n",
    "current = head\n",
    "while current:\n",
    "    print(current.val, end=\" \")\n",
    "    current = current.right"
   ]
  },
  {
   "cell_type": "markdown",
   "metadata": {},
   "source": []
  },
  {
   "cell_type": "code",
   "execution_count": null,
   "metadata": {},
   "outputs": [],
   "source": []
  }
 ],
 "metadata": {
  "kernelspec": {
   "display_name": "Python 3.8.10 64-bit",
   "language": "python",
   "name": "python3"
  },
  "language_info": {
   "codemirror_mode": {
    "name": "ipython",
    "version": 3
   },
   "file_extension": ".py",
   "mimetype": "text/x-python",
   "name": "python",
   "nbconvert_exporter": "python",
   "pygments_lexer": "ipython3",
   "version": "3.8.10"
  },
  "orig_nbformat": 4,
  "vscode": {
   "interpreter": {
    "hash": "e7370f93d1d0cde622a1f8e1c04877d8463912d04d973331ad4851f04de6915a"
   }
  }
 },
 "nbformat": 4,
 "nbformat_minor": 2
}
