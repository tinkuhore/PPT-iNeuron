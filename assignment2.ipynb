{
 "cells": [
  {
   "cell_type": "code",
   "execution_count": 2,
   "metadata": {},
   "outputs": [],
   "source": [
    "from typing import List\n",
    "from collections import Counter\n",
    "\n"
   ]
  },
  {
   "attachments": {},
   "cell_type": "markdown",
   "metadata": {},
   "source": [
    "# 💡 **Question 1**\n",
    "\n",
    "Given an integer array nums of 2n integers, group these integers into n pairs (a1, b1), (a2, b2),..., (an, bn) such that the sum of min(ai, bi) for all i is maximized. Return the maximized sum.\n",
    "\n",
    "**Example 1:**\n",
    "\n",
    "Input: nums = [1,4,3,2]\n",
    "\n",
    "Output: 4\n",
    "\n",
    "**Explanation:** \n",
    "\n",
    "All possible pairings (ignoring the ordering of elements) are:\n",
    "\n",
    "1. (1, 4), (2, 3) -> min(1, 4) + min(2, 3) = 1 + 2 = 3\n",
    "\n",
    "2. (1, 3), (2, 4) -> min(1, 3) + min(2, 4) = 1 + 2 = 3\n",
    "\n",
    "3. (1, 2), (3, 4) -> min(1, 2) + min(3, 4) = 1 + 3 = 4\n",
    "\n",
    "So the maximum possible sum is 4"
   ]
  },
  {
   "cell_type": "code",
   "execution_count": null,
   "metadata": {},
   "outputs": [],
   "source": [
    "class Solution1:\n",
    "    def arrayPairSum(self, nums: List[int]) -> int:\n",
    "        nums.sort()\n",
    "        return sum(nums[0::2])"
   ]
  },
  {
   "cell_type": "code",
   "execution_count": null,
   "metadata": {},
   "outputs": [],
   "source": [
    "nums = [1,4,3,2]\n",
    "\n",
    "Solution1().arrayPairSum(nums)"
   ]
  },
  {
   "attachments": {},
   "cell_type": "markdown",
   "metadata": {},
   "source": [
    "# **Question 2**\n",
    "\n",
    "Alice has n candies, where the ith candy is of type candyType[i]. \n",
    "\n",
    "Alice noticed that she started to gain weight, so she visited a doctor. \n",
    "\n",
    "The doctor advised Alice to only eat n / 2 of the candies she has (n is always even). \n",
    "\n",
    "Alice likes her candies very much, and she wants to eat the maximum number of different types of candies while still following the doctor's advice. \n",
    "\n",
    "Given the integer array candyType of length n, return the maximum number of different types of candies she can eat if she only eats n / 2 of them.\n",
    "\n",
    "**Example 1:**\n",
    "\n",
    "Input: candyType = [1,1,2,2,3,3]\n",
    "\n",
    "Output: 3\n",
    "\n",
    "**Explanation:**\n",
    "\n",
    "Alice can only eat 6 / 2 = 3 candies. Since there are only 3 types, she can eat one of each type."
   ]
  },
  {
   "cell_type": "code",
   "execution_count": null,
   "metadata": {},
   "outputs": [],
   "source": [
    "class Solution2:\n",
    "    def distributeCandies(self, candyType: List[int]) -> int:\n",
    "        if int(len(candyType)/2) < len(set(candyType)):\n",
    "            return int(len(candyType)/2)\n",
    "        else:\n",
    "            return len(set(candyType))"
   ]
  },
  {
   "cell_type": "code",
   "execution_count": null,
   "metadata": {},
   "outputs": [],
   "source": [
    "candyType = [1,1,2,2,3,3]\n",
    "\n",
    "Solution2().distributeCandies(candyType=candyType)"
   ]
  },
  {
   "attachments": {},
   "cell_type": "markdown",
   "metadata": {},
   "source": [
    "# **Question 3**\n",
    "\n",
    "We define a harmonious array as an array where the difference between its maximum value\n",
    "and its minimum value is exactly 1.\n",
    "\n",
    "Given an integer array nums, return the length of its longest harmonious subsequence\n",
    "among all its possible subsequences.\n",
    "\n",
    "A subsequence of an array is a sequence that can be derived from the array by deleting some or no elements without changing the order of the remaining elements.\n",
    "\n",
    "**Example 1:**\n",
    "\n",
    "Input: nums = [1,3,2,2,5,2,3,7]\n",
    "\n",
    "Output: 5\n",
    "\n",
    "**Explanation:** \n",
    "\n",
    "The longest harmonious subsequence is [3,2,2,2,3]."
   ]
  },
  {
   "cell_type": "code",
   "execution_count": null,
   "metadata": {},
   "outputs": [],
   "source": [
    "class Solution3:\n",
    "    def findLHS(self, nums: List[int]) -> int:\n",
    "        # when all the elements in nums are same\n",
    "        if len(set(nums)) == 1:\n",
    "            return 0\n",
    "\n",
    "\n",
    "        longest = 0\n",
    "        checked = []\n",
    "\n",
    "        for n in nums:\n",
    "            if n not in checked:\n",
    "                checked.append(n)\n",
    "                if n+1 in nums:\n",
    "                    longest = max(longest, nums.count(n)+nums.count(n+1))\n",
    "                if n-1 in nums:\n",
    "                    longest = max(longest, nums.count(n)+nums.count(n-1))\n",
    "\n",
    "        return longest"
   ]
  },
  {
   "cell_type": "code",
   "execution_count": null,
   "metadata": {},
   "outputs": [],
   "source": [
    "class Solution3:\n",
    "    def findLHS(self, nums: List[int]) -> int:\n",
    "        # when all the elements in nums are same\n",
    "        if len(set(nums)) == 1:\n",
    "            return 0\n",
    "\n",
    "\n",
    "        freq = sorted(dict(Counter(nums)).items(), key = lambda item : item[1], reverse=True)\n",
    "\n",
    "        for i in range(len(freq)):\n",
    "            if abs(freq[i][0] - freq[i+1][0]) == 1:\n",
    "                return freq[i][1]+freq[i+1][1]\n",
    "\n",
    "        return 0\n",
    "\n",
    "        "
   ]
  },
  {
   "cell_type": "code",
   "execution_count": null,
   "metadata": {},
   "outputs": [],
   "source": [
    "class Solution3:\n",
    "    def findLHS(self, nums: List[int]) -> int:\n",
    "        freq = Counter(nums)\n",
    "        max_length = 0\n",
    "\n",
    "        for key in freq.keys():\n",
    "            if key + 1 in freq:\n",
    "                length = freq[key] + freq[key + 1]\n",
    "                max_length = max(max_length, length)\n",
    "\n",
    "        return max_length"
   ]
  },
  {
   "cell_type": "code",
   "execution_count": null,
   "metadata": {},
   "outputs": [],
   "source": [
    "nums =[0,3,0,0,1,1,1,3,1,3,2,3,2,3,-1,0,2,1,0,0,0,1,3,3,-3,3,3,1,3]\n",
    "\n",
    "Solution3().findLHS(nums)"
   ]
  },
  {
   "cell_type": "code",
   "execution_count": null,
   "metadata": {},
   "outputs": [],
   "source": [
    "nums = [-3,-1,-1,-1,-3,-2]\n",
    "Solution3().findLHS(nums)"
   ]
  },
  {
   "attachments": {},
   "cell_type": "markdown",
   "metadata": {},
   "source": [
    "# Question 4\n",
    "\n",
    "You have a long flowerbed in which some of the plots are planted, and some are not.\n",
    "\n",
    "However, flowers cannot be planted in adjacent plots.\n",
    "\n",
    "Given an integer array flowerbed containing 0's and 1's, where 0 means empty and 1 means not empty, and an integer n, return true if n new flowers can be planted in the flowerbed without violating the no-adjacent-flowers rule and false otherwise.\n",
    "\n",
    "Example 1:\n",
    "\n",
    "Input: flowerbed = [1,0,0,0,1], n = 1\n",
    "\n",
    "Output: true"
   ]
  },
  {
   "cell_type": "code",
   "execution_count": 9,
   "metadata": {},
   "outputs": [],
   "source": [
    "class Solution4:\n",
    "    def canPlaceFlowers(self, flowerbed: List[int], n: int) -> bool:\n",
    "        if len(flowerbed) == 1 and flowerbed[0] == 0:\n",
    "            return True if n <= 1 else False\n",
    "\n",
    "\n",
    "        i, count  = 0, 0\n",
    "\n",
    "        while i < len(flowerbed):\n",
    "            if flowerbed[i] == 0:\n",
    "                if i == 0 and flowerbed[i+1] == 0:\n",
    "                    flowerbed[i] = 1\n",
    "                    count += 1\n",
    "                    i += 2\n",
    "\n",
    "                elif i == len(flowerbed) -1 and flowerbed[i-1] == 0:\n",
    "                    flowerbed[i] = 1\n",
    "                    count += 1\n",
    "                    i += 2\n",
    "\n",
    "                elif flowerbed[i-1] == 0 and flowerbed[i+1] == 0:\n",
    "                    flowerbed[i] = 1\n",
    "                    count += 1\n",
    "                    i += 2\n",
    "                else:\n",
    "                    i += 1\n",
    "            else:\n",
    "                i += 1\n",
    "\n",
    "            if count >= n:\n",
    "                return True\n",
    "        \n",
    "        return False"
   ]
  },
  {
   "cell_type": "code",
   "execution_count": 10,
   "metadata": {},
   "outputs": [
    {
     "data": {
      "text/plain": [
       "True"
      ]
     },
     "execution_count": 10,
     "metadata": {},
     "output_type": "execute_result"
    }
   ],
   "source": [
    "flowerbed = [1,0,0,0,1]\n",
    "n = 1\n",
    "\n",
    "Solution4().canPlaceFlowers(flowerbed, n)"
   ]
  },
  {
   "attachments": {},
   "cell_type": "markdown",
   "metadata": {},
   "source": [
    "# Question 5\n",
    "\n",
    "Given an integer array nums, find three numbers whose product is maximum and return the maximum product.\n",
    "\n",
    "**Example 1:**\n",
    "\n",
    "Input: nums = [1,2,3]\n",
    "\n",
    "Output: 6"
   ]
  },
  {
   "cell_type": "code",
   "execution_count": 11,
   "metadata": {},
   "outputs": [],
   "source": [
    "class Solution5:\n",
    "    def maximumProduct(self, nums: List[int]) -> int:\n",
    "        nums.sort()  # Sort the array in ascending order\n",
    "        n = len(nums)\n",
    "        \n",
    "        # Return the maximum of two cases:\n",
    "        # 1. The product of the three largest numbers\n",
    "        # 2. The product of the two smallest numbers and the largest number\n",
    "        return max(nums[n-1] * nums[n-2] * nums[n-3], nums[0] * nums[1] * nums[n-1])"
   ]
  },
  {
   "cell_type": "code",
   "execution_count": 12,
   "metadata": {},
   "outputs": [
    {
     "data": {
      "text/plain": [
       "6"
      ]
     },
     "execution_count": 12,
     "metadata": {},
     "output_type": "execute_result"
    }
   ],
   "source": [
    "nums = [1,2,3]\n",
    "\n",
    "Solution5().maximumProduct(nums)"
   ]
  },
  {
   "attachments": {},
   "cell_type": "markdown",
   "metadata": {},
   "source": [
    "# Question 6\n",
    "\n",
    "Given an array of integers nums which is sorted in ascending order, and an integer target,\n",
    "write a function to search target in nums. \n",
    "\n",
    "If target exists, then return its index. \n",
    "\n",
    "Otherwise,\n",
    "return -1.\n",
    "\n",
    "You must write an algorithm with O(log n) runtime complexity.\n",
    "\n",
    "**Example:**\n",
    "\n",
    "Input: nums = [-1,0,3,5,9,12], target = 9\n",
    "\n",
    "Output: 4\n",
    "\n",
    "**Explanation:** \n",
    "\n",
    "9 exists in nums and its index is 4"
   ]
  },
  {
   "cell_type": "code",
   "execution_count": 13,
   "metadata": {},
   "outputs": [],
   "source": [
    "class Solution6:\n",
    "    def search(self, nums: List[int], target: int) -> int:\n",
    "        l = 0\n",
    "        r = len(nums) - 1\n",
    "\n",
    "        while l <= r:\n",
    "            mid = l + (r - l) // 2\n",
    "\n",
    "            if nums[mid] == target:\n",
    "                return mid\n",
    "            elif nums[mid] < target:\n",
    "                l = mid + 1\n",
    "            else:\n",
    "                r = mid - 1\n",
    "\n",
    "        return -1"
   ]
  },
  {
   "cell_type": "code",
   "execution_count": 14,
   "metadata": {},
   "outputs": [
    {
     "data": {
      "text/plain": [
       "4"
      ]
     },
     "execution_count": 14,
     "metadata": {},
     "output_type": "execute_result"
    }
   ],
   "source": [
    "nums = [-1,0,3,5,9,12]\n",
    "target = 9\n",
    "\n",
    "Solution6().search(nums, target)"
   ]
  },
  {
   "attachments": {},
   "cell_type": "markdown",
   "metadata": {},
   "source": [
    "# Question 7\n",
    "\n",
    "An array is monotonic if it is either monotone increasing or monotone decreasing.\n",
    "\n",
    "An array nums is monotone increasing if for all i <= j, nums[i] <= nums[j]. \n",
    "\n",
    "An array nums is\n",
    "monotone decreasing if for all i <= j, nums[i] >= nums[j].\n",
    "\n",
    "Given an integer array nums, return true if the given array is monotonic, or false otherwise.\n",
    "\n",
    "**Example 1:**\n",
    "\n",
    "Input: nums = [1,2,2,3]\n",
    "\n",
    "Output: true"
   ]
  },
  {
   "cell_type": "code",
   "execution_count": 15,
   "metadata": {},
   "outputs": [],
   "source": [
    "class Solution7:\n",
    "    def isMonotonic(self, nums: List[int]) -> bool:\n",
    "        if len(nums) <= 2:\n",
    "            return True\n",
    "        \n",
    "        is_increasing = nums[0] <= nums[-1]\n",
    "\n",
    "        for i in range(1, len(nums)):\n",
    "            if nums[i] != nums[i - 1]:\n",
    "                if (nums[i] > nums[i - 1]) != is_increasing:\n",
    "                    return False\n",
    "\n",
    "        return True"
   ]
  },
  {
   "cell_type": "code",
   "execution_count": 16,
   "metadata": {},
   "outputs": [
    {
     "data": {
      "text/plain": [
       "True"
      ]
     },
     "execution_count": 16,
     "metadata": {},
     "output_type": "execute_result"
    }
   ],
   "source": [
    "nums = [1,2,2,3]\n",
    "\n",
    "Solution7().isMonotonic(nums)"
   ]
  },
  {
   "attachments": {},
   "cell_type": "markdown",
   "metadata": {},
   "source": [
    "# Question 8\n",
    "\n",
    "You are given an integer array nums and an integer k.\n",
    "\n",
    "In one operation, you can choose any index i where 0 <= i < nums.length and change nums[i] to nums[i] + x where x is an integer from the range [-k, k]. You can apply this operation at most once for each index i.\n",
    "\n",
    "The score of nums is the difference between the maximum and minimum elements in nums.\n",
    "\n",
    "Return the minimum score of nums after applying the mentioned operation at most once for each index in it.\n",
    "\n",
    "**Example 1:**\n",
    "\n",
    "Input: nums = [1], k = 0\n",
    "\n",
    "Output: 0\n",
    "\n",
    "**Explanation:** \n",
    "\n",
    "The score is max(nums) - min(nums) = 1 - 1 = 0."
   ]
  },
  {
   "cell_type": "code",
   "execution_count": 17,
   "metadata": {},
   "outputs": [],
   "source": [
    "class Solution8:\n",
    "    def smallestRangeI(self, nums: List[int], k: int) -> int:\n",
    "        if len(nums) == 1:\n",
    "            return 0\n",
    "\n",
    "        if (max(nums) - k) - (min(nums) + k ) <= 0:\n",
    "            return 0\n",
    "        else:\n",
    "            return (max(nums) - k) - (min(nums) + k )"
   ]
  },
  {
   "cell_type": "code",
   "execution_count": 18,
   "metadata": {},
   "outputs": [
    {
     "data": {
      "text/plain": [
       "0"
      ]
     },
     "execution_count": 18,
     "metadata": {},
     "output_type": "execute_result"
    }
   ],
   "source": [
    "nums = [1]\n",
    "k = 0\n",
    "\n",
    "Solution8().smallestRangeI(nums, k)"
   ]
  },
  {
   "cell_type": "code",
   "execution_count": null,
   "metadata": {},
   "outputs": [],
   "source": []
  }
 ],
 "metadata": {
  "kernelspec": {
   "display_name": "PPT",
   "language": "python",
   "name": "python3"
  },
  "language_info": {
   "codemirror_mode": {
    "name": "ipython",
    "version": 3
   },
   "file_extension": ".py",
   "mimetype": "text/x-python",
   "name": "python",
   "nbconvert_exporter": "python",
   "pygments_lexer": "ipython3",
   "version": "3.10.11"
  },
  "orig_nbformat": 4
 },
 "nbformat": 4,
 "nbformat_minor": 2
}
