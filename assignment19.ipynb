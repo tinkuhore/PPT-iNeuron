{
 "cells": [
  {
   "attachments": {},
   "cell_type": "markdown",
   "metadata": {},
   "source": [
    "# 💡 1. **Merge k Sorted Lists**\n"
   ]
  },
  {
   "attachments": {},
   "cell_type": "markdown",
   "metadata": {},
   "source": [
    "You are given an array of k linked-lists lists, each linked-list is sorted in ascending order.\n",
    "\n",
    "Merge all the linked-lists into one sorted linked-list and return it.\n",
    "\n",
    " \n",
    "\n",
    "Example 1:\n",
    "```\n",
    "Input: lists = [[1,4,5],[1,3,4],[2,6]]\n",
    "Output: [1,1,2,3,4,4,5,6]\n",
    "Explanation: The linked-lists are:\n",
    "[\n",
    "  1->4->5,\n",
    "  1->3->4,\n",
    "  2->6\n",
    "]\n",
    "merging them into one sorted list:\n",
    "1->1->2->3->4->4->5->6\n",
    "```\n",
    "\n",
    "Example 2:\n",
    "```\n",
    "Input: lists = []\n",
    "Output: []\n",
    "```\n",
    "\n",
    "Example 3:\n",
    "```\n",
    "Input: lists = [[]]\n",
    "Output: []\n",
    "``` \n",
    "\n",
    "Constraints:\n",
    "\n",
    "- `k == lists.length`\n",
    "- `0 <= k <= 10^4`\n",
    "- `0 <= lists[i].length <= 500`\n",
    "- `-10^4 <= lists[i][j] <= 10^4`\n",
    "- `lists[i] is sorted in ascending order.`\n",
    "- `The sum of lists[i].length will not exceed 10^4.`"
   ]
  },
  {
   "cell_type": "code",
   "execution_count": 10,
   "metadata": {},
   "outputs": [],
   "source": [
    "# Definition for singly-linked list.\n",
    "from typing import List, Optional\n",
    "\n",
    "\n",
    "class ListNode:\n",
    "    def __init__(self, val=0, next=None):\n",
    "        self.val = val\n",
    "        self.next = next\n",
    "\n",
    "class Solution1:\n",
    "\n",
    "    def mergeKLists(self, lists: List[Optional[ListNode]]) -> Optional[ListNode]:\n",
    "        if not lists: return None\n",
    "        if len(lists) == 1: return lists[0]\n",
    "\n",
    "        values = []\n",
    "        for head in lists:\n",
    "            while head:\n",
    "                values.append(head.val)\n",
    "                head = head.next\n",
    "        if values:\n",
    "            values.sort()\n",
    "            new_head = ListNode(values[0])\n",
    "            curr = new_head\n",
    "            for value in values[1:]:\n",
    "                curr.next = ListNode(value)\n",
    "                curr = curr.next\n",
    "            return new_head\n",
    "        return None"
   ]
  },
  {
   "cell_type": "code",
   "execution_count": 11,
   "metadata": {},
   "outputs": [
    {
     "name": "stdout",
     "output_type": "stream",
     "text": [
      "Linked List 1:\n",
      "1 -> 4 -> 5 -> None\n",
      "Linked List 2:\n",
      "1 -> 3 -> 4 -> 7 -> None\n",
      "Linked List 3:\n",
      "2 -> 6 -> None\n"
     ]
    }
   ],
   "source": [
    "class ListNode:\n",
    "    def __init__(self, val=0, next=None):\n",
    "        self.val = val\n",
    "        self.next = next\n",
    "\n",
    "# Create the first linked list: 1 -> 4 -> 5\n",
    "head1 = ListNode(1)\n",
    "head1.next = ListNode(4)\n",
    "head1.next.next = ListNode(5)\n",
    "\n",
    "# Create the second linked list: 1 -> 3 -> 4 -> 7\n",
    "head2 = ListNode(1)\n",
    "head2.next = ListNode(3)\n",
    "head2.next.next = ListNode(4)\n",
    "head2.next.next.next = ListNode(7)\n",
    "\n",
    "# Create the third linked list: 2 -> 6\n",
    "head3 = ListNode(2)\n",
    "head3.next = ListNode(6)\n",
    "\n",
    "# Function to print a linked list\n",
    "def printLinkedList(head):\n",
    "    current = head\n",
    "    while current:\n",
    "        print(current.val, end=\" -> \")\n",
    "        current = current.next\n",
    "    print(\"None\")\n",
    "\n",
    "# Print the first linked list\n",
    "print(\"Linked List 1:\")\n",
    "printLinkedList(head1)\n",
    "\n",
    "# Print the second linked list\n",
    "print(\"Linked List 2:\")\n",
    "printLinkedList(head2)\n",
    "\n",
    "# Print the third linked list\n",
    "print(\"Linked List 3:\")\n",
    "printLinkedList(head3)\n"
   ]
  },
  {
   "cell_type": "code",
   "execution_count": 12,
   "metadata": {},
   "outputs": [
    {
     "name": "stdout",
     "output_type": "stream",
     "text": [
      "1 -> 1 -> 2 -> 3 -> 4 -> 4 -> 5 -> 6 -> 7 -> None\n"
     ]
    }
   ],
   "source": [
    "new_head = Solution1().mergeKLists([head1, head2, head3])\n",
    "\n",
    "printLinkedList(new_head)"
   ]
  },
  {
   "attachments": {},
   "cell_type": "markdown",
   "metadata": {},
   "source": [
    "# 2. **Count of Smaller Numbers After Self**"
   ]
  },
  {
   "attachments": {},
   "cell_type": "markdown",
   "metadata": {},
   "source": [
    "Given an integer array nums, return an integer array counts where counts[i] is the number of smaller elements to the right of nums[i].\n",
    "\n",
    " \n",
    "\n",
    "Example 1:\n",
    "```\n",
    "Input: nums = [5,2,6,1]\n",
    "Output: [2,1,1,0]\n",
    "Explanation:\n",
    "To the right of 5 there are 2 smaller elements (2 and 1).\n",
    "To the right of 2 there is only 1 smaller element (1).\n",
    "To the right of 6 there is 1 smaller element (1).\n",
    "To the right of 1 there is 0 smaller element.\n",
    "```\n",
    "Example 2:\n",
    "```\n",
    "Input: nums = [-1]\n",
    "Output: [0]\n",
    "```\n",
    "Example 3:\n",
    "```\n",
    "Input: nums = [-1,-1]\n",
    "Output: [0,0]\n",
    "```\n",
    " \n",
    "\n",
    "Constraints:\n",
    "\n",
    "- `1 <= nums.length <= 10^5`\n",
    "- `-10^4 <= nums[i] <= 10^4`"
   ]
  },
  {
   "cell_type": "code",
   "execution_count": 13,
   "metadata": {},
   "outputs": [],
   "source": [
    "class Solution2:\n",
    "    def countSmaller(self, nums: List[int]) -> List[int]:\n",
    "        counts = [0] * len(nums)\n",
    "        stack = []\n",
    "        for i in range(len(nums) - 1, -1, -1):\n",
    "            while stack and nums[stack[-1]] < nums[i]:\n",
    "                counts[i] += 1\n",
    "                stack.pop()\n",
    "            stack.append(i)\n",
    "        return counts"
   ]
  },
  {
   "cell_type": "code",
   "execution_count": 17,
   "metadata": {},
   "outputs": [],
   "source": [
    "class Solution2:\n",
    "    def merge(self, left: Optional[List[int]], right: Optional[List[int]])-> Optional[List[int]]:\n",
    "        i, j = 0, 0\n",
    "        cnt = 0\n",
    "        m, n = len(left), len(right)\n",
    "        sorted_arr = []\n",
    "        \n",
    "        while i < m and j < n:\n",
    "            if left[i][1] > right[j][1]:\n",
    "                cnt += 1\n",
    "                sorted_arr.append(right[j])\n",
    "                j += 1\n",
    "            else:\n",
    "                sorted_arr.append(left[i])\n",
    "                self.ans[left[i][0]] += cnt\n",
    "                i += 1\n",
    "        \n",
    "        while i < m:\n",
    "            sorted_arr.append(left[i])\n",
    "            self.ans[left[i][0]] += cnt\n",
    "            i += 1\n",
    "        \n",
    "        while j < n:\n",
    "            sorted_arr.append(right[j])\n",
    "            cnt += 1\n",
    "            j += 1\n",
    "        \n",
    "        return sorted_arr\n",
    "    \n",
    "    def split(self, nums: Optional[List[int]])-> Optional[List[int]]:\n",
    "        if len(nums) == 1:\n",
    "            return nums\n",
    "        mid = (len(nums)) // 2\n",
    "        left, right = self.split(nums[:mid]), self.split(nums[mid:])\n",
    "        return self.merge(left, right)\n",
    "\n",
    "    def countSmaller(self, nums: List[int]) -> List[int]:\n",
    "        # code here\n",
    "        self.ans = [0 for _ in range(len(nums))]\n",
    "        nums = []\n",
    "        for i, num in enumerate(nums):\n",
    "            nums.append((i, num))\n",
    "        sorted_arr = self.split(nums)\n",
    "\n",
    "        return self.ans"
   ]
  },
  {
   "cell_type": "code",
   "execution_count": 21,
   "metadata": {},
   "outputs": [],
   "source": [
    "from array import array\n",
    "from bisect import bisect_left\n",
    "\n",
    "class Solution2:    \n",
    "    def countSmaller(self, nums: List[int]) -> List[int]:\n",
    "            n = len(nums)\n",
    "            ans = array('i', bytes(len(nums) << 2))\n",
    "            sorted = array('h')\n",
    "\n",
    "            for i in range(n-1, -1,-1):\n",
    "                num = nums[i]\n",
    "                count = bisect_left(sorted, num)\n",
    "                ans[i] = count\n",
    "                sorted.insert(count, num)\n",
    "            return ans"
   ]
  },
  {
   "cell_type": "code",
   "execution_count": 23,
   "metadata": {},
   "outputs": [
    {
     "data": {
      "text/plain": [
       "array('i', [5, 1, 4, 2, 1, 1, 0])"
      ]
     },
     "execution_count": 23,
     "metadata": {},
     "output_type": "execute_result"
    }
   ],
   "source": [
    "nums = [5,2,6,3,2,4,1]\n",
    "\n",
    "Solution2().countSmaller(nums)"
   ]
  },
  {
   "attachments": {},
   "cell_type": "markdown",
   "metadata": {},
   "source": [
    "# 3. **Sort an Array**"
   ]
  },
  {
   "attachments": {},
   "cell_type": "markdown",
   "metadata": {},
   "source": [
    "Given an array of integers nums, sort the array in ascending order and return it.\n",
    "\n",
    "You must solve the problem without using any built-in functions in O(nlog(n)) time complexity and with the smallest space complexity possible.\n",
    "\n",
    " \n",
    "\n",
    "Example 1:\n",
    "```\n",
    "Input: nums = [5,2,3,1]\n",
    "Output: [1,2,3,5]\n",
    "Explanation: After sorting the array, the positions of some numbers are not changed (for example, 2 and 3), while the positions of other numbers are changed (for example, 1 and 5).\n",
    "```\n",
    "Example 2:\n",
    "```\n",
    "Input: nums = [5,1,1,2,0,0]\n",
    "Output: [0,0,1,1,2,5]\n",
    "Explanation: Note that the values of nums are not necessairly unique.\n",
    "``` \n",
    "\n",
    "Constraints:\n",
    "\n",
    "- `1 <= nums.length <= 5 * 104`\n",
    "- `-5 * 104 <= nums[i] <= 5 * 104`"
   ]
  },
  {
   "cell_type": "code",
   "execution_count": 24,
   "metadata": {},
   "outputs": [],
   "source": [
    "import heapq\n",
    "class Solution3:\n",
    "    def sortArray(self, nums: List[int]) -> List[int]:\n",
    "        heapq.heapify(nums)\n",
    "        res=[]\n",
    "        while nums:\n",
    "            res.append(heapq.heappop(nums))\n",
    "        return res\n"
   ]
  },
  {
   "cell_type": "code",
   "execution_count": 25,
   "metadata": {},
   "outputs": [],
   "source": [
    "class Solution3:\n",
    "    def merge_(self, left: List[int], right: List[int]) -> List[int]:\n",
    "        merged = []\n",
    "\n",
    "        while left and right:\n",
    "            if left[0] <= right[0]:\n",
    "                merged.append(left.pop(0))\n",
    "            else:\n",
    "                merged.append(right.pop(0))\n",
    "\n",
    "        # Append remaining elements from the left or right subarray\n",
    "        if left: merged += left\n",
    "\n",
    "        if right: merged += right\n",
    "\n",
    "        return merged\n",
    "\n",
    "    def sortArray(self, arr: List[int]) -> List[int]:\n",
    "        if len(arr) <= 1:\n",
    "            return arr\n",
    "\n",
    "        mid = len(arr) // 2\n",
    "        left_half = arr[:mid]\n",
    "        right_half = arr[mid:]\n",
    "\n",
    "        left_half = self.sortArray(left_half)\n",
    "        right_half = self.sortArray(right_half)\n",
    "\n",
    "        return self.merge_(left_half, right_half)"
   ]
  },
  {
   "cell_type": "code",
   "execution_count": 26,
   "metadata": {},
   "outputs": [
    {
     "data": {
      "text/plain": [
       "[0, 0, 1, 2, 2, 3, 9, 88]"
      ]
     },
     "execution_count": 26,
     "metadata": {},
     "output_type": "execute_result"
    }
   ],
   "source": [
    "nums = [2,1,3,88,2,0,9,0]\n",
    "\n",
    "Solution3().sortArray(nums)"
   ]
  },
  {
   "attachments": {},
   "cell_type": "markdown",
   "metadata": {},
   "source": [
    "# 4. **Move all zeroes to end of array**"
   ]
  },
  {
   "attachments": {},
   "cell_type": "markdown",
   "metadata": {},
   "source": [
    "Given an integer array nums, move all 0's to the end of it while maintaining the relative order of the non-zero elements.\n",
    "\n",
    "Note that you must do this in-place without making a copy of the array.\n",
    "\n",
    " \n",
    "\n",
    "Example 1:\n",
    "```\n",
    "Input: nums = [0,1,0,3,12]\n",
    "Output: [1,3,12,0,0]\n",
    "```\n",
    "Example 2:\n",
    "```\n",
    "Input: nums = [0]\n",
    "Output: [0]\n",
    "``` \n",
    "\n",
    "Constraints:\n",
    "\n",
    "- `1 <= nums.length <= 104`\n",
    "- `-231 <= nums[i] <= 231 - 1`"
   ]
  },
  {
   "cell_type": "code",
   "execution_count": 27,
   "metadata": {},
   "outputs": [],
   "source": [
    "class Solution4:\n",
    "    def moveZeroes(self, nums: List[int]) -> None:\n",
    "        \"\"\"\n",
    "        Do not return anything, modify nums in-place instead.\n",
    "        \"\"\"\n",
    "        z = nums.count(0)\n",
    "        if z:\n",
    "            p = 0\n",
    "            while p < len(nums) - z:\n",
    "                if nums[p] == 0:\n",
    "                    nums.pop(p)\n",
    "                    nums.append(0)\n",
    "                else:\n",
    "                    p += 1"
   ]
  },
  {
   "cell_type": "code",
   "execution_count": 28,
   "metadata": {},
   "outputs": [],
   "source": [
    "class Solution4:\n",
    "    def moveZeroes(self, nums: List[int]) -> None:\n",
    "        \"\"\"\n",
    "        Do not return anything, modify nums in-place instead.\n",
    "        \"\"\"\n",
    "        z = nums.count(0)\n",
    "        if z:\n",
    "            while 0 in nums:\n",
    "                nums.remove(0)\n",
    "        return nums.extend([0]*z)"
   ]
  },
  {
   "cell_type": "code",
   "execution_count": 29,
   "metadata": {},
   "outputs": [
    {
     "data": {
      "text/plain": [
       "[1, 3, 12, 0, 0]"
      ]
     },
     "execution_count": 29,
     "metadata": {},
     "output_type": "execute_result"
    }
   ],
   "source": [
    "nums = [0,1,0,3,12]\n",
    "\n",
    "Solution4().moveZeroes(nums)\n",
    "\n",
    "nums"
   ]
  },
  {
   "attachments": {},
   "cell_type": "markdown",
   "metadata": {},
   "source": [
    "# 5. **Rearrange array in alternating positive & negative items with O(1) extra space**"
   ]
  },
  {
   "attachments": {},
   "cell_type": "markdown",
   "metadata": {},
   "source": [
    "You are given a 0-indexed integer array nums of even length consisting of an equal number of positive and negative integers.\n",
    "\n",
    "You should rearrange the elements of nums such that the modified array follows the given conditions:\n",
    "\n",
    "Every consecutive pair of integers have opposite signs.\n",
    "For all integers with the same sign, the order in which they were present in nums is preserved.\n",
    "The rearranged array begins with a positive integer.\n",
    "Return the modified array after rearranging the elements to satisfy the aforementioned conditions.\n",
    "\n",
    " \n",
    "\n",
    "Example 1:\n",
    "```\n",
    "Input: nums = [3,1,-2,-5,2,-4]\n",
    "Output: [3,-2,1,-5,2,-4]\n",
    "Explanation:\n",
    "The positive integers in nums are [3,1,2]. The negative integers are [-2,-5,-4].\n",
    "The only possible way to rearrange them such that they satisfy all conditions is [3,-2,1,-5,2,-4].\n",
    "Other ways such as [1,-2,2,-5,3,-4], [3,1,2,-2,-5,-4], [-2,3,-5,1,-4,2] are incorrect because they do not satisfy one or more conditions. \n",
    "``` \n",
    "Example 2:\n",
    "```\n",
    "Input: nums = [-1,1]\n",
    "Output: [1,-1]\n",
    "Explanation:\n",
    "1 is the only positive integer and -1 the only negative integer in nums.\n",
    "So nums is rearranged to [1,-1].\n",
    "``` \n",
    "\n",
    "Constraints:\n",
    "\n",
    "- `2 <= nums.length <= 2 * 105`\n",
    "- `nums.length is even`\n",
    "- `1 <= |nums[i]| <= 105`\n",
    "- `nums consists of equal number of positive and negative integers.`"
   ]
  },
  {
   "cell_type": "code",
   "execution_count": 30,
   "metadata": {},
   "outputs": [],
   "source": [
    "class Solution5:\n",
    "    def rearrangeArray(self, nums: List[int]) -> List[int]:\n",
    "        ans = array('i', bytes(len(nums)<<2))\n",
    "        even = 0\n",
    "        odd = 1\n",
    "\n",
    "        for num in nums:\n",
    "            if num < 0:\n",
    "                ans[odd] = num\n",
    "                odd += 2\n",
    "            else:\n",
    "                ans[even] = num\n",
    "                even += 2\n",
    "\n",
    "        return ans\n"
   ]
  },
  {
   "cell_type": "code",
   "execution_count": 31,
   "metadata": {},
   "outputs": [
    {
     "data": {
      "text/plain": [
       "array('i', [3, -2, 1, -5, 2, -4])"
      ]
     },
     "execution_count": 31,
     "metadata": {},
     "output_type": "execute_result"
    }
   ],
   "source": [
    "nums = [3,1,-2,-5,2,-4]\n",
    "\n",
    "Solution5().rearrangeArray(nums)"
   ]
  },
  {
   "cell_type": "code",
   "execution_count": 32,
   "metadata": {},
   "outputs": [
    {
     "data": {
      "text/plain": [
       "array('i', [9, -2, 4, -1, 5, -5, 0, -3, 2])"
      ]
     },
     "execution_count": 32,
     "metadata": {},
     "output_type": "execute_result"
    }
   ],
   "source": [
    "nums = [9, 4, -2, -1, 5, 0, -5, -3, 2]\n",
    "\n",
    "Solution5().rearrangeArray(nums)"
   ]
  },
  {
   "attachments": {},
   "cell_type": "markdown",
   "metadata": {},
   "source": [
    "# 6. **Merge two sorted arrays**"
   ]
  },
  {
   "attachments": {},
   "cell_type": "markdown",
   "metadata": {},
   "source": [
    "You are given two integer arrays nums1 and nums2, sorted in non-decreasing order, and two integers m and n, representing the number of elements in nums1 and nums2 respectively.\n",
    "\n",
    "Merge nums1 and nums2 into a single array sorted in non-decreasing order.\n",
    "\n",
    "The final sorted array should not be returned by the function, but instead be stored inside the array nums1. To accommodate this, nums1 has a length of m + n, where the first m elements denote the elements that should be merged, and the last n elements are set to 0 and should be ignored. nums2 has a length of n.\n",
    "\n",
    " \n",
    "\n",
    "Example 1:\n",
    "```\n",
    "Input: nums1 = [1,2,3,0,0,0], m = 3, nums2 = [2,5,6], n = 3\n",
    "Output: [1,2,2,3,5,6]\n",
    "Explanation: The arrays we are merging are [1,2,3] and [2,5,6].\n",
    "The result of the merge is [1,2,2,3,5,6] with the underlined elements coming from nums1.\n",
    "```\n",
    "Example 2:\n",
    "```\n",
    "Input: nums1 = [1], m = 1, nums2 = [], n = 0\n",
    "Output: [1]\n",
    "Explanation: The arrays we are merging are [1] and [].\n",
    "The result of the merge is [1].\n",
    "```\n",
    "Example 3:\n",
    "```\n",
    "Input: nums1 = [0], m = 0, nums2 = [1], n = 1\n",
    "Output: [1]\n",
    "Explanation: The arrays we are merging are [] and [1].\n",
    "The result of the merge is [1].\n",
    "Note that because m = 0, there are no elements in nums1. The 0 is only there to ensure the merge result can fit in nums1.\n",
    "``` \n",
    "\n",
    "Constraints:\n",
    "\n",
    "- `nums1.length == m + n`\n",
    "- `nums2.length == n`\n",
    "- `0 <= m, n <= 200`\n",
    "- `1 <= m + n <= 200`\n",
    "- `-10^9 <= nums1[i], nums2[j] <= 10^9`\n",
    " \n",
    "\n",
    "Follow up: Can you come up with an algorithm that runs in O(m + n) time?"
   ]
  },
  {
   "cell_type": "code",
   "execution_count": 33,
   "metadata": {},
   "outputs": [],
   "source": [
    "class Solution6:\n",
    "    def merge(self, nums1: List[int], m: int, nums2: List[int], n: int) -> None:\n",
    "        \"\"\"\n",
    "        Do not return anything, modify nums1 in-place instead.\n",
    "        \"\"\"\n",
    "        # Initialize pointers for nums1, nums2, and the merged array\n",
    "        p1 = m - 1\n",
    "        p2 = n - 1\n",
    "        p = m + n - 1\n",
    "\n",
    "        # Merge nums1 and nums2 from the end\n",
    "        while p1 >= 0 and p2 >= 0:\n",
    "            if nums1[p1] >= nums2[p2]:\n",
    "                nums1[p] = nums1[p1]\n",
    "                p1 -= 1\n",
    "            else:\n",
    "                nums1[p] = nums2[p2]\n",
    "                p2 -= 1\n",
    "            p -= 1\n",
    "\n",
    "        # Copy remaining elements from nums2 to nums1 (if any)\n",
    "        while p2 >= 0:\n",
    "            nums1[p] = nums2[p2]\n",
    "            p2 -= 1\n",
    "            p -= 1"
   ]
  },
  {
   "cell_type": "code",
   "execution_count": 34,
   "metadata": {},
   "outputs": [
    {
     "data": {
      "text/plain": [
       "[1, 2, 2, 3, 5, 6]"
      ]
     },
     "execution_count": 34,
     "metadata": {},
     "output_type": "execute_result"
    }
   ],
   "source": [
    "nums1 = [1,2,3,0,0,0]\n",
    "m = 3\n",
    "nums2 = [2,5,6]\n",
    "n = 3\n",
    "\n",
    "Solution6().merge(nums1, m, nums2, n)\n",
    "\n",
    "nums1"
   ]
  },
  {
   "attachments": {},
   "cell_type": "markdown",
   "metadata": {},
   "source": [
    "# 7. **Intersection of Two Arrays**"
   ]
  },
  {
   "attachments": {},
   "cell_type": "markdown",
   "metadata": {},
   "source": [
    "Given two integer arrays nums1 and nums2, return an array of their intersection. Each element in the result must be unique and you may return the result in any order.\n",
    "\n",
    " \n",
    "\n",
    "Example 1:\n",
    "```\n",
    "Input: nums1 = [1,2,2,1], nums2 = [2,2]\n",
    "Output: [2]\n",
    "```\n",
    "Example 2:\n",
    "```\n",
    "Input: nums1 = [4,9,5], nums2 = [9,4,9,8,4]\n",
    "Output: [9,4]\n",
    "Explanation: [4,9] is also accepted.\n",
    "``` \n",
    "\n",
    "Constraints:\n",
    "\n",
    "- `1 <= nums1.length, nums2.length <= 1000`\n",
    "- `0 <= nums1[i], nums2[i] <= 1000`"
   ]
  },
  {
   "cell_type": "code",
   "execution_count": 35,
   "metadata": {},
   "outputs": [],
   "source": [
    "class Solution7:\n",
    "    def intersection(self, nums1: List[int], nums2: List[int]) -> List[int]:\n",
    "        return list(set(nums1).intersection(set(nums2)))"
   ]
  },
  {
   "cell_type": "code",
   "execution_count": 36,
   "metadata": {},
   "outputs": [
    {
     "data": {
      "text/plain": [
       "[9, 4]"
      ]
     },
     "execution_count": 36,
     "metadata": {},
     "output_type": "execute_result"
    }
   ],
   "source": [
    "nums1 = [4,9,5]\n",
    "nums2 = [9,4,9,8,4]\n",
    "\n",
    "Solution7().intersection(nums1,nums2)"
   ]
  },
  {
   "attachments": {},
   "cell_type": "markdown",
   "metadata": {},
   "source": [
    "# 8. **Intersection of Two Arrays II**"
   ]
  },
  {
   "attachments": {},
   "cell_type": "markdown",
   "metadata": {},
   "source": [
    "Given two integer arrays nums1 and nums2, return an array of their intersection. Each element in the result must appear as many times as it shows in both arrays and you may return the result in any order.\n",
    "\n",
    " \n",
    "\n",
    "Example 1:\n",
    "```\n",
    "Input: nums1 = [1,2,2,1], nums2 = [2,2]\n",
    "Output: [2,2]\n",
    "```\n",
    "Example 2:\n",
    "```\n",
    "Input: nums1 = [4,9,5], nums2 = [9,4,9,8,4]\n",
    "Output: [4,9]\n",
    "Explanation: [9,4] is also accepted.\n",
    "``` \n",
    "\n",
    "Constraints:\n",
    "\n",
    "- `1 <= nums1.length, nums2.length <= 1000`\n",
    "- `0 <= nums1[i], nums2[i] <= 1000`"
   ]
  },
  {
   "cell_type": "code",
   "execution_count": 37,
   "metadata": {},
   "outputs": [],
   "source": [
    "from collections import Counter\n",
    "from typing import List\n",
    "\n",
    "class Solution8:\n",
    "    def intersect(self, nums1: List[int], nums2: List[int]) -> List[int]:\n",
    "        nums1.sort()\n",
    "        nums2.sort()\n",
    "        \n",
    "        result = []\n",
    "        i, j = 0, 0\n",
    "        \n",
    "        while i < len(nums1) and j < len(nums2):\n",
    "            if nums1[i] == nums2[j]:\n",
    "                result.append(nums1[i])\n",
    "                i += 1\n",
    "                j += 1\n",
    "            elif nums1[i] < nums2[j]:\n",
    "                i += 1\n",
    "            else:\n",
    "                j += 1\n",
    "        \n",
    "        return result\n"
   ]
  },
  {
   "cell_type": "code",
   "execution_count": 39,
   "metadata": {},
   "outputs": [
    {
     "data": {
      "text/plain": [
       "[4, 9, 9]"
      ]
     },
     "execution_count": 39,
     "metadata": {},
     "output_type": "execute_result"
    }
   ],
   "source": [
    "nums1 = [4,9,5, 9]\n",
    "nums2 = [9,4,9,8,4]\n",
    "\n",
    "Solution8().intersect(nums1,nums2)"
   ]
  },
  {
   "cell_type": "code",
   "execution_count": null,
   "metadata": {},
   "outputs": [],
   "source": []
  }
 ],
 "metadata": {
  "kernelspec": {
   "display_name": "PPT",
   "language": "python",
   "name": "python3"
  },
  "language_info": {
   "codemirror_mode": {
    "name": "ipython",
    "version": 3
   },
   "file_extension": ".py",
   "mimetype": "text/x-python",
   "name": "python",
   "nbconvert_exporter": "python",
   "pygments_lexer": "ipython3",
   "version": "3.10.11"
  },
  "orig_nbformat": 4
 },
 "nbformat": 4,
 "nbformat_minor": 2
}
