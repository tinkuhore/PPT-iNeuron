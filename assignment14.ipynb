{
 "cells": [
  {
   "cell_type": "code",
   "execution_count": 2,
   "metadata": {},
   "outputs": [],
   "source": [
    "class ListNode:\n",
    "    def __init__(self, val=0, next=None, bottom=None,):\n",
    "        self.val = val\n",
    "        self.next = next\n",
    "        self.bottom = bottom\n",
    "\n",
    "\n",
    "def printLinkedList(head):\n",
    "    current = head\n",
    "    while current is not None:\n",
    "        print(current.val, end=\" -> \")\n",
    "        current = current.next\n",
    "    print(\"None\")\n",
    "\n",
    "def printLinkedListWithLoop(head):\n",
    "    # Check if the linked list is empty\n",
    "    if not head:\n",
    "        print(\"Empty linked list\")\n",
    "        return\n",
    "\n",
    "    # Create a set to track visited nodes\n",
    "    visited = set()\n",
    "\n",
    "    # Print the nodes before the loop\n",
    "    current = head\n",
    "    while current:\n",
    "        # Check if the current node has been visited before\n",
    "        if current in visited:\n",
    "            print(\"(loop)\", end=\" -> \")\n",
    "            break\n",
    "\n",
    "        visited.add(current)\n",
    "        print(current.val, end=\" -> \")\n",
    "        current = current.next\n",
    "\n",
    "    # Print the nodes within the loop\n",
    "    if current:\n",
    "        loop_start = current.val\n",
    "        # while current.next.val != loop_start:\n",
    "        #     print(current.val, end=\" -> \")\n",
    "        #     current = current.next\n",
    "            \n",
    "        print(loop_start, end=\"\")\n",
    "\n",
    "    else:\n",
    "        print(None)  # If no loop found\n",
    "        \n",
    "    print() # Print a new line after printing the linked list\n",
    "\n"
   ]
  },
  {
   "attachments": {},
   "cell_type": "markdown",
   "metadata": {},
   "source": [
    "# Question 1\n",
    "\n",
    "Given a linked list of N nodes such that it may contain a loop.\n",
    "\n",
    "A loop here means that the last ListNode of the link list is connected to the node at position X(1-based index). If the link list does not have any loop, X=0.\n",
    "\n",
    "Remove the loop from the linked list, if it is present, i.e. unlink the last node which is forming the loop.\n",
    "\n",
    "\n",
    "Example 1:\n",
    "\n",
    "Input:\n",
    "N = 3\n",
    "value[] = {1,3,4}\n",
    "X = 2\n",
    "Output: 1\n",
    "Explanation: The link list looks like\n",
    "1 -> 3 -> 4\n",
    "     ^    |\n",
    "     |____|    \n",
    "A loop is present. If you remove it \n",
    "successfully, the answer will be 1. \n",
    "\n",
    "Example 2:\n",
    "\n",
    "Input:\n",
    "N = 4\n",
    "value[] = {1,8,3,4}\n",
    "X = 0\n",
    "Output: 1\n",
    "Explanation: The Linked list does not \n",
    "contains any loop. \n",
    "\n",
    "Example 3:\n",
    "\n",
    "Input:\n",
    "N = 4\n",
    "value[] = {1,2,3,4}\n",
    "X = 1\n",
    "Output: 1\n",
    "Explanation: The link list looks like \n",
    "1 -> 2 -> 3 -> 4\n",
    "^              |\n",
    "|______________|\n",
    "A loop is present. \n",
    "If you remove it successfully, \n",
    "the answer will be 1. \n",
    "\n",
    "Your Task:\n",
    "You don't need to read input or print anything. Your task is to complete the function removeLoop() which takes the head of the linked list as the input parameter. Simply remove the loop in the list (if present) without disconnecting any ListNodes from the list.\n",
    "Note: The generated output will be 1 if your submitted code is correct.\n",
    "\n",
    "\n",
    "Expected time complexity: O(N)\n",
    "Expected auxiliary space: O(1)\n",
    "\n",
    "\n",
    "Constraints:\n",
    "1 ≤ N ≤ 10^4"
   ]
  },
  {
   "cell_type": "code",
   "execution_count": 2,
   "metadata": {},
   "outputs": [],
   "source": [
    "class Solution1:\n",
    "    #Function to remove a loop in the linked list.\n",
    "    def removeLoop(self, head: ListNode)->ListNode:\n",
    "        slow = head\n",
    "        fast = head\n",
    "        \n",
    "        while fast and fast.next:\n",
    "            slow = slow.next\n",
    "            fast = fast.next.next\n",
    "            \n",
    "            if slow == fast:\n",
    "                # found a loop\n",
    "                slow = head\n",
    "                \n",
    "                while slow != fast:\n",
    "                    slow = slow.next\n",
    "                    fast = fast.next\n",
    "                    \n",
    "                last = slow.next\n",
    "                \n",
    "                while last.next != slow:\n",
    "                    last= last.next\n",
    "                    \n",
    "                last.next = None\n",
    "                \n",
    "        return head"
   ]
  },
  {
   "cell_type": "code",
   "execution_count": 3,
   "metadata": {},
   "outputs": [
    {
     "name": "stdout",
     "output_type": "stream",
     "text": [
      "Linked list with a loop\n",
      "1 -> 2 -> 3 -> 4 -> 5 -> 6 -> 7 -> 8 -> 9 -> 10 -> (loop) -> 4\n",
      "After removing the loop\n",
      "1 -> 2 -> 3 -> 4 -> 5 -> 6 -> 7 -> 8 -> 9 -> 10 -> None\n",
      "\n"
     ]
    }
   ],
   "source": [
    "values = [1, 2, 3, 4, 5, 6, 7, 8, 9, 10]\n",
    "nodes = [ListNode(i) for i in values]\n",
    "\n",
    "for i in range(len(values)):\n",
    "    nodes[i].next = nodes[i+1] if i < 9 else None\n",
    "\n",
    "# printLinkedList(nodes[0])\n",
    "\n",
    "# creat a loop\n",
    "nodes[-1].next = nodes[3]\n",
    "print(\"Linked list with a loop\")\n",
    "printLinkedListWithLoop(nodes[0])\n",
    "\n",
    "# remove the loop\n",
    "new_head = Solution1().removeLoop(nodes[0])\n",
    "print(\"After removing the loop\")\n",
    "printLinkedListWithLoop(new_head)"
   ]
  },
  {
   "attachments": {},
   "cell_type": "markdown",
   "metadata": {},
   "source": [
    "#  💡 **Question 2**\n",
    "\n",
    "A number **N** is represented in Linked List such that each digit corresponds to a node in linked list. You need to add 1 to it.\n",
    "\n",
    "**Example 1:**\n",
    "\n",
    "```\n",
    "Input:\n",
    "LinkedList: 4->5->6\n",
    "Output:457\n",
    "\n",
    "```\n",
    "\n",
    "**Example 2:**\n",
    "\n",
    "```\n",
    "Input:\n",
    "LinkedList: 1->2->3\n",
    "Output:124\n",
    "```"
   ]
  },
  {
   "cell_type": "code",
   "execution_count": 4,
   "metadata": {},
   "outputs": [],
   "source": [
    "class Solution2:\n",
    "    def reverse(self, head: ListNode)-> ListNode:\n",
    "        prev = None\n",
    "        curr = head\n",
    "\n",
    "        while curr:\n",
    "            next_node = curr.next\n",
    "            curr.next = prev\n",
    "            prev = curr\n",
    "            curr = next_node\n",
    "\n",
    "        return prev\n",
    "\n",
    "    def addOne(self, head: ListNode)-> ListNode:\n",
    "        head = self.reverse(head)\n",
    "        p1 = head\n",
    "\n",
    "        summ = int(p1.val) + 1\n",
    "        carry = summ//10\n",
    "        p1.val = summ%10\n",
    "        p1 = p1.next\n",
    "\n",
    "        while carry and p1:\n",
    "            summ = int(p1.val) + carry\n",
    "            if summ>9:\n",
    "                carry = summ//10\n",
    "                p1.val = summ%10              \n",
    "                \n",
    "            else:\n",
    "                carry = 0\n",
    "                p1.val = summ\n",
    "            p1 = p1.next\n",
    "\n",
    "        if carry:\n",
    "            p1.next = ListNode(carry)\n",
    "            p1.next.next = None\n",
    "\n",
    "        return self.reverse(head)"
   ]
  },
  {
   "cell_type": "code",
   "execution_count": 5,
   "metadata": {},
   "outputs": [
    {
     "name": "stdout",
     "output_type": "stream",
     "text": [
      "1 -> 9 -> 9 -> None\n"
     ]
    }
   ],
   "source": [
    "head = ListNode(1)\n",
    "node1 = ListNode(9)\n",
    "node2 = ListNode(9)\n",
    "head.next = node1\n",
    "node1.next = node2\n",
    "node2.next = None\n",
    "\n",
    "printLinkedList(head)"
   ]
  },
  {
   "cell_type": "code",
   "execution_count": 6,
   "metadata": {},
   "outputs": [
    {
     "name": "stdout",
     "output_type": "stream",
     "text": [
      "9 -> 9 -> 1 -> None\n"
     ]
    }
   ],
   "source": [
    "reverse = Solution2().reverse(head)\n",
    "printLinkedList(reverse)"
   ]
  },
  {
   "cell_type": "code",
   "execution_count": 7,
   "metadata": {},
   "outputs": [
    {
     "name": "stdout",
     "output_type": "stream",
     "text": [
      "2 -> None\n"
     ]
    }
   ],
   "source": [
    "new_head = Solution2().addOne(head)\n",
    "\n",
    "printLinkedList(new_head)"
   ]
  },
  {
   "attachments": {},
   "cell_type": "markdown",
   "metadata": {},
   "source": [
    "#  💡 **Question 3**\n",
    "\n",
    "Given a Linked List of size N, where every ListNode represents a sub-linked-list and contains two pointers:(i) a **next** pointer to the next ListNode,(ii) a **bottom** pointer to a linked list where this ListNode is head.Each of the sub-linked-list is in sorted order.Flatten the Link List such that all the ListNodes appear in a single level while maintaining the sorted order. **Note:** The flattened list will be printed using the bottom pointer instead of next pointer.\n",
    "\n",
    "**Example 1:**\n",
    "\n",
    "```\n",
    "Input:\n",
    "5 -> 10 -> 19 -> 28\n",
    "|     |     |     |\n",
    "7     20    22   35\n",
    "|           |     |\n",
    "8          50    40\n",
    "|                 |\n",
    "30               45\n",
    "Output: 5-> 7-> 8- > 10 -> 19-> 20->\n",
    "22-> 28-> 30-> 35-> 40-> 45-> 50.\n",
    "Explanation:\n",
    "The resultant linked lists has every\n",
    "ListNode in a single level.(Note:| represents the bottom pointer.)\n",
    "\n",
    "```\n",
    "\n",
    "**Example 2:**\n",
    "\n",
    "```\n",
    "Input:\n",
    "5 -> 10 -> 19 -> 28\n",
    "|          |\n",
    "7          22\n",
    "|          |\n",
    "8          50\n",
    "|\n",
    "30\n",
    "Output: 5->7->8->10->19->22->28->30->50\n",
    "Explanation:\n",
    "The resultant linked lists has every\n",
    "ListNode in a single level.\n",
    "\n",
    "(Note:| represents the bottom pointer.)\n",
    "```"
   ]
  },
  {
   "cell_type": "code",
   "execution_count": 28,
   "metadata": {},
   "outputs": [],
   "source": [
    "class Solution3:\n",
    "    def mergeSort(self, h1: ListNode, h2: ListNode) -> ListNode:\n",
    "        if not h1:\n",
    "            return h2\n",
    "        if not h2:\n",
    "            return h1\n",
    "\n",
    "        merged = None\n",
    "\n",
    "        if h1.val < h2.val:\n",
    "            merged = h1\n",
    "            merged.bottom = self.mergeSort(h1.bottom, h2)\n",
    "        else:\n",
    "            merged = h2\n",
    "            merged.bottom = self.mergeSort(h1, h2.bottom)\n",
    "\n",
    "        return merged\n",
    "\n",
    "    def flatten(self, head: ListNode) -> ListNode:\n",
    "        if not head or not head.next:\n",
    "            return head\n",
    "\n",
    "        return self.mergeSort(head, self.flatten(head.next))\n"
   ]
  },
  {
   "cell_type": "code",
   "execution_count": 27,
   "metadata": {},
   "outputs": [],
   "source": [
    "# Create the multi-level linked list\n",
    "head = ListNode(5)\n",
    "head.next = ListNode(10)\n",
    "head.next.next = ListNode(19)\n",
    "head.next.next.next = ListNode(28)\n",
    "\n",
    "head.bottom = ListNode(7)\n",
    "head.bottom.bottom = ListNode(8)\n",
    "head.bottom.bottom.bottom = ListNode(30)\n",
    "# head.bottom.bottom.bottom.bottom = None\n",
    "\n",
    "head.next.bottom = ListNode(20)\n",
    "# head.next.bottom.bottom = None\n",
    "\n",
    "head.next.next.bottom = ListNode(22)\n",
    "head.next.next.bottom.bottom = ListNode(50)\n",
    "# head.next.next.bottom.bottom.bottom = None\n",
    "\n",
    "head.next.next.next.bottom = ListNode(35)\n",
    "head.next.next.next.bottom.bottom = ListNode(40)\n",
    "head.next.next.next.bottom.bottom.bottom = ListNode(45)\n",
    "# head.next.next.next.bottom.bottom.bottom.bottom = None"
   ]
  },
  {
   "cell_type": "code",
   "execution_count": 29,
   "metadata": {},
   "outputs": [],
   "source": [
    "new_head = Solution3().flatten(head)"
   ]
  },
  {
   "cell_type": "code",
   "execution_count": 34,
   "metadata": {},
   "outputs": [
    {
     "name": "stdout",
     "output_type": "stream",
     "text": [
      "5->7->8->10->19->20->22->28->30->35->40->45->50->None\n"
     ]
    }
   ],
   "source": [
    "current = new_head\n",
    "while current:\n",
    "    print(current.val, end=\"->\")\n",
    "    current = current.bottom\n",
    "print(None)"
   ]
  },
  {
   "attachments": {},
   "cell_type": "markdown",
   "metadata": {},
   "source": [
    "#  💡 **Question 4**\n",
    "\n",
    "You are given a special linked list with **N** nodes where each node has a next pointer pointing to its next node. You are also given **M** random pointers, where you will be given **M** number of pairs denoting two nodes **a** and **b**  **i.e. a->arb = b** (arb is pointer to random node)**.**\n",
    "\n",
    "Construct a copy of the given list. The copy should consist of exactly **N** new nodes, where each new node has its value set to the value of its corresponding original node. Both the next and random pointer of the new nodes should point to new nodes in the copied list such that the pointers in the original list and copied list represent the same list state. None of the pointers in the new list should point to nodes in the original list.\n",
    "\n",
    "For example, if there are two nodes **X** and **Y** in the original list, where **X.arb** **-->** **Y**, then for the corresponding two nodes **x** and **y** in the copied list, **x.arb --> y.**\n",
    "\n",
    "Return the head of the copied linked list.\n",
    "\n",
    "![image](https://contribute.geeksforgeeks.org/wp-content/uploads/clone.jpg)\n",
    "\n",
    "**Note** :- The diagram isn't part of any example, it just depicts an example of how the linked list may look like.\n",
    "\n",
    "**Example 1:**\n",
    "\n",
    "```\n",
    "Input:\n",
    "N = 4, M = 2\n",
    "value = {1,2,3,4}\n",
    "pairs = {{1,2},{2,4}}\n",
    "Output:1\n",
    "Explanation:In this test case, there\n",
    "are 4 nodes in linked list.  Among these\n",
    "4 nodes,  2 nodes have arbitrary pointer\n",
    "set, rest two nodes have arbitrary pointer\n",
    "as NULL. Second line tells us the value\n",
    "of four nodes. The third line gives the\n",
    "information about arbitrary pointers.\n",
    "The first node arbitrary pointer is set to\n",
    "node 2.  The second node arbitrary pointer\n",
    "is set to node 4.\n",
    "\n",
    "```\n",
    "\n",
    "**Example 2:**\n",
    "\n",
    "```\n",
    "Input:\n",
    "N = 4, M = 2\n",
    "value[] = {1,3,5,9}\n",
    "pairs[] = {{1,1},{3,4}}\n",
    "Output:1\n",
    "Explanation:In the given testcase ,\n",
    "applying the method as stated in the\n",
    "above example, the output will be 1.\n",
    "```"
   ]
  },
  {
   "cell_type": "code",
   "execution_count": 1,
   "metadata": {},
   "outputs": [
    {
     "name": "stdout",
     "output_type": "stream",
     "text": [
      "The original linked list:\n",
      "1(3) -> 2(1) -> 3(5) -> 4(3) -> 5(2)\n",
      "The cloned linked list:\n",
      "1(3) -> 2(1) -> 3(5) -> 4(3) -> 5(2)\n"
     ]
    }
   ],
   "source": [
    "\n",
    "# Structure of a node of linked list\n",
    "class Node:\n",
    "    def __init__(self, val):\n",
    "        self.val = val\n",
    "        self.next = None\n",
    "        self.arbit = None\n",
    " \n",
    "# Function to clone the linked list\n",
    "def cloneLinkedList(head):\n",
    "    # Map to store the mapping of\n",
    "    # old nodes with new ones\n",
    "    mp = {}\n",
    "    temp = head\n",
    "    nhead = Node(temp.val)\n",
    "    mp[temp] = nhead\n",
    " \n",
    "    # Loop to create duplicates of nodes\n",
    "    # with only next pointer\n",
    "    while temp.next:\n",
    "        nhead.next = Node(temp.next.val)\n",
    "        temp = temp.next\n",
    "        nhead = nhead.next\n",
    "        mp[temp] = nhead\n",
    " \n",
    "    temp = head\n",
    " \n",
    "    # Loop to clone the arbit pointers\n",
    "    while temp:\n",
    "        mp[temp].arbit = mp[temp.arbit]\n",
    "        temp = temp.next\n",
    " \n",
    "    # Return the head of the clone\n",
    "    return mp[head]\n",
    " \n",
    "# Function to print the linked list\n",
    "def printList(head):\n",
    "    result = []\n",
    "    while head:\n",
    "        result.append(f\"{head.val}({head.arbit.val})\")\n",
    "        head = head.next\n",
    "    print(\" -> \".join(result))\n",
    " \n",
    "# Creating a linked list with random pointer\n",
    "head = Node(1)\n",
    "head.next = Node(2)\n",
    "head.next.next = Node(3)\n",
    "head.next.next.next = Node(4)\n",
    "head.next.next.next.next = Node(5)\n",
    "head.arbit = head.next.next\n",
    "head.next.arbit = head\n",
    "head.next.next.arbit = head.next.next.next.next\n",
    "head.next.next.next.arbit = head.next.next\n",
    "head.next.next.next.next.arbit = head.next\n",
    " \n",
    "# Print the original list\n",
    "print(\"The original linked list:\")\n",
    "printList(head)\n",
    " \n",
    "# Function call\n",
    "sol = cloneLinkedList(head)\n",
    " \n",
    "print(\"The cloned linked list:\")\n",
    "printList(sol)"
   ]
  },
  {
   "attachments": {},
   "cell_type": "markdown",
   "metadata": {},
   "source": [
    "#  💡 **Question 5**\n",
    "\n",
    "Given the `head` of a singly linked list, group all the nodes with odd indices together followed by the nodes with even indices, and return *the reordered list*.\n",
    "\n",
    "The **first** node is considered **odd**, and the **second** node is **even**, and so on.\n",
    "\n",
    "Note that the relative order inside both the even and odd groups should remain as it was in the input.\n",
    "\n",
    "You must solve the problem in `O(1)` extra space complexity and `O(n)` time complexity.\n",
    "\n",
    "**Example 1:**\n",
    "\n",
    "![image](https://assets.leetcode.com/uploads/2021/03/10/oddeven-linked-list.jpg)\n",
    "\n",
    "```\n",
    "Input: head = [1,2,3,4,5]\n",
    "Output: [1,3,5,2,4]\n",
    "\n",
    "```\n",
    "\n",
    "**Example 2:**\n",
    "\n",
    "![image](https://pwskills.notion.site/image/https%3A%2F%2Fassets.leetcode.com%2Fuploads%2F2021%2F03%2F10%2Foddeven2-linked-list.jpg?id=d65e07e9-88ca-432c-81bd-06b38ccd8cd4&table=block&spaceId=6fae2e0f-dedc-48e9-bc59-af2654c78209&width=1000&userId=&cache=v2)\n",
    "```\n",
    "Input: head = [2,1,3,5,6,4,7]\n",
    "Output: [2,3,6,7,1,5,4]\n",
    "```"
   ]
  },
  {
   "cell_type": "code",
   "execution_count": 11,
   "metadata": {},
   "outputs": [],
   "source": [
    "class Solution5:\n",
    "    def reorder(self, head: ListNode)-> ListNode:\n",
    "        if not head or not head.next or not head.next.next:\n",
    "            return head\n",
    "\n",
    "        odd_head = head\n",
    "        even_head = head.next\n",
    "        p1 = head.next.next\n",
    "        odd_tail = odd_head\n",
    "        even_tail = even_head\n",
    "        count = 3\n",
    "\n",
    "        while p1:\n",
    "            if count % 2 == 0:\n",
    "                even_tail.next = p1\n",
    "                even_tail = even_tail.next\n",
    "            else:\n",
    "                odd_tail.next = p1\n",
    "                odd_tail = odd_tail.next\n",
    "            p1 = p1.next\n",
    "            count += 1\n",
    "\n",
    "        odd_tail.next = even_head\n",
    "        even_tail.next = None\n",
    "\n",
    "        return odd_head\n"
   ]
  },
  {
   "cell_type": "code",
   "execution_count": 12,
   "metadata": {},
   "outputs": [
    {
     "name": "stdout",
     "output_type": "stream",
     "text": [
      "1 -> 2 -> 3 -> 4 -> 5 -> None\n"
     ]
    }
   ],
   "source": [
    "values = [1,2,3,4,5]\n",
    "nodes = [ListNode(i) for i in values]\n",
    "\n",
    "for i in range(len(values)-1):\n",
    "    nodes[i].next = nodes[i+1]\n",
    "\n",
    "printLinkedList(nodes[0]) "
   ]
  },
  {
   "cell_type": "code",
   "execution_count": 13,
   "metadata": {},
   "outputs": [
    {
     "name": "stdout",
     "output_type": "stream",
     "text": [
      "1 -> 3 -> 5 -> 2 -> 4 -> None\n"
     ]
    }
   ],
   "source": [
    "new_head = Solution5().reorder(nodes[0])\n",
    "\n",
    "printLinkedList(new_head)"
   ]
  },
  {
   "attachments": {},
   "cell_type": "markdown",
   "metadata": {},
   "source": [
    "#  💡 **Question 6**\n",
    "\n",
    "Given a singly linked list of size **N**. The task is to **left-shift** the linked list by **k** nodes, where **k** is a given positive integer smaller than or equal to length of the linked list.\n",
    "\n",
    "**Example 1:**\n",
    "\n",
    "```\n",
    "Input:\n",
    "N = 5\n",
    "value[] = {2, 4, 7, 8, 9}\n",
    "k = 3\n",
    "Output:8 9 2 4 7\n",
    "Explanation:Rotate 1:4 -> 7 -> 8 -> 9 -> 2\n",
    "Rotate 2: 7 -> 8 -> 9 -> 2 -> 4\n",
    "Rotate 3: 8 -> 9 -> 2 -> 4 -> 7\n",
    "\n",
    "```\n",
    "\n",
    "**Example 2:**\n",
    "\n",
    "```\n",
    "Input:\n",
    "N = 8\n",
    "value[] = {1, 2, 3, 4, 5, 6, 7, 8}\n",
    "k = 4\n",
    "Output:5 6 7 8 1 2 3 4\n",
    "```"
   ]
  },
  {
   "cell_type": "code",
   "execution_count": 26,
   "metadata": {},
   "outputs": [],
   "source": [
    "class Solution6:\n",
    "    def leftShift(self, head: ListNode, k: int)->ListNode:\n",
    "        if not head or not head.next:\n",
    "            return head\n",
    "        \n",
    "        # find the no of nodes and the last node\n",
    "        N = 1\n",
    "        tail = head\n",
    "\n",
    "        while tail.next:\n",
    "            N += 1\n",
    "            tail = tail.next\n",
    "\n",
    "        # find least no of rotations\n",
    "        rotation = k%N\n",
    "\n",
    "        # rotate the linked list\n",
    "        if not rotation:\n",
    "            return head\n",
    "        \n",
    "        new_tail = head\n",
    "\n",
    "        for _ in range(N-rotation-1):\n",
    "            new_tail = new_tail.next\n",
    "\n",
    "        new_head = new_tail.next\n",
    "        new_tail.next = None\n",
    "        tail.next = head\n",
    "\n",
    "        return new_head\n"
   ]
  },
  {
   "cell_type": "code",
   "execution_count": 27,
   "metadata": {},
   "outputs": [
    {
     "name": "stdout",
     "output_type": "stream",
     "text": [
      "2 -> 4 -> 7 -> 8 -> 9 -> None\n",
      "7 -> 8 -> 9 -> 2 -> 4 -> None\n"
     ]
    }
   ],
   "source": [
    "values = [2,4,7,8,9]\n",
    "nodes = [ListNode(i) for i in values]\n",
    "\n",
    "for i in range(len(values)-1):\n",
    "    nodes[i].next = nodes[i+1]\n",
    "\n",
    "printLinkedList(nodes[0]) \n",
    "\n",
    "new_head = Solution6().leftShift(nodes[0], 3)\n",
    "\n",
    "printLinkedList(new_head) "
   ]
  },
  {
   "attachments": {},
   "cell_type": "markdown",
   "metadata": {},
   "source": [
    "#  💡 **Question 7**\n",
    "\n",
    "You are given the `head` of a linked list with `n` nodes.\n",
    "\n",
    "For each node in the list, find the value of the **next greater node**. That is, for each node, find the value of the first node that is next to it and has a **strictly larger** value than it.\n",
    "\n",
    "Return an integer array `answer` where `answer[i]` is the value of the next greater node of the `ith` node (**1-indexed**). If the `ith` node does not have a next greater node, set `answer[i] = 0`.\n",
    "\n",
    "**Example 1:**\n",
    "\n",
    "![img](https://assets.leetcode.com/uploads/2021/08/05/linkedlistnext1.jpg)\n",
    "\n",
    "```\n",
    "Input: head = [2,1,5]\n",
    "Output: [5,5,0]\n",
    "\n",
    "```\n",
    "\n",
    "**Example 2:**\n",
    "\n",
    "![img](https://assets.leetcode.com/uploads/2021/08/05/linkedlistnext2.jpg)\n",
    "\n",
    "```\n",
    "Input: head = [2,7,4,3,5]\n",
    "Output: [7,0,5,5,0]\n",
    "```"
   ]
  },
  {
   "cell_type": "code",
   "execution_count": 37,
   "metadata": {},
   "outputs": [],
   "source": [
    "from typing import List, Optional\n",
    "\n",
    "\n",
    "class Solution7:\n",
    "    def nextLargerNodes(self, head: Optional[ListNode]) -> List[int]:\n",
    "        if not head.next: return [0]\n",
    "        res = []\n",
    "        p1 = head\n",
    "\n",
    "        while p1:\n",
    "            if not p1.next:\n",
    "                res.append(0)\n",
    "                return res\n",
    "            else:\n",
    "                p2 = p1.next\n",
    "                next_greater = 0\n",
    "\n",
    "                while p2:\n",
    "                    if p2.val > p1.val:\n",
    "                        next_greater = p2.val\n",
    "                        break\n",
    "                    else:\n",
    "                        p2 = p2.next\n",
    "\n",
    "                res.append(next_greater)\n",
    "\n",
    "            p1 = p1.next\n"
   ]
  },
  {
   "cell_type": "code",
   "execution_count": 79,
   "metadata": {},
   "outputs": [],
   "source": [
    "from typing import List, Optional\n",
    "\n",
    "\n",
    "class Solution7:\n",
    "    def nextLargerNodes(self, head: Optional[ListNode]) -> List[int]:\n",
    "        pos = 0\n",
    "        ans, stack = [], []\n",
    "\n",
    "        while head:\n",
    "            ans.append(0)\n",
    "\n",
    "            while stack and stack[-1][1] < head.val:\n",
    "                idx, value = stack.pop()\n",
    "                ans[idx] = head.val\n",
    "\n",
    "            stack.append((pos, head.val))\n",
    "            pos += 1\n",
    "            head = head.next\n",
    "\n",
    "        return ans\n"
   ]
  },
  {
   "cell_type": "code",
   "execution_count": 80,
   "metadata": {},
   "outputs": [
    {
     "name": "stdout",
     "output_type": "stream",
     "text": [
      "2 -> 7 -> 4 -> 3 -> 5 -> None\n"
     ]
    }
   ],
   "source": [
    "values = [2,7,4,3,5]\n",
    "nodes = [ListNode(i) for i in values]\n",
    "\n",
    "for i in range(len(values)-1):\n",
    "    nodes[i].next = nodes[i+1]\n",
    "\n",
    "printLinkedList(nodes[0]) "
   ]
  },
  {
   "cell_type": "code",
   "execution_count": 81,
   "metadata": {},
   "outputs": [
    {
     "data": {
      "text/plain": [
       "[7, 0, 5, 5, 0]"
      ]
     },
     "execution_count": 81,
     "metadata": {},
     "output_type": "execute_result"
    }
   ],
   "source": [
    "Solution7().nextLargerNodes(nodes[0])"
   ]
  },
  {
   "attachments": {},
   "cell_type": "markdown",
   "metadata": {},
   "source": [
    "#  💡 **Question 8**\n",
    "\n",
    "Given the `head` of a linked list, we repeatedly delete consecutive sequences of nodes that sum to `0` until there are no such sequences.\n",
    "\n",
    "After doing so, return the head of the final linked list.  You may return any such answer.\n",
    "\n",
    "(Note that in the examples below, all sequences are serializations of `ListNode` objects.)\n",
    "\n",
    "**Example 1:**\n",
    "\n",
    "```\n",
    "Input: head = [1,2,-3,3,1]\n",
    "Output: [3,1]\n",
    "Note: The answer [1,2,1] would also be accepted.\n",
    "\n",
    "```\n",
    "\n",
    "**Example 2:**\n",
    "\n",
    "```\n",
    "Input: head = [1,2,3,-3,4]\n",
    "Output: [1,2,4]\n",
    "\n",
    "```\n",
    "\n",
    "**Example 3:**\n",
    "\n",
    "```\n",
    "Input: head = [1,2,3,-3,-2]\n",
    "Output: [1]\n",
    "```"
   ]
  },
  {
   "cell_type": "code",
   "execution_count": 67,
   "metadata": {},
   "outputs": [],
   "source": [
    "class Solution8:\n",
    "    def delete_elements_after_key(self, dictionary, key):\n",
    "        keys_list = list(dictionary.keys())\n",
    "        index = keys_list.index(key) + 1  # Index after the specified key\n",
    "        updated_keys = keys_list[:index]\n",
    "        updated_dict = {k: dictionary[k] for k in updated_keys}\n",
    "        return updated_dict\n",
    "    \n",
    "    def removeZeroSumSublists(self, head: Optional[ListNode]) -> Optional[ListNode]:\n",
    "        sums = {}\n",
    "        current = head\n",
    "        curr_sum = 0\n",
    "\n",
    "        while current:\n",
    "            curr_sum += current.val\n",
    "\n",
    "            if curr_sum == 0:\n",
    "                sums = {}\n",
    "                head = current.next\n",
    "\n",
    "            elif curr_sum in sums:\n",
    "                sums[curr_sum].next = current.next\n",
    "                sums = self.delete_elements_after_key(sums, curr_sum)\n",
    "            \n",
    "            else:\n",
    "                sums[curr_sum] = current\n",
    "            current = current.next\n",
    "\n",
    "        return head"
   ]
  },
  {
   "cell_type": "code",
   "execution_count": 68,
   "metadata": {},
   "outputs": [
    {
     "name": "stdout",
     "output_type": "stream",
     "text": [
      "1 -> 2 -> -3 -> 3 -> 1 -> None\n"
     ]
    }
   ],
   "source": [
    "values = [1,2,-3,3,1]\n",
    "nodes = [ListNode(i) for i in values]\n",
    "\n",
    "for i in range(len(values)-1):\n",
    "    nodes[i].next = nodes[i+1]\n",
    "\n",
    "printLinkedList(nodes[0]) "
   ]
  },
  {
   "cell_type": "code",
   "execution_count": 69,
   "metadata": {},
   "outputs": [
    {
     "name": "stdout",
     "output_type": "stream",
     "text": [
      "3 -> 1 -> None\n"
     ]
    }
   ],
   "source": [
    "new_head = Solution8().removeZeroSumSublists(nodes[0])\n",
    "\n",
    "printLinkedList(new_head)"
   ]
  },
  {
   "cell_type": "code",
   "execution_count": 70,
   "metadata": {},
   "outputs": [
    {
     "name": "stdout",
     "output_type": "stream",
     "text": [
      "1 -> 2 -> 3 -> -3 -> 4 -> None\n",
      "1 -> 2 -> 4 -> None\n"
     ]
    }
   ],
   "source": [
    "values = [1,2,3,-3,4]\n",
    "nodes = [ListNode(i) for i in values]\n",
    "\n",
    "for i in range(len(values)-1):\n",
    "    nodes[i].next = nodes[i+1]\n",
    "\n",
    "printLinkedList(nodes[0]) \n",
    "\n",
    "new_head = Solution8().removeZeroSumSublists(nodes[0])\n",
    "\n",
    "printLinkedList(new_head)"
   ]
  },
  {
   "cell_type": "code",
   "execution_count": 71,
   "metadata": {},
   "outputs": [
    {
     "name": "stdout",
     "output_type": "stream",
     "text": [
      "1 -> 2 -> 3 -> -3 -> -2 -> None\n",
      "1 -> None\n"
     ]
    }
   ],
   "source": [
    "\n",
    "values = [1,2,3,-3,-2]\n",
    "nodes = [ListNode(i) for i in values]\n",
    "\n",
    "for i in range(len(values)-1):\n",
    "    nodes[i].next = nodes[i+1]\n",
    "\n",
    "printLinkedList(nodes[0]) \n",
    "\n",
    "new_head = Solution8().removeZeroSumSublists(nodes[0])\n",
    "\n",
    "printLinkedList(new_head)"
   ]
  },
  {
   "cell_type": "code",
   "execution_count": 72,
   "metadata": {},
   "outputs": [
    {
     "name": "stdout",
     "output_type": "stream",
     "text": [
      "1 -> 3 -> 2 -> -3 -> -2 -> 5 -> 5 -> -5 -> 1 -> None\n",
      "1 -> 5 -> 1 -> None\n"
     ]
    }
   ],
   "source": [
    "values = [1,3,2,-3,-2,5,5,-5,1]\n",
    "nodes = [ListNode(i) for i in values]\n",
    "\n",
    "for i in range(len(values)-1):\n",
    "    nodes[i].next = nodes[i+1]\n",
    "\n",
    "printLinkedList(nodes[0]) \n",
    "\n",
    "new_head = Solution8().removeZeroSumSublists(nodes[0])\n",
    "\n",
    "printLinkedList(new_head)"
   ]
  },
  {
   "cell_type": "code",
   "execution_count": null,
   "metadata": {},
   "outputs": [],
   "source": []
  }
 ],
 "metadata": {
  "kernelspec": {
   "display_name": "PPT",
   "language": "python",
   "name": "python3"
  },
  "language_info": {
   "codemirror_mode": {
    "name": "ipython",
    "version": 3
   },
   "file_extension": ".py",
   "mimetype": "text/x-python",
   "name": "python",
   "nbconvert_exporter": "python",
   "pygments_lexer": "ipython3",
   "version": "3.10.11"
  },
  "orig_nbformat": 4
 },
 "nbformat": 4,
 "nbformat_minor": 2
}
